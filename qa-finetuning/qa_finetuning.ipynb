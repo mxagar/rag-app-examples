{
 "cells": [
  {
   "cell_type": "markdown",
   "id": "3db1d14a",
   "metadata": {},
   "source": [
    "# Fine-tuning a Question-Answering (QA) Model with HuggingFace"
   ]
  },
  {
   "cell_type": "markdown",
   "id": "535c99b8",
   "metadata": {},
   "source": [
    "This examples shows how to train a Question-Answering Model using HuggingFace.\n",
    "\n",
    "The example was taken from one of the lectures of the [Udacity Generative AI Nanodegree](), and it uses several snippets from the repository of the [HuggingFace Examples](https://github.com/huggingface/transformers/blob/main/examples/pytorch/question-answering/trainer_qa.py).\n",
    "\n",
    "The example uses the [SQuAD 2.0](https://arxiv.org/abs/1806.03822) format, in which each QA pair is formatted as follows\n",
    "\n",
    "```python\n",
    "{\n",
    "  'id': 'xxx',\n",
    "  'title': 'my title',\n",
    "  'context': 'Here the complete context or text document is added.', # our document\n",
    "  'question': 'What is...?', # our question\n",
    "  'answers': {\n",
    "    'text': ['1925'], # list of answers (list(str))\n",
    "    'answer_start': [354] # the chars in context where the answer text starts (list(int))\n",
    "  }\n",
    "}\n",
    "```\n",
    "\n",
    "As we can see, the QA example is *extractive* (the answer is in the text), and not *abstractive* (the answer is deduced).\n"
   ]
  },
  {
   "cell_type": "markdown",
   "id": "8f83e437",
   "metadata": {},
   "source": [
    "## Imports"
   ]
  },
  {
   "cell_type": "code",
   "execution_count": 8,
   "id": "3c96dcf4",
   "metadata": {},
   "outputs": [],
   "source": [
    "import pathlib\n",
    "import pandas as pd\n",
    "from datasets import Dataset, load_from_disk\n",
    "from transformers import (\n",
    "    AutoTokenizer,\n",
    "    AutoModelForQuestionAnswering,\n",
    "    EvalPrediction,\n",
    "    Trainer,\n",
    "    default_data_collator,\n",
    "    pipeline,\n",
    ")\n",
    "from transformers.trainer_utils import PredictionOutput, speed_metrics\n",
    "import math\n",
    "import time\n",
    "import collections\n",
    "import numpy as np\n",
    "from tqdm.notebook import tqdm"
   ]
  },
  {
   "cell_type": "markdown",
   "id": "889b417b",
   "metadata": {},
   "source": [
    "## Dataset: Apply Correct Format"
   ]
  },
  {
   "cell_type": "markdown",
   "id": "4dbf2b8c",
   "metadata": {},
   "source": [
    "Our *dummy* dataset is about AP controllers (Access Point) -- it is very technical.\n",
    "\n",
    "The dataset consists of 10 QA pairs in [`data/qa.csv`](./data/qa.csv); in that dataframe, we have three columns\n",
    "\n",
    "- `question`\n",
    "- `answer`\n",
    "- `filename`: this field points to any of two TXT documents ([`CVE-2020-29583.txt`](./data/CVE-2020-29583.txt) and [`xss.txt`](./data/xss.txt)), where the context for the answer is provided.\n",
    "\n",
    "We need to transform the dataset CSV to the [SQuAD 2.0](https://arxiv.org/abs/1806.03822) format above, i.e., a list of dictionaries."
   ]
  },
  {
   "cell_type": "code",
   "execution_count": 9,
   "id": "4766ca2c",
   "metadata": {},
   "outputs": [
    {
     "data": {
      "text/html": [
       "<div>\n",
       "<style scoped>\n",
       "    .dataframe tbody tr th:only-of-type {\n",
       "        vertical-align: middle;\n",
       "    }\n",
       "\n",
       "    .dataframe tbody tr th {\n",
       "        vertical-align: top;\n",
       "    }\n",
       "\n",
       "    .dataframe thead th {\n",
       "        text-align: right;\n",
       "    }\n",
       "</style>\n",
       "<table border=\"1\" class=\"dataframe\">\n",
       "  <thead>\n",
       "    <tr style=\"text-align: right;\">\n",
       "      <th></th>\n",
       "      <th>question</th>\n",
       "      <th>answer</th>\n",
       "      <th>filename</th>\n",
       "    </tr>\n",
       "  </thead>\n",
       "  <tbody>\n",
       "    <tr>\n",
       "      <th>0</th>\n",
       "      <td>Who is the manufacturer of the product?</td>\n",
       "      <td>Zyxel</td>\n",
       "      <td>CVE-2020-29583.txt</td>\n",
       "    </tr>\n",
       "    <tr>\n",
       "      <th>1</th>\n",
       "      <td>Who reported the vulnerability?</td>\n",
       "      <td>researchers from EYE Netherlands</td>\n",
       "      <td>CVE-2020-29583.txt</td>\n",
       "    </tr>\n",
       "    <tr>\n",
       "      <th>2</th>\n",
       "      <td>What is the vulnerability?</td>\n",
       "      <td>A hardcoded credential vulnerability was ident...</td>\n",
       "      <td>CVE-2020-29583.txt</td>\n",
       "    </tr>\n",
       "    <tr>\n",
       "      <th>3</th>\n",
       "      <td>How do users protect themselves?</td>\n",
       "      <td>we urge users to install the applicable updates</td>\n",
       "      <td>CVE-2020-29583.txt</td>\n",
       "    </tr>\n",
       "    <tr>\n",
       "      <th>4</th>\n",
       "      <td>What products are affected?</td>\n",
       "      <td>firewalls and AP controllers</td>\n",
       "      <td>CVE-2020-29583.txt</td>\n",
       "    </tr>\n",
       "  </tbody>\n",
       "</table>\n",
       "</div>"
      ],
      "text/plain": [
       "                                  question  \\\n",
       "0  Who is the manufacturer of the product?   \n",
       "1          Who reported the vulnerability?   \n",
       "2               What is the vulnerability?   \n",
       "3         How do users protect themselves?   \n",
       "4              What products are affected?   \n",
       "\n",
       "                                              answer            filename  \n",
       "0                                              Zyxel  CVE-2020-29583.txt  \n",
       "1                   researchers from EYE Netherlands  CVE-2020-29583.txt  \n",
       "2  A hardcoded credential vulnerability was ident...  CVE-2020-29583.txt  \n",
       "3    we urge users to install the applicable updates  CVE-2020-29583.txt  \n",
       "4                       firewalls and AP controllers  CVE-2020-29583.txt  "
      ]
     },
     "execution_count": 9,
     "metadata": {},
     "output_type": "execute_result"
    }
   ],
   "source": [
    "df = pd.read_csv(\"data/qa.csv\")\n",
    "df.head()"
   ]
  },
  {
   "cell_type": "code",
   "execution_count": 19,
   "id": "22915496",
   "metadata": {},
   "outputs": [],
   "source": [
    "def qa_to_squad(\n",
    "    question: str,\n",
    "    answer: str,\n",
    "    filename: str,\n",
    "    identifier: str\n",
    ") -> dict:\n",
    "    filepath = pathlib.Path(\"data\") / filename\n",
    "    with open(filepath, \"r\") as f:\n",
    "        context = f.read()\n",
    "    \n",
    "    # Assuming the answer appears exactly in the context\n",
    "    # find where the answer starts in the context\n",
    "    start_location = context.find(answer)\n",
    "    qa_pair = {\n",
    "        'id': identifier,\n",
    "        'title': filepath.as_posix(),\n",
    "        'context': context,\n",
    "        'question': question,\n",
    "        'answers': {\n",
    "            'text': [answer],\n",
    "            'answer_start': [start_location]\n",
    "        }\n",
    "    }\n",
    "    return qa_pair"
   ]
  },
  {
   "cell_type": "code",
   "execution_count": 20,
   "id": "738de15f",
   "metadata": {},
   "outputs": [],
   "source": [
    "# Build a list of dictionaries\n",
    "# being each dict the QA pair/row in SQuAD format\n",
    "qa_list = list()\n",
    "for i, row in df.iterrows():\n",
    "    q = row['question']\n",
    "    a = row['answer']\n",
    "    f = row['filename']\n",
    "    squad_dict = qa_to_squad(q, a, f, i)\n",
    "    qa_list.append(squad_dict)"
   ]
  },
  {
   "cell_type": "code",
   "execution_count": 21,
   "id": "80c5f982",
   "metadata": {},
   "outputs": [
    {
     "name": "stdout",
     "output_type": "stream",
     "text": [
      "{'id': 0, 'title': 'data/CVE-2020-29583.txt', 'context': 'CVE:   CVE-2020-29583 Summary Zyxel has released a patch for the hardcoded credential vulnerability of firewalls and AP controllers recently reported by researchers from EYE Netherlands. Users are advised to install the applicable firmware updates for optimal protection. What is the vulnerability? A hardcoded credential vulnerability was identified in the “zyfwp” user account in some Zyxel firewalls and AP controllers. The account was designed to deliver automatic firmware updates to connected access points through FTP. What versions are vulnerable—and what should you do? After a thorough investigation, we’ve identified the vulnerable products and are releasing firmware patches to address the issue, as shown in the table below. For optimal protection, we urge users to install the applicable updates. For those not listed, they are not affected. Contact your local Zyxel support team if you require further assistance or visit our  forum  for more information. Got a question or a tipoff? Please contact your local service rep for further information or assistance. If you’ve found a vulnerability, we want to work with you to fix it—contact  security@zyxel.com.tw  and we’ll get right back to you. Acknowledgment Thanks to Niels Teusink at EYE for reporting the issue to us. Revision history 2020-12-23: Initial release 2020-12-24: Updated the acknowledgement section 2021-01-04: Updated the patch schedule for AP controllers 2021-01-08: Added the forum link', 'question': 'Who is the manufacturer of the product?', 'answers': {'answer_start': [30], 'text': ['Zyxel']}}\n"
     ]
    }
   ],
   "source": [
    "# Convert the list of dicts into a Dataset object\n",
    "# We need to use pandas as intermediate auxiliary library\n",
    "qa_df = pd.DataFrame(data=qa_list)\n",
    "data = Dataset.from_pandas(qa_df)\n",
    "print(data[0])\n",
    "# {'id': 0, 'title': 'data/qa/CVE-2020-29583.txt', 'context': 'CVE: ..."
   ]
  },
  {
   "cell_type": "code",
   "execution_count": 22,
   "id": "f064e4e1",
   "metadata": {},
   "outputs": [
    {
     "data": {
      "application/vnd.jupyter.widget-view+json": {
       "model_id": "fc7e91c554cb42389ba31368579cbc0f",
       "version_major": 2,
       "version_minor": 0
      },
      "text/plain": [
       "Saving the dataset (0/1 shards):   0%|          | 0/10 [00:00<?, ? examples/s]"
      ]
     },
     "metadata": {},
     "output_type": "display_data"
    }
   ],
   "source": [
    "# We can save the dataset to disk\n",
    "data.save_to_disk(\"data/qa_data.hf\")"
   ]
  },
  {
   "cell_type": "code",
   "execution_count": 24,
   "id": "907d04fa",
   "metadata": {},
   "outputs": [
    {
     "name": "stdout",
     "output_type": "stream",
     "text": [
      "{'id': 0, 'title': 'data/CVE-2020-29583.txt', 'context': 'CVE:   CVE-2020-29583 Summary Zyxel has released a patch for the hardcoded credential vulnerability of firewalls and AP controllers recently reported by researchers from EYE Netherlands. Users are advised to install the applicable firmware updates for optimal protection. What is the vulnerability? A hardcoded credential vulnerability was identified in the “zyfwp” user account in some Zyxel firewalls and AP controllers. The account was designed to deliver automatic firmware updates to connected access points through FTP. What versions are vulnerable—and what should you do? After a thorough investigation, we’ve identified the vulnerable products and are releasing firmware patches to address the issue, as shown in the table below. For optimal protection, we urge users to install the applicable updates. For those not listed, they are not affected. Contact your local Zyxel support team if you require further assistance or visit our  forum  for more information. Got a question or a tipoff? Please contact your local service rep for further information or assistance. If you’ve found a vulnerability, we want to work with you to fix it—contact  security@zyxel.com.tw  and we’ll get right back to you. Acknowledgment Thanks to Niels Teusink at EYE for reporting the issue to us. Revision history 2020-12-23: Initial release 2020-12-24: Updated the acknowledgement section 2021-01-04: Updated the patch schedule for AP controllers 2021-01-08: Added the forum link', 'question': 'Who is the manufacturer of the product?', 'answers': {'answer_start': [30], 'text': ['Zyxel']}}\n",
      "{'id': [0, 1, 2], 'title': ['data/CVE-2020-29583.txt', 'data/CVE-2020-29583.txt', 'data/CVE-2020-29583.txt'], 'context': ['CVE:   CVE-2020-29583 Summary Zyxel has released a patch for the hardcoded credential vulnerability of firewalls and AP controllers recently reported by researchers from EYE Netherlands. Users are advised to install the applicable firmware updates for optimal protection. What is the vulnerability? A hardcoded credential vulnerability was identified in the “zyfwp” user account in some Zyxel firewalls and AP controllers. The account was designed to deliver automatic firmware updates to connected access points through FTP. What versions are vulnerable—and what should you do? After a thorough investigation, we’ve identified the vulnerable products and are releasing firmware patches to address the issue, as shown in the table below. For optimal protection, we urge users to install the applicable updates. For those not listed, they are not affected. Contact your local Zyxel support team if you require further assistance or visit our  forum  for more information. Got a question or a tipoff? Please contact your local service rep for further information or assistance. If you’ve found a vulnerability, we want to work with you to fix it—contact  security@zyxel.com.tw  and we’ll get right back to you. Acknowledgment Thanks to Niels Teusink at EYE for reporting the issue to us. Revision history 2020-12-23: Initial release 2020-12-24: Updated the acknowledgement section 2021-01-04: Updated the patch schedule for AP controllers 2021-01-08: Added the forum link', 'CVE:   CVE-2020-29583 Summary Zyxel has released a patch for the hardcoded credential vulnerability of firewalls and AP controllers recently reported by researchers from EYE Netherlands. Users are advised to install the applicable firmware updates for optimal protection. What is the vulnerability? A hardcoded credential vulnerability was identified in the “zyfwp” user account in some Zyxel firewalls and AP controllers. The account was designed to deliver automatic firmware updates to connected access points through FTP. What versions are vulnerable—and what should you do? After a thorough investigation, we’ve identified the vulnerable products and are releasing firmware patches to address the issue, as shown in the table below. For optimal protection, we urge users to install the applicable updates. For those not listed, they are not affected. Contact your local Zyxel support team if you require further assistance or visit our  forum  for more information. Got a question or a tipoff? Please contact your local service rep for further information or assistance. If you’ve found a vulnerability, we want to work with you to fix it—contact  security@zyxel.com.tw  and we’ll get right back to you. Acknowledgment Thanks to Niels Teusink at EYE for reporting the issue to us. Revision history 2020-12-23: Initial release 2020-12-24: Updated the acknowledgement section 2021-01-04: Updated the patch schedule for AP controllers 2021-01-08: Added the forum link', 'CVE:   CVE-2020-29583 Summary Zyxel has released a patch for the hardcoded credential vulnerability of firewalls and AP controllers recently reported by researchers from EYE Netherlands. Users are advised to install the applicable firmware updates for optimal protection. What is the vulnerability? A hardcoded credential vulnerability was identified in the “zyfwp” user account in some Zyxel firewalls and AP controllers. The account was designed to deliver automatic firmware updates to connected access points through FTP. What versions are vulnerable—and what should you do? After a thorough investigation, we’ve identified the vulnerable products and are releasing firmware patches to address the issue, as shown in the table below. For optimal protection, we urge users to install the applicable updates. For those not listed, they are not affected. Contact your local Zyxel support team if you require further assistance or visit our  forum  for more information. Got a question or a tipoff? Please contact your local service rep for further information or assistance. If you’ve found a vulnerability, we want to work with you to fix it—contact  security@zyxel.com.tw  and we’ll get right back to you. Acknowledgment Thanks to Niels Teusink at EYE for reporting the issue to us. Revision history 2020-12-23: Initial release 2020-12-24: Updated the acknowledgement section 2021-01-04: Updated the patch schedule for AP controllers 2021-01-08: Added the forum link'], 'question': ['Who is the manufacturer of the product?', 'Who reported the vulnerability?', 'What is the vulnerability?'], 'answers': [{'answer_start': [30], 'text': ['Zyxel']}, {'answer_start': [153], 'text': ['researchers from EYE Netherlands']}, {'answer_start': [299], 'text': ['A hardcoded credential vulnerability was identified in the “zyfwp” user']}]}\n",
      "   id                    title  \\\n",
      "0   0  data/CVE-2020-29583.txt   \n",
      "1   1  data/CVE-2020-29583.txt   \n",
      "2   2  data/CVE-2020-29583.txt   \n",
      "3   3  data/CVE-2020-29583.txt   \n",
      "4   4  data/CVE-2020-29583.txt   \n",
      "\n",
      "                                             context  \\\n",
      "0  CVE:   CVE-2020-29583 Summary Zyxel has releas...   \n",
      "1  CVE:   CVE-2020-29583 Summary Zyxel has releas...   \n",
      "2  CVE:   CVE-2020-29583 Summary Zyxel has releas...   \n",
      "3  CVE:   CVE-2020-29583 Summary Zyxel has releas...   \n",
      "4  CVE:   CVE-2020-29583 Summary Zyxel has releas...   \n",
      "\n",
      "                                  question  \\\n",
      "0  Who is the manufacturer of the product?   \n",
      "1          Who reported the vulnerability?   \n",
      "2               What is the vulnerability?   \n",
      "3         How do users protect themselves?   \n",
      "4              What products are affected?   \n",
      "\n",
      "                                             answers  \n",
      "0          {'answer_start': [30], 'text': ['Zyxel']}  \n",
      "1  {'answer_start': [153], 'text': ['researchers ...  \n",
      "2  {'answer_start': [299], 'text': ['A hardcoded ...  \n",
      "3  {'answer_start': [762], 'text': ['we urge user...  \n",
      "4  {'answer_start': [103], 'text': ['firewalls an...  \n"
     ]
    }
   ],
   "source": [
    "# Load the dataset from disk\n",
    "loaded_data = load_from_disk(\"data/qa_data.hf\")\n",
    "\n",
    "# Inspect the first few entries\n",
    "print(loaded_data[0])         # Print the first example\n",
    "print(loaded_data[:3])        # Print the first three examples\n",
    "\n",
    "# Or convert to a pandas DataFrame for easier inspection\n",
    "df = loaded_data.to_pandas()\n",
    "print(df.head())"
   ]
  },
  {
   "cell_type": "code",
   "execution_count": null,
   "id": "024a6c16",
   "metadata": {},
   "outputs": [],
   "source": []
  }
 ],
 "metadata": {
  "kernelspec": {
   "display_name": "genai",
   "language": "python",
   "name": "python3"
  },
  "language_info": {
   "codemirror_mode": {
    "name": "ipython",
    "version": 3
   },
   "file_extension": ".py",
   "mimetype": "text/x-python",
   "name": "python",
   "nbconvert_exporter": "python",
   "pygments_lexer": "ipython3",
   "version": "3.10.18"
  }
 },
 "nbformat": 4,
 "nbformat_minor": 5
}
