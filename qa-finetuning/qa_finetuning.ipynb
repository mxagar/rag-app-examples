{
 "cells": [
  {
   "cell_type": "markdown",
   "id": "3db1d14a",
   "metadata": {},
   "source": [
    "# Fine-tuning a Question-Answering (QA) Model with HuggingFace"
   ]
  },
  {
   "cell_type": "markdown",
   "id": "535c99b8",
   "metadata": {},
   "source": [
    "This examples shows how to train a Question-Answering Model using HuggingFace.\n",
    "\n",
    "The example was taken from one of the lectures of the [Udacity Generative AI Nanodegree](), and it uses several snippets from the repository of the [HuggingFace Examples](https://github.com/huggingface/transformers/blob/main/examples/pytorch/question-answering/trainer_qa.py).\n",
    "\n",
    "The example uses the [SQuAD 2.0](https://arxiv.org/abs/1806.03822) format, in which each QA pair is formatted as follows\n",
    "\n",
    "```python\n",
    "{\n",
    "  'id': 'xxx',\n",
    "  'title': 'my title',\n",
    "  'context': 'Here the complete context or text document is added.', # our document\n",
    "  'question': 'What is...?', # our question\n",
    "  'answers': {\n",
    "    'text': ['1925'], # list of answers (list(str))\n",
    "    'answer_start': [354] # the chars in context where the answer text starts (list(int))\n",
    "  }\n",
    "}\n",
    "```\n",
    "\n",
    "As we can see, the QA example is *extractive* (the answer is in the text), and not *generative-abstractive* (the answer is deduced)."
   ]
  },
  {
   "cell_type": "markdown",
   "id": "8f83e437",
   "metadata": {},
   "source": [
    "## Imports"
   ]
  },
  {
   "cell_type": "code",
   "execution_count": 35,
   "id": "3c96dcf4",
   "metadata": {},
   "outputs": [],
   "source": [
    "import pathlib\n",
    "import pandas as pd\n",
    "from datasets import Dataset, load_from_disk\n",
    "from transformers import (\n",
    "    AutoTokenizer,\n",
    "    AutoModelForQuestionAnswering,\n",
    "    EvalPrediction,\n",
    "    Trainer,\n",
    "    default_data_collator,\n",
    "    pipeline,\n",
    ")\n",
    "from transformers.trainer_utils import PredictionOutput, speed_metrics\n",
    "import torch\n",
    "import math\n",
    "import time\n",
    "import collections\n",
    "import numpy as np\n",
    "from tqdm.notebook import tqdm"
   ]
  },
  {
   "cell_type": "markdown",
   "id": "889b417b",
   "metadata": {},
   "source": [
    "## Dataset: Apply Correct Format"
   ]
  },
  {
   "cell_type": "markdown",
   "id": "4dbf2b8c",
   "metadata": {},
   "source": [
    "Our *dummy* dataset is about AP controllers (Access Point) -- it is very technical.\n",
    "\n",
    "The dataset consists of 10 QA pairs in [`data/qa.csv`](./data/qa.csv); in that dataframe, we have three columns\n",
    "\n",
    "- `question`\n",
    "- `answer`\n",
    "- `filename`: this field points to any of two TXT documents ([`CVE-2020-29583.txt`](./data/CVE-2020-29583.txt) and [`xss.txt`](./data/xss.txt)), where the context for the answer is provided.\n",
    "\n",
    "We need to transform the dataset CSV to the [SQuAD 2.0](https://arxiv.org/abs/1806.03822) format above, i.e., a list of dictionaries."
   ]
  },
  {
   "cell_type": "code",
   "execution_count": 9,
   "id": "4766ca2c",
   "metadata": {},
   "outputs": [
    {
     "data": {
      "text/html": [
       "<div>\n",
       "<style scoped>\n",
       "    .dataframe tbody tr th:only-of-type {\n",
       "        vertical-align: middle;\n",
       "    }\n",
       "\n",
       "    .dataframe tbody tr th {\n",
       "        vertical-align: top;\n",
       "    }\n",
       "\n",
       "    .dataframe thead th {\n",
       "        text-align: right;\n",
       "    }\n",
       "</style>\n",
       "<table border=\"1\" class=\"dataframe\">\n",
       "  <thead>\n",
       "    <tr style=\"text-align: right;\">\n",
       "      <th></th>\n",
       "      <th>question</th>\n",
       "      <th>answer</th>\n",
       "      <th>filename</th>\n",
       "    </tr>\n",
       "  </thead>\n",
       "  <tbody>\n",
       "    <tr>\n",
       "      <th>0</th>\n",
       "      <td>Who is the manufacturer of the product?</td>\n",
       "      <td>Zyxel</td>\n",
       "      <td>CVE-2020-29583.txt</td>\n",
       "    </tr>\n",
       "    <tr>\n",
       "      <th>1</th>\n",
       "      <td>Who reported the vulnerability?</td>\n",
       "      <td>researchers from EYE Netherlands</td>\n",
       "      <td>CVE-2020-29583.txt</td>\n",
       "    </tr>\n",
       "    <tr>\n",
       "      <th>2</th>\n",
       "      <td>What is the vulnerability?</td>\n",
       "      <td>A hardcoded credential vulnerability was ident...</td>\n",
       "      <td>CVE-2020-29583.txt</td>\n",
       "    </tr>\n",
       "    <tr>\n",
       "      <th>3</th>\n",
       "      <td>How do users protect themselves?</td>\n",
       "      <td>we urge users to install the applicable updates</td>\n",
       "      <td>CVE-2020-29583.txt</td>\n",
       "    </tr>\n",
       "    <tr>\n",
       "      <th>4</th>\n",
       "      <td>What products are affected?</td>\n",
       "      <td>firewalls and AP controllers</td>\n",
       "      <td>CVE-2020-29583.txt</td>\n",
       "    </tr>\n",
       "  </tbody>\n",
       "</table>\n",
       "</div>"
      ],
      "text/plain": [
       "                                  question  \\\n",
       "0  Who is the manufacturer of the product?   \n",
       "1          Who reported the vulnerability?   \n",
       "2               What is the vulnerability?   \n",
       "3         How do users protect themselves?   \n",
       "4              What products are affected?   \n",
       "\n",
       "                                              answer            filename  \n",
       "0                                              Zyxel  CVE-2020-29583.txt  \n",
       "1                   researchers from EYE Netherlands  CVE-2020-29583.txt  \n",
       "2  A hardcoded credential vulnerability was ident...  CVE-2020-29583.txt  \n",
       "3    we urge users to install the applicable updates  CVE-2020-29583.txt  \n",
       "4                       firewalls and AP controllers  CVE-2020-29583.txt  "
      ]
     },
     "execution_count": 9,
     "metadata": {},
     "output_type": "execute_result"
    }
   ],
   "source": [
    "df = pd.read_csv(\"data/qa.csv\")\n",
    "df.head()"
   ]
  },
  {
   "cell_type": "code",
   "execution_count": 19,
   "id": "22915496",
   "metadata": {},
   "outputs": [],
   "source": [
    "def qa_to_squad(\n",
    "    question: str,\n",
    "    answer: str,\n",
    "    filename: str,\n",
    "    identifier: str\n",
    ") -> dict:\n",
    "    filepath = pathlib.Path(\"data\") / filename\n",
    "    with open(filepath, \"r\") as f:\n",
    "        context = f.read()\n",
    "    \n",
    "    # Assuming the answer appears exactly in the context\n",
    "    # find where the answer starts in the context\n",
    "    start_location = context.find(answer)\n",
    "    qa_pair = {\n",
    "        'id': identifier,\n",
    "        'title': filepath.as_posix(),\n",
    "        'context': context,\n",
    "        'question': question,\n",
    "        'answers': {\n",
    "            'text': [answer],\n",
    "            'answer_start': [start_location]\n",
    "        }\n",
    "    }\n",
    "    return qa_pair"
   ]
  },
  {
   "cell_type": "code",
   "execution_count": 20,
   "id": "738de15f",
   "metadata": {},
   "outputs": [],
   "source": [
    "# Build a list of dictionaries\n",
    "# being each dict the QA pair/row in SQuAD format\n",
    "qa_list = list()\n",
    "for i, row in df.iterrows():\n",
    "    q = row['question']\n",
    "    a = row['answer']\n",
    "    f = row['filename']\n",
    "    squad_dict = qa_to_squad(q, a, f, i)\n",
    "    qa_list.append(squad_dict)"
   ]
  },
  {
   "cell_type": "code",
   "execution_count": 21,
   "id": "80c5f982",
   "metadata": {},
   "outputs": [
    {
     "name": "stdout",
     "output_type": "stream",
     "text": [
      "{'id': 0, 'title': 'data/CVE-2020-29583.txt', 'context': 'CVE:   CVE-2020-29583 Summary Zyxel has released a patch for the hardcoded credential vulnerability of firewalls and AP controllers recently reported by researchers from EYE Netherlands. Users are advised to install the applicable firmware updates for optimal protection. What is the vulnerability? A hardcoded credential vulnerability was identified in the “zyfwp” user account in some Zyxel firewalls and AP controllers. The account was designed to deliver automatic firmware updates to connected access points through FTP. What versions are vulnerable—and what should you do? After a thorough investigation, we’ve identified the vulnerable products and are releasing firmware patches to address the issue, as shown in the table below. For optimal protection, we urge users to install the applicable updates. For those not listed, they are not affected. Contact your local Zyxel support team if you require further assistance or visit our  forum  for more information. Got a question or a tipoff? Please contact your local service rep for further information or assistance. If you’ve found a vulnerability, we want to work with you to fix it—contact  security@zyxel.com.tw  and we’ll get right back to you. Acknowledgment Thanks to Niels Teusink at EYE for reporting the issue to us. Revision history 2020-12-23: Initial release 2020-12-24: Updated the acknowledgement section 2021-01-04: Updated the patch schedule for AP controllers 2021-01-08: Added the forum link', 'question': 'Who is the manufacturer of the product?', 'answers': {'answer_start': [30], 'text': ['Zyxel']}}\n"
     ]
    }
   ],
   "source": [
    "# Convert the list of dicts into a Dataset object\n",
    "# We need to use pandas as intermediate auxiliary library\n",
    "qa_df = pd.DataFrame(data=qa_list)\n",
    "data = Dataset.from_pandas(qa_df)\n",
    "print(data[0])\n",
    "# {'id': 0, 'title': 'data/qa/CVE-2020-29583.txt', 'context': 'CVE: ..."
   ]
  },
  {
   "cell_type": "code",
   "execution_count": 22,
   "id": "f064e4e1",
   "metadata": {},
   "outputs": [
    {
     "data": {
      "application/vnd.jupyter.widget-view+json": {
       "model_id": "fc7e91c554cb42389ba31368579cbc0f",
       "version_major": 2,
       "version_minor": 0
      },
      "text/plain": [
       "Saving the dataset (0/1 shards):   0%|          | 0/10 [00:00<?, ? examples/s]"
      ]
     },
     "metadata": {},
     "output_type": "display_data"
    }
   ],
   "source": [
    "# We can save the dataset to disk\n",
    "data.save_to_disk(\"data/qa_data.hf\")"
   ]
  },
  {
   "cell_type": "code",
   "execution_count": 24,
   "id": "907d04fa",
   "metadata": {},
   "outputs": [
    {
     "name": "stdout",
     "output_type": "stream",
     "text": [
      "{'id': 0, 'title': 'data/CVE-2020-29583.txt', 'context': 'CVE:   CVE-2020-29583 Summary Zyxel has released a patch for the hardcoded credential vulnerability of firewalls and AP controllers recently reported by researchers from EYE Netherlands. Users are advised to install the applicable firmware updates for optimal protection. What is the vulnerability? A hardcoded credential vulnerability was identified in the “zyfwp” user account in some Zyxel firewalls and AP controllers. The account was designed to deliver automatic firmware updates to connected access points through FTP. What versions are vulnerable—and what should you do? After a thorough investigation, we’ve identified the vulnerable products and are releasing firmware patches to address the issue, as shown in the table below. For optimal protection, we urge users to install the applicable updates. For those not listed, they are not affected. Contact your local Zyxel support team if you require further assistance or visit our  forum  for more information. Got a question or a tipoff? Please contact your local service rep for further information or assistance. If you’ve found a vulnerability, we want to work with you to fix it—contact  security@zyxel.com.tw  and we’ll get right back to you. Acknowledgment Thanks to Niels Teusink at EYE for reporting the issue to us. Revision history 2020-12-23: Initial release 2020-12-24: Updated the acknowledgement section 2021-01-04: Updated the patch schedule for AP controllers 2021-01-08: Added the forum link', 'question': 'Who is the manufacturer of the product?', 'answers': {'answer_start': [30], 'text': ['Zyxel']}}\n",
      "{'id': [0, 1, 2], 'title': ['data/CVE-2020-29583.txt', 'data/CVE-2020-29583.txt', 'data/CVE-2020-29583.txt'], 'context': ['CVE:   CVE-2020-29583 Summary Zyxel has released a patch for the hardcoded credential vulnerability of firewalls and AP controllers recently reported by researchers from EYE Netherlands. Users are advised to install the applicable firmware updates for optimal protection. What is the vulnerability? A hardcoded credential vulnerability was identified in the “zyfwp” user account in some Zyxel firewalls and AP controllers. The account was designed to deliver automatic firmware updates to connected access points through FTP. What versions are vulnerable—and what should you do? After a thorough investigation, we’ve identified the vulnerable products and are releasing firmware patches to address the issue, as shown in the table below. For optimal protection, we urge users to install the applicable updates. For those not listed, they are not affected. Contact your local Zyxel support team if you require further assistance or visit our  forum  for more information. Got a question or a tipoff? Please contact your local service rep for further information or assistance. If you’ve found a vulnerability, we want to work with you to fix it—contact  security@zyxel.com.tw  and we’ll get right back to you. Acknowledgment Thanks to Niels Teusink at EYE for reporting the issue to us. Revision history 2020-12-23: Initial release 2020-12-24: Updated the acknowledgement section 2021-01-04: Updated the patch schedule for AP controllers 2021-01-08: Added the forum link', 'CVE:   CVE-2020-29583 Summary Zyxel has released a patch for the hardcoded credential vulnerability of firewalls and AP controllers recently reported by researchers from EYE Netherlands. Users are advised to install the applicable firmware updates for optimal protection. What is the vulnerability? A hardcoded credential vulnerability was identified in the “zyfwp” user account in some Zyxel firewalls and AP controllers. The account was designed to deliver automatic firmware updates to connected access points through FTP. What versions are vulnerable—and what should you do? After a thorough investigation, we’ve identified the vulnerable products and are releasing firmware patches to address the issue, as shown in the table below. For optimal protection, we urge users to install the applicable updates. For those not listed, they are not affected. Contact your local Zyxel support team if you require further assistance or visit our  forum  for more information. Got a question or a tipoff? Please contact your local service rep for further information or assistance. If you’ve found a vulnerability, we want to work with you to fix it—contact  security@zyxel.com.tw  and we’ll get right back to you. Acknowledgment Thanks to Niels Teusink at EYE for reporting the issue to us. Revision history 2020-12-23: Initial release 2020-12-24: Updated the acknowledgement section 2021-01-04: Updated the patch schedule for AP controllers 2021-01-08: Added the forum link', 'CVE:   CVE-2020-29583 Summary Zyxel has released a patch for the hardcoded credential vulnerability of firewalls and AP controllers recently reported by researchers from EYE Netherlands. Users are advised to install the applicable firmware updates for optimal protection. What is the vulnerability? A hardcoded credential vulnerability was identified in the “zyfwp” user account in some Zyxel firewalls and AP controllers. The account was designed to deliver automatic firmware updates to connected access points through FTP. What versions are vulnerable—and what should you do? After a thorough investigation, we’ve identified the vulnerable products and are releasing firmware patches to address the issue, as shown in the table below. For optimal protection, we urge users to install the applicable updates. For those not listed, they are not affected. Contact your local Zyxel support team if you require further assistance or visit our  forum  for more information. Got a question or a tipoff? Please contact your local service rep for further information or assistance. If you’ve found a vulnerability, we want to work with you to fix it—contact  security@zyxel.com.tw  and we’ll get right back to you. Acknowledgment Thanks to Niels Teusink at EYE for reporting the issue to us. Revision history 2020-12-23: Initial release 2020-12-24: Updated the acknowledgement section 2021-01-04: Updated the patch schedule for AP controllers 2021-01-08: Added the forum link'], 'question': ['Who is the manufacturer of the product?', 'Who reported the vulnerability?', 'What is the vulnerability?'], 'answers': [{'answer_start': [30], 'text': ['Zyxel']}, {'answer_start': [153], 'text': ['researchers from EYE Netherlands']}, {'answer_start': [299], 'text': ['A hardcoded credential vulnerability was identified in the “zyfwp” user']}]}\n",
      "   id                    title  \\\n",
      "0   0  data/CVE-2020-29583.txt   \n",
      "1   1  data/CVE-2020-29583.txt   \n",
      "2   2  data/CVE-2020-29583.txt   \n",
      "3   3  data/CVE-2020-29583.txt   \n",
      "4   4  data/CVE-2020-29583.txt   \n",
      "\n",
      "                                             context  \\\n",
      "0  CVE:   CVE-2020-29583 Summary Zyxel has releas...   \n",
      "1  CVE:   CVE-2020-29583 Summary Zyxel has releas...   \n",
      "2  CVE:   CVE-2020-29583 Summary Zyxel has releas...   \n",
      "3  CVE:   CVE-2020-29583 Summary Zyxel has releas...   \n",
      "4  CVE:   CVE-2020-29583 Summary Zyxel has releas...   \n",
      "\n",
      "                                  question  \\\n",
      "0  Who is the manufacturer of the product?   \n",
      "1          Who reported the vulnerability?   \n",
      "2               What is the vulnerability?   \n",
      "3         How do users protect themselves?   \n",
      "4              What products are affected?   \n",
      "\n",
      "                                             answers  \n",
      "0          {'answer_start': [30], 'text': ['Zyxel']}  \n",
      "1  {'answer_start': [153], 'text': ['researchers ...  \n",
      "2  {'answer_start': [299], 'text': ['A hardcoded ...  \n",
      "3  {'answer_start': [762], 'text': ['we urge user...  \n",
      "4  {'answer_start': [103], 'text': ['firewalls an...  \n"
     ]
    }
   ],
   "source": [
    "# Load the dataset from disk\n",
    "loaded_data = load_from_disk(\"data/qa_data.hf\")\n",
    "\n",
    "# Inspect the first few entries\n",
    "print(loaded_data[0])         # Print the first example\n",
    "print(loaded_data[:3])        # Print the first three examples\n",
    "\n",
    "# Or convert to a pandas DataFrame for easier inspection\n",
    "df = loaded_data.to_pandas()\n",
    "print(df.head())"
   ]
  },
  {
   "cell_type": "markdown",
   "id": "024a6c16",
   "metadata": {},
   "source": [
    "## Model"
   ]
  },
  {
   "cell_type": "markdown",
   "id": "e33c396c",
   "metadata": {},
   "source": [
    "Since we are working on a *extractive* QA task, we can use any encoder or decoder transformer as the backbone; we add a small QA head on top, a linear layer that predicts:\n",
    "\n",
    "- `start_logits`: probabilities of each token being the start of the answer\n",
    "- and `end_logits`: probabilities of each token being the end of the answer\n",
    "\n",
    "The selected model is [distilbert](https://huggingface.co/docs/transformers/en/model_doc/distilbert), and we build a custom `QuestionAnsweringTrainer(Trainer)` for training it, based on the official HuggingFace example [here](https://github.com/huggingface/transformers/blob/main/examples/pytorch/question-answering/trainer_qa.py)."
   ]
  },
  {
   "cell_type": "code",
   "execution_count": 25,
   "id": "2e2174f3",
   "metadata": {},
   "outputs": [
    {
     "name": "stderr",
     "output_type": "stream",
     "text": [
      "Some weights of DistilBertForQuestionAnswering were not initialized from the model checkpoint at distilbert-base-uncased and are newly initialized: ['qa_outputs.bias', 'qa_outputs.weight']\n",
      "You should probably TRAIN this model on a down-stream task to be able to use it for predictions and inference.\n"
     ]
    }
   ],
   "source": [
    "# We will use DistilBERT as the backbone foundation model to be fine-tuned\n",
    "# Load the tokenizer for DistilBERT\n",
    "tokenizer = AutoTokenizer.from_pretrained('distilbert-base-uncased')\n",
    "\n",
    "# Load the model for the task: AutoModelForQuestionAnswering\n",
    "# Note: This will throw warnings, which is expected!\n",
    "model = AutoModelForQuestionAnswering.from_pretrained('distilbert-base-uncased')"
   ]
  },
  {
   "cell_type": "code",
   "execution_count": 26,
   "id": "2ffe21ac",
   "metadata": {},
   "outputs": [],
   "source": [
    "# The Trainer subclass here is lightly modified from HuggingFace\n",
    "# Original source at https://github.com/huggingface/transformers/blob/main/examples/pytorch/question-answering/trainer_qa.py\n",
    "class QuestionAnsweringTrainer(Trainer):\n",
    "    def __init__(self, *args, post_process_function=None, **kwargs):\n",
    "        super().__init__(*args, **kwargs)\n",
    "        self.post_process_function = post_process_function\n",
    "\n",
    "    def predict(self, predict_dataset, predict_examples, ignore_keys=None, metric_key_prefix: str = \"test\"):\n",
    "        predict_dataloader = self.get_test_dataloader(predict_dataset)\n",
    "\n",
    "        # Temporarily disable metric computation, we will do it in the loop here.\n",
    "        compute_metrics = self.compute_metrics\n",
    "        self.compute_metrics = None\n",
    "        eval_loop = self.prediction_loop if self.args.use_legacy_prediction_loop else self.evaluation_loop\n",
    "        start_time = time.time()\n",
    "        try:\n",
    "            output = eval_loop(\n",
    "                predict_dataloader,\n",
    "                description=\"Prediction\",\n",
    "                # No point gathering the predictions if there are no metrics, otherwise we defer to\n",
    "                # self.args.prediction_loss_only\n",
    "                prediction_loss_only=True if compute_metrics is None else None,\n",
    "                ignore_keys=ignore_keys,\n",
    "                metric_key_prefix=metric_key_prefix,\n",
    "            )\n",
    "        finally:\n",
    "            self.compute_metrics = compute_metrics\n",
    "        total_batch_size = self.args.eval_batch_size * self.args.world_size\n",
    "        if f\"{metric_key_prefix}_jit_compilation_time\" in output.metrics:\n",
    "            start_time += output.metrics[f\"{metric_key_prefix}_jit_compilation_time\"]\n",
    "        output.metrics.update(\n",
    "            speed_metrics(\n",
    "                metric_key_prefix,\n",
    "                start_time,\n",
    "                num_samples=output.num_samples,\n",
    "                num_steps=math.ceil(output.num_samples / total_batch_size),\n",
    "            )\n",
    "        )\n",
    "\n",
    "        if self.post_process_function is None or self.compute_metrics is None:\n",
    "            return output\n",
    "\n",
    "        predictions = self.post_process_function(predict_examples, predict_dataset, output.predictions, \"predict\")\n",
    "        metrics = self.compute_metrics(predictions)\n",
    "\n",
    "        # Prefix all keys with metric_key_prefix + '_'\n",
    "        for key in list(metrics.keys()):\n",
    "            if not key.startswith(f\"{metric_key_prefix}_\"):\n",
    "                metrics[f\"{metric_key_prefix}_{key}\"] = metrics.pop(key)\n",
    "        metrics.update(output.metrics)\n",
    "        return PredictionOutput(predictions=predictions.predictions, label_ids=predictions.label_ids, metrics=metrics)"
   ]
  },
  {
   "cell_type": "markdown",
   "id": "6cac5628",
   "metadata": {},
   "source": [
    "## Pre-Processing and Post-Processing Functions"
   ]
  },
  {
   "cell_type": "markdown",
   "id": "415ec2a5",
   "metadata": {},
   "source": [
    "Pre- and post-processing functions are required to adapt the data and the outputs; they are taken from the HuggingFace `run_qa.py` example [on Github](https://github.com/huggingface/transformers/blob/main/examples/pytorch/question-answering/run_qa.py):\n",
    "\n",
    "1. `prepare_train_features(...)`: This function prepares raw QA examples for training by:\n",
    "   - Tokenizing each (question, context) pair with padding and truncation.\n",
    "   - Using return_offsets_mapping to trace back token positions to character positions in the context.\n",
    "   - For each example:\n",
    "     - Computes the start and end token indices of the answer span using the offsets.\n",
    "     - If there's no answer, sets both positions to the CLS token index (for null prediction).\n",
    "   - Returns tokenized inputs with additional \"start_positions\" and \"end_positions\" fields used for model training.\n",
    "2. `postprocess_qa_predictions(...)`: This function transforms the model output logits into human-readable answer strings by:\n",
    "   - Mapping predicted start and end logits back to their char spans in the original context using offset mappings.\n",
    "   - Collecting top n-best candidate spans per feature based on score (start_logit + end_logit).\n",
    "   - Filtering out invalid spans (too long, reversed, or not in max context).\n",
    "   - Optionally handles \"null answers\" (no answer present) when version_2_with_negative=True.\n",
    "   - Returns:\n",
    "     - all_predictions: best answer per example.\n",
    "     - all_nbest_json: top-n candidates per example.\n",
    "     - Optionally, scores_diff_json: for null answer thresholding.\n",
    "3. `post_processing_function(examples, features, predictions, stage=\"eval\")`: A wrapper around `postprocess_qa_predictions`, specifically used in evaluation or inference, that:\n",
    "   - Calls `postprocess_qa_predictions()` with sensible defaults.\n",
    "   - Converts the final predictions to the format expected by HuggingFace metrics (e.g. \"id\", \"prediction_text\").\n",
    "   - Prepares the reference answers in expected format (for metric computation like exact match or F1).\n",
    "   - Returns an `EvalPrediction` object from the Transformers library."
   ]
  },
  {
   "cell_type": "code",
   "execution_count": 28,
   "id": "8ee8d9d7",
   "metadata": {},
   "outputs": [],
   "source": [
    "# Training preprocessing\n",
    "# Adapted from the HuggingFace `run_qa.py` example on Github:\n",
    "# https://github.com/huggingface/transformers/blob/main/examples/pytorch/question-answering/run_qa.py\n",
    "def prepare_train_features(examples):\n",
    "    \"\"\"Preprocesses each example for training a question answering model.\"\"\"\n",
    "    # Tokenize our examples with truncation and maybe padding, but keep the overflows using a stride. This results\n",
    "    # in one example possible giving several features when a context is long, each of those features having a\n",
    "    # context that overlaps a bit the context of the previous feature.\n",
    "    tokenized_examples = tokenizer(\n",
    "        examples[\"question\"],\n",
    "        examples[\"context\"],\n",
    "        truncation=\"only_second\",\n",
    "        max_length=512,\n",
    "        padding=\"max_length\",\n",
    "        return_offsets_mapping=True\n",
    "    )\n",
    "\n",
    "    # The offset mappings will give us a map from token to character position in the original context. This will\n",
    "    # help us compute the start_positions and end_positions.\n",
    "    offset_mapping = tokenized_examples.pop(\"offset_mapping\")\n",
    "\n",
    "    # Let's label those examples!\n",
    "    tokenized_examples[\"start_positions\"] = []\n",
    "    tokenized_examples[\"end_positions\"] = []\n",
    "\n",
    "    for i, offsets in enumerate(offset_mapping):\n",
    "        # We will label impossible answers with the index of the CLS token.\n",
    "        input_ids = tokenized_examples[\"input_ids\"][i]\n",
    "        cls_index = input_ids.index(tokenizer.cls_token_id)\n",
    "\n",
    "        # Grab the sequence corresponding to that example (to know what is the context and what is the question).\n",
    "        sequence_ids = tokenized_examples.sequence_ids(i)\n",
    "\n",
    "        # One example can give several spans, this is the index of the example containing this span of text.\n",
    "        answers = examples[\"answers\"][i]\n",
    "\n",
    "        # If no answers are given, set the cls_index as answer.\n",
    "        if len(answers[\"answer_start\"]) == 0:\n",
    "            tokenized_examples[\"start_positions\"].append(cls_index)\n",
    "            tokenized_examples[\"end_positions\"].append(cls_index)\n",
    "        else:\n",
    "            # Start/end character index of the answer in the text.\n",
    "            start_char = answers[\"answer_start\"][0]\n",
    "            end_char = start_char + len(answers[\"text\"][0])\n",
    "\n",
    "            # Start token index of the current span in the text.\n",
    "            token_start_index = 0\n",
    "\n",
    "            # End token index of the current span in the text.\n",
    "            token_end_index = len(input_ids) - 1\n",
    "\n",
    "            # Otherwise move the token_start_index and token_end_index to the two ends of the answer.\n",
    "            # Note: we could go after the last offset if the answer is the last word (edge case).\n",
    "            while token_start_index < len(offsets) and offsets[token_start_index][0] <= start_char:\n",
    "                token_start_index += 1\n",
    "            tokenized_examples[\"start_positions\"].append(token_start_index - 1)\n",
    "            while offsets[token_end_index][1] >= end_char:\n",
    "                token_end_index -= 1\n",
    "            tokenized_examples[\"end_positions\"].append(token_end_index + 1)\n",
    "    \n",
    "    return tokenized_examples\n",
    "\n",
    "def postprocess_qa_predictions(\n",
    "    examples,\n",
    "    features,\n",
    "    predictions,\n",
    "    version_2_with_negative = False,\n",
    "    n_best_size = 20,\n",
    "    max_answer_length = 30,\n",
    "    null_score_diff_threshold = 0.0,\n",
    "):\n",
    "    \"\"\"\n",
    "    Post-processes the predictions of a question-answering model to convert them to answers that are substrings of the\n",
    "    original contexts. This is the base postprocessing functions for models that only return start and end logits.\n",
    "\n",
    "    Args:\n",
    "        examples: The non-preprocessed dataset (see the main script for more information).\n",
    "        features: The processed dataset (see the main script for more information).\n",
    "        predictions (:obj:`Tuple[np.ndarray, np.ndarray]`):\n",
    "            The predictions of the model: two arrays containing the start logits and the end logits respectively. Its\n",
    "            first dimension must match the number of elements of :obj:`features`.\n",
    "        version_2_with_negative (:obj:`bool`, `optional`, defaults to :obj:`False`):\n",
    "            Whether or not the underlying dataset contains examples with no answers.\n",
    "        n_best_size (:obj:`int`, `optional`, defaults to 20):\n",
    "            The total number of n-best predictions to generate when looking for an answer.\n",
    "        max_answer_length (:obj:`int`, `optional`, defaults to 30):\n",
    "            The maximum length of an answer that can be generated. This is needed because the start and end predictions\n",
    "            are not conditioned on one another.\n",
    "        null_score_diff_threshold (:obj:`float`, `optional`, defaults to 0):\n",
    "            The threshold used to select the null answer: if the best answer has a score that is less than the score of\n",
    "            the null answer minus this threshold, the null answer is selected for this example (note that the score of\n",
    "            the null answer for an example giving several features is the minimum of the scores for the null answer on\n",
    "            each feature: all features must be aligned on the fact they `want` to predict a null answer).\n",
    "\n",
    "            Only useful when :obj:`version_2_with_negative` is :obj:`True`.\n",
    "    \"\"\"\n",
    "    if len(predictions) != 2:\n",
    "        raise ValueError(\"`predictions` should be a tuple with two elements (start_logits, end_logits).\")\n",
    "    all_start_logits, all_end_logits = predictions\n",
    "\n",
    "    if len(predictions[0]) != len(features):\n",
    "        raise ValueError(f\"Got {len(predictions[0])} predictions and {len(features)} features.\")\n",
    "\n",
    "    # Build a map example to its corresponding features.\n",
    "    example_id_to_index = {k: i for i, k in enumerate(examples[\"id\"])}\n",
    "    features_per_example = collections.defaultdict(list)\n",
    "    for i, feature in enumerate(features):\n",
    "        features_per_example[example_id_to_index[feature[\"example_id\"]]].append(i)\n",
    "\n",
    "    # The dictionaries we have to fill.\n",
    "    all_predictions = collections.OrderedDict()\n",
    "    all_nbest_json = collections.OrderedDict()\n",
    "    if version_2_with_negative:\n",
    "        scores_diff_json = collections.OrderedDict()\n",
    "\n",
    "    # Let's loop over all the examples!\n",
    "    for example_index, example in enumerate(tqdm(examples)):\n",
    "        # Those are the indices of the features associated to the current example.\n",
    "        feature_indices = features_per_example[example_index]\n",
    "\n",
    "        min_null_prediction = None\n",
    "        prelim_predictions = []\n",
    "\n",
    "        # Looping through all the features associated to the current example.\n",
    "        for feature_index in feature_indices:\n",
    "            # We grab the predictions of the model for this feature.\n",
    "            start_logits = all_start_logits[feature_index]\n",
    "            end_logits = all_end_logits[feature_index]\n",
    "            # This is what will allow us to map some the positions in our logits to span of texts in the original\n",
    "            # context.\n",
    "            offset_mapping = features[feature_index][\"offset_mapping\"]\n",
    "            # Optional `token_is_max_context`, if provided we will remove answers that do not have the maximum context\n",
    "            # available in the current feature.\n",
    "            token_is_max_context = features[feature_index].get(\"token_is_max_context\", None)\n",
    "\n",
    "            # Update minimum null prediction.\n",
    "            feature_null_score = start_logits[0] + end_logits[0]\n",
    "            if min_null_prediction is None or min_null_prediction[\"score\"] > feature_null_score:\n",
    "                min_null_prediction = {\n",
    "                    \"offsets\": (0, 0),\n",
    "                    \"score\": feature_null_score,\n",
    "                    \"start_logit\": start_logits[0],\n",
    "                    \"end_logit\": end_logits[0],\n",
    "                }\n",
    "\n",
    "            # Go through all possibilities for the `n_best_size` greater start and end logits.\n",
    "            start_indexes = np.argsort(start_logits)[-1 : -n_best_size - 1 : -1].tolist()\n",
    "            end_indexes = np.argsort(end_logits)[-1 : -n_best_size - 1 : -1].tolist()\n",
    "            for start_index in start_indexes:\n",
    "                for end_index in end_indexes:\n",
    "                    # Don't consider out-of-scope answers, either because the indices are out of bounds or correspond\n",
    "                    # to part of the input_ids that are not in the context.\n",
    "                    if (\n",
    "                        start_index >= len(offset_mapping)\n",
    "                        or end_index >= len(offset_mapping)\n",
    "                        or offset_mapping[start_index] is None\n",
    "                        or len(offset_mapping[start_index]) < 2\n",
    "                        or offset_mapping[end_index] is None\n",
    "                        or len(offset_mapping[end_index]) < 2\n",
    "                    ):\n",
    "                        continue\n",
    "                    # Don't consider answers with a length that is either < 0 or > max_answer_length.\n",
    "                    if end_index < start_index or end_index - start_index + 1 > max_answer_length:\n",
    "                        continue\n",
    "                    # Don't consider answer that don't have the maximum context available (if such information is\n",
    "                    # provided).\n",
    "                    if token_is_max_context is not None and not token_is_max_context.get(str(start_index), False):\n",
    "                        continue\n",
    "\n",
    "                    prelim_predictions.append(\n",
    "                        {\n",
    "                            \"offsets\": (offset_mapping[start_index][0], offset_mapping[end_index][1]),\n",
    "                            \"score\": start_logits[start_index] + end_logits[end_index],\n",
    "                            \"start_logit\": start_logits[start_index],\n",
    "                            \"end_logit\": end_logits[end_index],\n",
    "                        }\n",
    "                    )\n",
    "        if version_2_with_negative and min_null_prediction is not None:\n",
    "            # Add the minimum null prediction\n",
    "            prelim_predictions.append(min_null_prediction)\n",
    "            null_score = min_null_prediction[\"score\"]\n",
    "\n",
    "        # Only keep the best `n_best_size` predictions.\n",
    "        predictions = sorted(prelim_predictions, key=lambda x: x[\"score\"], reverse=True)[:n_best_size]\n",
    "\n",
    "        # Add back the minimum null prediction if it was removed because of its low score.\n",
    "        if (\n",
    "            version_2_with_negative\n",
    "            and min_null_prediction is not None\n",
    "            and not any(p[\"offsets\"] == (0, 0) for p in predictions)\n",
    "        ):\n",
    "            predictions.append(min_null_prediction)\n",
    "\n",
    "        # Use the offsets to gather the answer text in the original context.\n",
    "        context = example[\"context\"]\n",
    "        for pred in predictions:\n",
    "            offsets = pred.pop(\"offsets\")\n",
    "            pred[\"text\"] = context[offsets[0] : offsets[1]]\n",
    "\n",
    "        # In the very rare edge case we have not a single non-null prediction, we create a fake prediction to avoid\n",
    "        # failure.\n",
    "        if len(predictions) == 0 or (len(predictions) == 1 and predictions[0][\"text\"] == \"\"):\n",
    "            predictions.insert(0, {\"text\": \"empty\", \"start_logit\": 0.0, \"end_logit\": 0.0, \"score\": 0.0})\n",
    "\n",
    "        # Compute the softmax of all scores (we do it with numpy to stay independent from torch/tf in this file, using\n",
    "        # the LogSumExp trick).\n",
    "        scores = np.array([pred.pop(\"score\") for pred in predictions])\n",
    "        exp_scores = np.exp(scores - np.max(scores))\n",
    "        probs = exp_scores / exp_scores.sum()\n",
    "\n",
    "        # Include the probabilities in our predictions.\n",
    "        for prob, pred in zip(probs, predictions):\n",
    "            pred[\"probability\"] = prob\n",
    "\n",
    "        # Pick the best prediction. If the null answer is not possible, this is easy.\n",
    "        if not version_2_with_negative:\n",
    "            all_predictions[example[\"id\"]] = predictions[0][\"text\"]\n",
    "        else:\n",
    "            # Otherwise we first need to find the best non-empty prediction.\n",
    "            i = 0\n",
    "            while predictions[i][\"text\"] == \"\":\n",
    "                i += 1\n",
    "            best_non_null_pred = predictions[i]\n",
    "\n",
    "            # Then we compare to the null prediction using the threshold.\n",
    "            score_diff = null_score - best_non_null_pred[\"start_logit\"] - best_non_null_pred[\"end_logit\"]\n",
    "            scores_diff_json[example[\"id\"]] = float(score_diff)  # To be JSON-serializable.\n",
    "            if score_diff > null_score_diff_threshold:\n",
    "                all_predictions[example[\"id\"]] = \"\"\n",
    "            else:\n",
    "                all_predictions[example[\"id\"]] = best_non_null_pred[\"text\"]\n",
    "\n",
    "        # Make `predictions` JSON-serializable by casting np.float back to float.\n",
    "        all_nbest_json[example[\"id\"]] = [\n",
    "            {k: (float(v) if isinstance(v, (np.float16, np.float32, np.float64)) else v) for k, v in pred.items()}\n",
    "            for pred in predictions\n",
    "        ]\n",
    "\n",
    "    return all_predictions\n",
    "\n",
    "# Post-processing:\n",
    "def post_processing_function(examples, features, predictions, stage=\"eval\"):\n",
    "    \"\"\"Wraps postprocess_qa_predictions for use in evaluation or prediction\"\"\"\n",
    "    # Post-processing: we match the start logits and end logits to answers in the original context.\n",
    "    version_2_with_negative = False  # If true, some of the examples do not have an answer\n",
    "    predictions = postprocess_qa_predictions(\n",
    "        examples=examples,\n",
    "        features=features,\n",
    "        predictions=predictions,\n",
    "        version_2_with_negative=version_2_with_negative,  # If true, some of the examples do not have an answer\n",
    "        n_best_size=20,  # The total number of n-best predictions to generate when looking for an answer\n",
    "        # The maximum length of an answer that can be generated. This is needed because the start\n",
    "        # and end predictions are not conditioned on one another\n",
    "        max_answer_length=30,\n",
    "        # The threshold used to select the null answer: if the best answer has a score that is less than\n",
    "        # the score of the null answer minus this threshold, the null answer is selected for this example.\n",
    "        # Only useful when `version_2_with_negative=True`.\n",
    "        null_score_diff_threshold=0.0,\n",
    "        output_dir=\"./output_dir\",\n",
    "        # 'debug', 'info', 'warning', 'error' and 'critical', \n",
    "        # plus a 'passive' level which doesn't set anything and keeps the\n",
    "        # current log level for the Transformers library (which will be `\"warning\"` by default).\n",
    "        log_level=\"warning\",\n",
    "        prefix=stage,\n",
    "    )\n",
    "    # Format the result to the format the metric expects.\n",
    "    if version_2_with_negative:\n",
    "        formatted_predictions = [\n",
    "            {\"id\": str(k), \"prediction_text\": v, \"no_answer_probability\": 0.0} for k, v in predictions.items()\n",
    "        ]\n",
    "    else:\n",
    "        formatted_predictions = [{\"id\": str(k), \"prediction_text\": v} for k, v in predictions.items()]\n",
    "\n",
    "\n",
    "    answer_column_name = \"answers\"\n",
    "    references = [{\"id\": str(ex[\"id\"]), \"answers\": ex[answer_column_name]} for ex in examples]\n",
    "    return EvalPrediction(predictions=formatted_predictions, label_ids=references)"
   ]
  },
  {
   "cell_type": "markdown",
   "id": "83605299",
   "metadata": {},
   "source": [
    "## Training"
   ]
  },
  {
   "cell_type": "markdown",
   "id": "93ad8d07",
   "metadata": {},
   "source": [
    "After mapping the `prepare_train_features` pre-processing function to the dataset, we train the model with `QuestionAnsweringTrainer`."
   ]
  },
  {
   "cell_type": "code",
   "execution_count": 29,
   "id": "1a4f9cdd",
   "metadata": {},
   "outputs": [
    {
     "data": {
      "application/vnd.jupyter.widget-view+json": {
       "model_id": "89b0d52aabf444d39501c9ae499bd2fb",
       "version_major": 2,
       "version_minor": 0
      },
      "text/plain": [
       "Map:   0%|          | 0/10 [00:00<?, ? examples/s]"
      ]
     },
     "metadata": {},
     "output_type": "display_data"
    }
   ],
   "source": [
    "# Preprocess dataset\n",
    "data = data.map(prepare_train_features, batched=True)"
   ]
  },
  {
   "cell_type": "code",
   "execution_count": 31,
   "id": "7c7b3f54",
   "metadata": {},
   "outputs": [
    {
     "name": "stderr",
     "output_type": "stream",
     "text": [
      "C:\\Users\\A200239740\\AppData\\Local\\Temp\\ipykernel_29052\\843705096.py:5: FutureWarning: `tokenizer` is deprecated and will be removed in version 5.0.0 for `QuestionAnsweringTrainer.__init__`. Use `processing_class` instead.\n",
      "  super().__init__(*args, **kwargs)\n"
     ]
    }
   ],
   "source": [
    "# Set up our trainer\n",
    "trainer = QuestionAnsweringTrainer(\n",
    "    model=model,\n",
    "    train_dataset=data,\n",
    "    tokenizer=tokenizer,\n",
    "    data_collator=default_data_collator,\n",
    "    post_process_function=post_processing_function\n",
    ")"
   ]
  },
  {
   "cell_type": "code",
   "execution_count": 32,
   "id": "5398755c",
   "metadata": {},
   "outputs": [
    {
     "data": {
      "text/html": [
       "\n",
       "    <div>\n",
       "      \n",
       "      <progress value='6' max='6' style='width:300px; height:20px; vertical-align: middle;'></progress>\n",
       "      [6/6 00:44, Epoch 3/3]\n",
       "    </div>\n",
       "    <table border=\"1\" class=\"dataframe\">\n",
       "  <thead>\n",
       " <tr style=\"text-align: left;\">\n",
       "      <th>Step</th>\n",
       "      <th>Training Loss</th>\n",
       "    </tr>\n",
       "  </thead>\n",
       "  <tbody>\n",
       "  </tbody>\n",
       "</table><p>"
      ],
      "text/plain": [
       "<IPython.core.display.HTML object>"
      ]
     },
     "metadata": {},
     "output_type": "display_data"
    },
    {
     "data": {
      "text/plain": [
       "TrainOutput(global_step=6, training_loss=0.0, metrics={'train_runtime': 61.3409, 'train_samples_per_second': 0.489, 'train_steps_per_second': 0.098, 'total_flos': 3919593000960.0, 'train_loss': 0.0, 'epoch': 3.0})"
      ]
     },
     "execution_count": 32,
     "metadata": {},
     "output_type": "execute_result"
    }
   ],
   "source": [
    "# Run the trainer!\n",
    "trainer.train()"
   ]
  },
  {
   "cell_type": "code",
   "execution_count": 33,
   "id": "3c11ff11",
   "metadata": {},
   "outputs": [],
   "source": [
    "# Save our model\n",
    "trainer.save_model(\"./ft-distilbert\")"
   ]
  },
  {
   "cell_type": "code",
   "execution_count": 34,
   "id": "145a18ca",
   "metadata": {},
   "outputs": [
    {
     "name": "stdout",
     "output_type": "stream",
     "text": [
      "DistilBertConfig {\n",
      "  \"_attn_implementation_autoset\": true,\n",
      "  \"activation\": \"gelu\",\n",
      "  \"architectures\": [\n",
      "    \"DistilBertForQuestionAnswering\"\n",
      "  ],\n",
      "  \"attention_dropout\": 0.1,\n",
      "  \"dim\": 768,\n",
      "  \"dropout\": 0.1,\n",
      "  \"hidden_dim\": 3072,\n",
      "  \"initializer_range\": 0.02,\n",
      "  \"max_position_embeddings\": 512,\n",
      "  \"model_type\": \"distilbert\",\n",
      "  \"n_heads\": 12,\n",
      "  \"n_layers\": 6,\n",
      "  \"pad_token_id\": 0,\n",
      "  \"qa_dropout\": 0.1,\n",
      "  \"seq_classif_dropout\": 0.2,\n",
      "  \"sinusoidal_pos_embds\": false,\n",
      "  \"tie_weights_\": true,\n",
      "  \"torch_dtype\": \"float32\",\n",
      "  \"transformers_version\": \"4.51.3\",\n",
      "  \"vocab_size\": 30522\n",
      "}\n",
      "\n"
     ]
    }
   ],
   "source": [
    "# Load the fine-tuned model and tokenizer from the local directory\n",
    "model = AutoModelForQuestionAnswering.from_pretrained('./ft-distilbert')\n",
    "tokenizer = AutoTokenizer.from_pretrained('./ft-distilbert')\n",
    "\n",
    "# Test loading by printing model config\n",
    "print(model.config)"
   ]
  },
  {
   "cell_type": "markdown",
   "id": "88205187",
   "metadata": {},
   "source": [
    "## Inference"
   ]
  },
  {
   "cell_type": "markdown",
   "id": "900fbef0",
   "metadata": {},
   "source": [
    "To run inference, we can use the `pipeline` function from HuggingFace, which in our case uses/returns a `QuestionAnsweringPipeline` object.\n",
    "\n",
    "Note that DistilBert has a context window of 512 tokens only, whereas our contexts surpass that size; `QuestionAnsweringPipeline` handles that automatically by chunking the context with some overlap and running the model with each context. Then, the best answer (the one with the highest score) is chosen.\n",
    "\n",
    "We can also write a custom `ask()` function that does that."
   ]
  },
  {
   "cell_type": "code",
   "execution_count": null,
   "id": "76eb5276",
   "metadata": {},
   "outputs": [
    {
     "name": "stderr",
     "output_type": "stream",
     "text": [
      "Device set to use cpu\n"
     ]
    },
    {
     "name": "stdout",
     "output_type": "stream",
     "text": [
      "Number of words in context: 1355\n"
     ]
    },
    {
     "data": {
      "text/plain": [
       "{'score': 5.987742042634636e-05,\n",
       " 'start': 7629,\n",
       " 'end': 7653,\n",
       " 'answer': 'the Samy worm on MySpace'}"
      ]
     },
     "execution_count": 67,
     "metadata": {},
     "output_type": "execute_result"
    }
   ],
   "source": [
    "# Let's evaluate our model!\n",
    "# Specify an input question and context\n",
    "question = \"What can an attacker do with XSS?\"\n",
    "with open(\"./data/xss.txt\", \"r\") as f:\n",
    "    context = f.read()\n",
    "\n",
    "# The context is longer than the 512 token limit of DistilBERT\n",
    "# but pipeline handles that by chunking the context\n",
    "print(f\"Number of words in context: {len(context.split())}\")\n",
    "\n",
    "# Use HuggingFace pipeline to answer the question\n",
    "question_answerer = pipeline(\"question-answering\", model=\"./ft-distilbert\")\n",
    "question_answerer(question=question, context=context)\n",
    "# {'score': 5.4717063903808594e-05,\n",
    "# 'start': 7927,\n",
    "# 'end': 7942,\n",
    "# 'answer': 'the victims did'}"
   ]
  },
  {
   "cell_type": "code",
   "execution_count": null,
   "id": "08dcfda7",
   "metadata": {},
   "outputs": [],
   "source": [
    "# We can simulate what the pipeline does internally\n",
    "# by running the model directly.\n",
    "# To that end, we need to chunk the context\n",
    "# and apply the model to each chunk.\n",
    "# Finally, we select the answer with the highest score.\n",
    "# However, as we see, the function needs some work to be fully robust...\n",
    "\n",
    "import torch\n",
    "import numpy as np\n",
    "\n",
    "def ask(question, context, model, tokenizer, max_len=512, stride=128):\n",
    "    # Tokenize with truncation & sliding window\n",
    "    inputs = tokenizer(\n",
    "        question,\n",
    "        context,\n",
    "        return_tensors=\"pt\",\n",
    "        max_length=max_len,\n",
    "        truncation=\"only_second\",\n",
    "        stride=stride,\n",
    "        return_overflowing_tokens=True,\n",
    "        return_offsets_mapping=True,\n",
    "        padding=\"max_length\"\n",
    "    )\n",
    "\n",
    "    input_ids = inputs[\"input_ids\"]\n",
    "    attention_mask = inputs[\"attention_mask\"]\n",
    "    offset_mapping = inputs[\"offset_mapping\"]\n",
    "    overflow_to_sample_mapping = inputs[\"overflow_to_sample_mapping\"]\n",
    "\n",
    "    best_score = -float(\"inf\")\n",
    "    best_answer = \"\"\n",
    "\n",
    "    for i in range(len(input_ids)):\n",
    "        with torch.no_grad():\n",
    "            outputs = model(\n",
    "                input_ids=input_ids[i].unsqueeze(0),\n",
    "                attention_mask=attention_mask[i].unsqueeze(0)\n",
    "            )\n",
    "\n",
    "        start_logits = outputs.start_logits[0]\n",
    "        end_logits = outputs.end_logits[0]\n",
    "\n",
    "        # Compute score matrix\n",
    "        start_index = torch.argmax(start_logits)\n",
    "        end_index = torch.argmax(end_logits)\n",
    "\n",
    "        # Make sure it's a valid span\n",
    "        if start_index <= end_index and end_index < len(offset_mapping[i]):\n",
    "            offsets = offset_mapping[i][start_index:end_index + 1]\n",
    "\n",
    "            if len(offsets) > 0 and offsets[0] is not None and offsets[-1] is not None:\n",
    "                start_char = offsets[0][0]\n",
    "                end_char = offsets[-1][1]\n",
    "                answer = context[start_char:end_char]\n",
    "                score = start_logits[start_index] + end_logits[end_index]\n",
    "                if score > best_score:\n",
    "                    best_score = score\n",
    "                    best_answer = answer\n",
    "\n",
    "\n",
    "    return {\n",
    "        \"question\": question,\n",
    "        \"answer\": best_answer,\n",
    "        \"score\": float(best_score),\n",
    "    }"
   ]
  },
  {
   "cell_type": "code",
   "execution_count": 81,
   "id": "25885e33",
   "metadata": {},
   "outputs": [],
   "source": [
    "model = AutoModelForQuestionAnswering.from_pretrained('./ft-distilbert')\n",
    "tokenizer = AutoTokenizer.from_pretrained('./ft-distilbert')"
   ]
  },
  {
   "cell_type": "code",
   "execution_count": 82,
   "id": "b0dd7cc5",
   "metadata": {},
   "outputs": [],
   "source": [
    "question = \"What can an attacker do with XSS?\"\n",
    "with open(\"./data/xss.txt\", \"r\") as f:\n",
    "    context = f.read()"
   ]
  },
  {
   "cell_type": "code",
   "execution_count": null,
   "id": "ac385092",
   "metadata": {},
   "outputs": [
    {
     "name": "stdout",
     "output_type": "stream",
     "text": [
      "{'question': 'What can an attacker do with XSS?', 'answer': \"The following JSP code segment reads an employee ID, eid, from an HTTP request and displays it to the user. The following ASP.NET code segment reads an employee ID number from an HTTP request and displays it to the user. The code in this example operates correctly if the Employee ID variable contains only standard alphanumeric text. If it has a value that includes meta-characters or source code, then the code will be executed by the web browser as it displays the HTTP response. Example 3 This example covers a Stored XSS (Type 2) scenario. The following JSP code segment queries a database for an employee with a given ID and prints the corresponding employee's name. The following ASP.NET code segment queries a database for an employee with a given employee ID and prints the name corresponding with the ID. This code can appear less dangerous because the value of name is read from a database, whose contents are apparently managed by the application. However, if the value of name originates from user-supplied data, then the database can be a conduit for malicious content. Without proper input validation on all data stored in the database, an attacker can execute malicious commands in the user's web browser. Example 4 The following example consists of two separate pages in a web application, one devoted to creating user accounts and another devoted to listing active users currently logged in. It also displays a Stored XSS (Type 2) scenario. CreateUser.php The code is careful to avoid a SQL injection attack ( CWE-89 ) but does not stop valid HTML from being stored in the database. This can be exploited later when ListUsers.php retrieves the information:  ListUsers.php\", 'score': 1.573649287223816}\n"
     ]
    }
   ],
   "source": [
    "# As we see, the function needs some work to be fully robust...\n",
    "# It is not working as well as the pipeline function\n",
    "answer = ask(question, context, model, tokenizer)\n",
    "print(answer)"
   ]
  },
  {
   "cell_type": "code",
   "execution_count": null,
   "id": "060382ea",
   "metadata": {},
   "outputs": [],
   "source": []
  }
 ],
 "metadata": {
  "kernelspec": {
   "display_name": "genai",
   "language": "python",
   "name": "python3"
  },
  "language_info": {
   "codemirror_mode": {
    "name": "ipython",
    "version": 3
   },
   "file_extension": ".py",
   "mimetype": "text/x-python",
   "name": "python",
   "nbconvert_exporter": "python",
   "pygments_lexer": "ipython3",
   "version": "3.10.18"
  }
 },
 "nbformat": 4,
 "nbformat_minor": 5
}
