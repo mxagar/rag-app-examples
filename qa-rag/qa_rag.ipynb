{
 "cells": [
  {
   "cell_type": "markdown",
   "id": "124e5672",
   "metadata": {},
   "source": [
    "# Custom Chatbot: 2024 Events in Spain"
   ]
  },
  {
   "cell_type": "markdown",
   "id": "2a4a94b3",
   "metadata": {},
   "source": [
    "This notebook shows how to build a basic Question-Answering chatbot based on the [Retrieval-Augmented Generation (RAG)](https://en.wikipedia.org/wiki/Retrieval-augmented_generation) pattern.\n",
    "\n",
    "RAG consists in \n",
    "\n",
    "- retrieving relevant documents related to the user **query** \n",
    "- and feeding them to a generative model in the context along with the query; \n",
    "- finally, we instruct the model to provide the answer using the provided documents/context.\n",
    "\n",
    "Therefore, we avoid needing to fine-tune the generative model with our documents.\n",
    "This is specially well suited when we want to extend the model's *memory* with recent and continuously changing documents.\n",
    "\n",
    "In order to show how the approach works,\n",
    "\n",
    "- I use the **model** [`gpt-3.5-turbo-instruct`](https://platform.openai.com/docs/models/gpt-3.5-turbo?snapshot=gpt-3.5-turbo-instruct) from OpenAI\n",
    "- and a **dataset** or set **queried documents** built from the Wikipedia article [2024 Events in Spain](https://en.wikipedia.org/wiki/2024_in_Spain) (54 events in total).\n",
    "\n",
    "The [`gpt-3.5-turbo-instruct`](https://platform.openai.com/docs/models/gpt-3.5-turbo?snapshot=gpt-3.5-turbo-instruct) model\n",
    "\n",
    "- is a Legacy GPT model for cheaper chat and non-chat tasks,\n",
    "- has a context window of `4,096` tokens,\n",
    "- and has a **knowledge cutoff as of Sep 01, 2021**.\n",
    "\n",
    "Therefore, we can be sure that none of the 2024 events in Spain were used for during the model training. Therefore,\n",
    "\n",
    "- if we ask the model a question about the dataset, it should hallucinate and/or fail to answer properly;\n",
    "- but if we use the RAG pattern, it should be able to build and use a relevant context that facilitates a correct answer.\n",
    "\n",
    "**Table of Contents**:\n",
    "\n",
    "- [Data Wrangling](#data-wrangling)\n",
    "  - [Get the Data](#get-the-data)\n",
    "  - [Extend the Data with Referenced Content](#extend-the-data-with-referenced-content)\n",
    "  - [Persist the Data as JSONL](#persist-the-data-as-jsonl)\n",
    "  - [Create the Dataframe with the Embeddings](#create-the-dataframe-with-the-embeddings)\n",
    "- [Relevant Data Retrieval](#relevant-data-retrieval)\n",
    "- [Custom Query Completion](#custom-query-completion)\n",
    "  - [Query Prompt](#query-prompt)\n",
    "  - [Query Answering Function](#query-answering-function)\n",
    "- [Custom Performance Demonstration](#custom-performance-demonstration)"
   ]
  },
  {
   "cell_type": "code",
   "execution_count": 1,
   "id": "b86ba1ec",
   "metadata": {},
   "outputs": [],
   "source": [
    "import os\n",
    "from dotenv import load_dotenv\n",
    "import openai"
   ]
  },
  {
   "cell_type": "code",
   "execution_count": 2,
   "id": "3c6f5a7e",
   "metadata": {},
   "outputs": [
    {
     "data": {
      "text/plain": [
       "True"
      ]
     },
     "execution_count": 2,
     "metadata": {},
     "output_type": "execute_result"
    }
   ],
   "source": [
    "load_dotenv(\".env\")"
   ]
  },
  {
   "cell_type": "code",
   "execution_count": 3,
   "id": "c96d89ea",
   "metadata": {},
   "outputs": [],
   "source": [
    "# Load once at module level\n",
    "openai_client = openai.OpenAI(\n",
    "  api_key=os.environ['OPENAI_API_KEY'],\n",
    ")"
   ]
  },
  {
   "cell_type": "markdown",
   "id": "a63d4c5f",
   "metadata": {},
   "source": [
    "## Data Wrangling"
   ]
  },
  {
   "cell_type": "markdown",
   "id": "a3ae68ae",
   "metadata": {},
   "source": [
    "The dataset or queried documents are scrapped from the Wikipedia article [2024 Events in Spain](https://en.wikipedia.org/wiki/2024_in_Spain) using `BeautifulSoup`.\n",
    "\n",
    "The main parsing function is `get_wikipedia_events()`, which returns a list of dictionaries; each dictionary is an event, which contains: \n",
    "\n",
    "- `month (str)`: The month of the event.\n",
    "- `date_text (str)`: The raw date text from the page.\n",
    "- `date (datetime.date)`: The parsed start date of the event.\n",
    "- `date_end (Optional[datetime.date])`: The parsed end date if it's a date range, else `None`.\n",
    "- `event (str)`: The cleaned event description.\n",
    "- `refs (list[str])`: List of reference IDs from the page.\n",
    "- `reference_urls (list[str])`: List of URLs for references.\n",
    "- `reference_entities (list[str])`: List of entities associated with the references.\n",
    "\n",
    "Then, the the content in the reference URLs is fetched in `get_event_reference_contents()`, which updated the dictionaries with the field `reference_content`.\n",
    "\n",
    "Additionally, the field `text` is also added in the same function; `text` which is the concatenation of the `date + event + reference_content` fields, i.e., a detailed description of the event.\n",
    "\n",
    "Finally, `docs_to_embeddings_df()` converts the event dictionaries into a dataframe with 54 rows (events) and the columns `date`, `event`, `text` and `embedding`.\n",
    "\n",
    "The `embedding` column contains the semantic embedding the the `text` column, which can be generated using:\n",
    "\n",
    "- HuggingFace (model `intfloat/e5-large-v2`): `compute_embeddings_hf()`\n",
    "- or OpenAI (model: `text-embedding-ada-002`): `compute_embeddings_openai()`\n",
    "\n",
    "The resulting dataframe is the *knowledge base* used for the RAG pipeline."
   ]
  },
  {
   "cell_type": "markdown",
   "id": "28bce858",
   "metadata": {},
   "source": [
    "### Get the Data"
   ]
  },
  {
   "cell_type": "markdown",
   "id": "1715b2e9",
   "metadata": {},
   "source": [
    "Here, we fetch the text from the Wikipedia site and pack it into a list of dictionaries.\n",
    "Each dictionary represents an event.\n",
    "The parsing function is customized for this specific website; unfortunately, that is usually so for many cases."
   ]
  },
  {
   "cell_type": "code",
   "execution_count": 294,
   "id": "325b808f",
   "metadata": {},
   "outputs": [],
   "source": [
    "import requests\n",
    "from bs4 import BeautifulSoup\n",
    "from urllib.parse import urlparse, urljoin\n",
    "from datetime import datetime\n",
    "from typing import Optional"
   ]
  },
  {
   "cell_type": "code",
   "execution_count": null,
   "id": "5c1b8b2e",
   "metadata": {},
   "outputs": [],
   "source": [
    "def get_wikipedia_events(url: str) -> list[dict]:\n",
    "    \"\"\"\n",
    "    Scrape events from a Wikipedia year-in-country page.\n",
    "    \n",
    "    Unfortunately, this scrapping function needs to be implemented ad-hoc\n",
    "    for each use case.\n",
    "    \n",
    "    Args:\n",
    "        url (str): URL of the Wikipedia page to scrape.\n",
    "    \n",
    "    Returns:\n",
    "        list[dict]: A list of dictionaries, each containing details about an event:\n",
    "            - month (str): The month of the event.\n",
    "            - date_text (str): The raw date text from the page.\n",
    "            - date (datetime.date): The parsed start date of the event.\n",
    "            - date_end (Optional[datetime.date]): The parsed end date if it's a date range, else None.\n",
    "            - event (str): The cleaned event description.\n",
    "            - refs (list[str]): List of reference IDs from the page.\n",
    "            - reference_urls (list[str]): List of URLs for references.\n",
    "            - reference_entities (list[str]): List of entities associated with the references.\n",
    "    \"\"\"\n",
    "    BASE_URL = \"https://en.wikipedia.org\"\n",
    "    HEADERS = {\"User-Agent\": \"Mozilla/5.0\"}\n",
    "\n",
    "    def _clean_event_text(text: str) -> str:\n",
    "        \"\"\"Normalize dashes, remove references like [2], and trim.\"\"\"\n",
    "        # Normalize en dash/em dash to plain ASCII hyphen\n",
    "        text = text.replace(\"\\u2013\", \"-\").replace(\"\\u2014\", \"-\")\n",
    "\n",
    "        # Remove [x] reference markers\n",
    "        import re\n",
    "        text = re.sub(r\"\\[\\s*\\d+\\s*\\]\", \"\", text)\n",
    "        return text.strip()\n",
    "\n",
    "    def _parse_dates(date_str: str, year: int = 2024) -> tuple[datetime.date, Optional[datetime.date]]:\n",
    "        \"\"\"Parse single or span dates into datetime objects.\"\"\"\n",
    "        date_str = date_str.strip()\n",
    "        # Normalize dashes\n",
    "        date_str = date_str.replace(\"\\u2013\", \"-\").replace(\"\\u2014\", \"-\")\n",
    "\n",
    "        if \"-\" in date_str:  # Handle spans like \"30 January-3 February\"\n",
    "            start_str, end_str = [s.strip() for s in date_str.split(\"-\", 1)]\n",
    "            try:\n",
    "                start_date = datetime.strptime(f\"{start_str} {year}\", \"%d %B %Y\").date()\n",
    "            except ValueError:\n",
    "                start_date = None\n",
    "            try:\n",
    "                end_date = datetime.strptime(f\"{end_str} {year}\", \"%d %B %Y\").date()\n",
    "            except ValueError:\n",
    "                end_date = None\n",
    "            return start_date, end_date\n",
    "        else:\n",
    "            try:\n",
    "                start_date = datetime.strptime(f\"{date_str} {year}\", \"%d %B %Y\").date()\n",
    "            except ValueError:\n",
    "                start_date = None\n",
    "            return start_date, None\n",
    "\n",
    "    response = requests.get(url, headers=HEADERS)\n",
    "    response.raise_for_status()\n",
    "    soup = BeautifulSoup(response.text, \"html.parser\")\n",
    "\n",
    "    events = []\n",
    "    events_div = soup.find(\"h2\", id=\"Events\").parent\n",
    "    sibling = events_div.find_next_sibling()\n",
    "\n",
    "    while sibling and not (sibling.name == \"div\" and sibling.find(\"h2\")):\n",
    "        if sibling.name == \"div\" and sibling.find(\"h3\"):  # month header\n",
    "            month = sibling.get_text(strip=True).replace(\"[edit]\", \"\")\n",
    "        elif sibling.name == \"ul\":\n",
    "            for li in sibling.find_all(\"li\", recursive=False):\n",
    "                text_raw = li.get_text(\" \", strip=True)\n",
    "                text_clean = _clean_event_text(text_raw)\n",
    "\n",
    "                # Split into date + event\n",
    "                if \" - \" in text_clean:\n",
    "                    date_text, event_text = text_clean.split(\" - \", 1)\n",
    "                else:\n",
    "                    date_text, event_text = None, text_clean\n",
    "\n",
    "                # Parse dates\n",
    "                date, date_end = _parse_dates(date_text or \"\", year=2024)\n",
    "\n",
    "                refs = [a[\"href\"][1:] for a in li.select(\"sup.reference a[href^='#cite_note']\")]\n",
    "                reference_urls, reference_entities = [], []\n",
    "\n",
    "                # External reference section\n",
    "                for ref in refs:\n",
    "                    ref_li = soup.find(\"li\", id=ref)\n",
    "                    if ref_li:\n",
    "                        link = ref_li.find(\"a\", class_=\"external text\")\n",
    "                        if link:\n",
    "                            url_ref = link[\"href\"]\n",
    "                            reference_urls.append(url_ref)\n",
    "                            reference_entities.append(urlparse(url_ref).netloc.replace(\"www.\", \"\"))\n",
    "\n",
    "                # Fallback: inline links\n",
    "                if not reference_urls:\n",
    "                    for a in li.find_all(\"a\", href=True):\n",
    "                        href = a[\"href\"]\n",
    "                        if href.startswith(\"/wiki/\"):\n",
    "                            url_ref = urljoin(BASE_URL, href)\n",
    "                            reference_urls.append(url_ref)\n",
    "                            reference_entities.append(\"Wikipedia\")\n",
    "\n",
    "                events.append({\n",
    "                    \"month\": month,\n",
    "                    \"date_text\": date_text,\n",
    "                    \"date\": date,\n",
    "                    \"date_end\": date_end,\n",
    "                    \"event\": event_text,\n",
    "                    \"refs\": refs,\n",
    "                    \"reference_urls\": reference_urls,\n",
    "                    \"reference_entities\": reference_entities\n",
    "                })\n",
    "        sibling = sibling.find_next_sibling()\n",
    "\n",
    "    return events"
   ]
  },
  {
   "cell_type": "code",
   "execution_count": 296,
   "id": "acb3a9fd",
   "metadata": {},
   "outputs": [
    {
     "name": "stdout",
     "output_type": "stream",
     "text": [
      "Total events found: 54\n",
      "{'month': 'January', 'date_text': '30 January-3 February', 'date': datetime.date(2024, 1, 30), 'date_end': datetime.date(2024, 2, 3), 'event': 'Benidorm Fest 2024 (1st semifinal)', 'refs': ['cite_note-2', 'cite_note-3'], 'reference_urls': ['https://www.formulatv.com/noticias/fechas-benidorm-fest-2024-semifinales-final-123651/', 'https://www.escplus.es/eurovision/2023/los-candidatos-del-benidorm-fest-2024-se-presentaran-en-el-teatro-alameda-a-las-1830-el-proximo-11-de-noviembre/'], 'reference_entities': ['formulatv.com', 'escplus.es']}\n",
      "{'month': 'February', 'date_text': '3 February', 'date': datetime.date(2024, 2, 3), 'date_end': None, 'event': '16th Gaudí Awards in Barcelona , Catalonia', 'refs': ['cite_note-4'], 'reference_urls': ['https://www.lavanguardia.com/vida/20230711/9102019/premios-gaudi-2024-otorgaran-3-febrero-teniendo-cuenta-codigo-conducta.html'], 'reference_entities': ['lavanguardia.com']}\n",
      "{'month': 'February', 'date_text': '9 February', 'date': datetime.date(2024, 2, 9), 'date_end': None, 'event': 'Two police officers are killed and two more are injured after a speedboat suspected of belonging to drug smugglers smashes into their patrol craft in the port of Barbate , Andalusia .', 'refs': ['cite_note-5'], 'reference_urls': ['https://apnews.com/article/spain-police-killed-speed-boat-drugs-barbate-d124bf08455073f471d24718ee49ced8'], 'reference_entities': ['apnews.com']}\n",
      "{'month': 'February', 'date_text': '10 February', 'date': datetime.date(2024, 2, 10), 'date_end': None, 'event': '38th Goya Awards in Valladolid , Castile and León', 'refs': ['cite_note-6'], 'reference_urls': ['https://www.20minutos.es/cinemania/noticias/premios-goya-2024-fecha-valladolid-5142839/'], 'reference_entities': ['20minutos.es']}\n",
      "{'month': 'February', 'date_text': '18 February', 'date': datetime.date(2024, 2, 18), 'date_end': None, 'event': '2024 Galician regional election', 'refs': [], 'reference_urls': ['https://en.wikipedia.org/wiki/2024_Galician_regional_election'], 'reference_entities': ['Wikipedia']}\n",
      "{'month': 'February', 'date_text': '22 February', 'date': datetime.date(2024, 2, 22), 'date_end': None, 'event': '2024 Valencia residential complex fire : At least 10 people are killed in a fire at a 14-storey residential building in Valencia .', 'refs': ['cite_note-7'], 'reference_urls': ['https://apnews.com/article/valencia-fire-spain-fire-e57323a53ece0d24e14ad67a3049ff47'], 'reference_entities': ['apnews.com']}\n",
      "{'month': 'February', 'date_text': '28 February', 'date': datetime.date(2024, 2, 28), 'date_end': None, 'event': 'An investigation is launched into a corruption scandal involving several political figures and allies of Prime Minister Pedro Sanchez .', 'refs': ['cite_note-8'], 'reference_urls': ['https://www.20minutos.es/noticia/5223317/0/todos-los-nombres-investigados-caso-koldo-otros-actores-salpicados/'], 'reference_entities': ['20minutos.es']}\n",
      "{'month': 'April', 'date_text': '20 April', 'date': datetime.date(2024, 4, 20), 'date_end': None, 'event': '2024 Anti-tourism protests in Spain : Protests occur in Tenerife , Canary Islands , against mass tourism in the Canary Islands which is allegedly increasing house prices for locals.', 'refs': ['cite_note-9'], 'reference_urls': ['https://www.reuters.com/world/europe/thousands-protest-spains-canary-islands-over-mass-tourism-2024-04-20/'], 'reference_entities': ['reuters.com']}\n",
      "{'month': 'April', 'date_text': '21 April', 'date': datetime.date(2024, 4, 21), 'date_end': None, 'event': '2024 Basque regional election', 'refs': [], 'reference_urls': ['https://en.wikipedia.org/wiki/2024_Basque_regional_election'], 'reference_entities': ['Wikipedia']}\n",
      "{'month': 'April', 'date_text': '24 April', 'date': datetime.date(2024, 4, 24), 'date_end': None, 'event': 'Prime Minister Pedro Sánchez says that he is considering resigning from office after the launch of a judicial investigation into his wife, Begoña Gómez after accusations by a right-wing legal platform.  On 29 April, Sánchez withdraws his considerations.', 'refs': ['cite_note-10', 'cite_note-11'], 'reference_urls': ['https://apnews.com/article/spain-prime-minister-wife-corruption-allegation-2a0a4ab8f603a5c63106813eec5b5579', 'https://apnews.com/article/spain-pedro-sanchez-future-begona-gomez-f69907e614c0558b9709d09c5d75967c'], 'reference_entities': ['apnews.com', 'apnews.com']}\n"
     ]
    }
   ],
   "source": [
    "# Get events\n",
    "URL = \"https://en.wikipedia.org/wiki/2024_in_Spain\"\n",
    "events = get_wikipedia_events(URL)\n",
    "\n",
    "print(f\"Total events found: {len(events)}\")\n",
    "for e in events[:10]:\n",
    "    print(e)"
   ]
  },
  {
   "cell_type": "markdown",
   "id": "419dcdbc",
   "metadata": {},
   "source": [
    "### Extend the Data with Referenced Content"
   ]
  },
  {
   "cell_type": "markdown",
   "id": "c490d3a8",
   "metadata": {},
   "source": [
    "The Wikipedia articles contain usually citations or references, which point to other Wikipedia or newspaper articles.\n",
    "This section goes through the extracted reference URLs, visits them and fetches their content.\n",
    "That way, we can enrich our knowledge base.\n",
    "Note that a field `text` is also added; `text` which is the concatenation of the `date + event + reference_content` fields, i.e., a detailed description of the event."
   ]
  },
  {
   "cell_type": "code",
   "execution_count": 297,
   "id": "c69e95e0",
   "metadata": {},
   "outputs": [],
   "source": [
    "import requests\n",
    "from bs4 import BeautifulSoup\n",
    "from tqdm import tqdm"
   ]
  },
  {
   "cell_type": "code",
   "execution_count": 298,
   "id": "95c294cf",
   "metadata": {},
   "outputs": [],
   "source": [
    "def get_event_reference_contents(\n",
    "    events: list[dict],\n",
    "    max_chars: int = 1000,\n",
    "    timeout: int = 10,\n",
    ") -> list[dict]:\n",
    "    \"\"\"\n",
    "    Fetches reference content for each event and adds it as a new field.\n",
    "    \n",
    "    Args:\n",
    "        events (list[dict]): List of event dictionaries.\n",
    "        max_chars (int): Max number of characters to keep from scraped text.\n",
    "        timeout (int): Timeout for HTTP requests.\n",
    "    \n",
    "    Returns:\n",
    "        list[dict]: Enriched events with 'reference_content' field.\n",
    "    \"\"\"\n",
    "    HEADERS = {\"User-Agent\": \"Mozilla/5.0\"}\n",
    "    for e in tqdm(events):\n",
    "        reference_content = []\n",
    "        for url in e.get(\"reference_urls\", []):\n",
    "            try:\n",
    "                resp = requests.get(url, headers=HEADERS, timeout=timeout)\n",
    "                resp.raise_for_status()\n",
    "                soup = BeautifulSoup(resp.text, \"html.parser\")\n",
    "\n",
    "                # Grab visible text (first few paragraphs)\n",
    "                paragraphs = soup.find_all(\"p\")\n",
    "                text = \" \".join(p.get_text(\" \", strip=True) for p in paragraphs)\n",
    "                text = text.replace(\"\\n\", \" \").strip()\n",
    "\n",
    "                # Truncate long text\n",
    "                if len(text) > max_chars:\n",
    "                    text = text[:max_chars] + \"...\"\n",
    "\n",
    "                reference_content.append(text)\n",
    "\n",
    "            except Exception as ex:\n",
    "                reference_content.append(None)\n",
    "\n",
    "        # Join contents if multiple refs\n",
    "        e[\"reference_content\"] = reference_content\n",
    "    \n",
    "        # Assemble a single text field for the event    \n",
    "        text = f\"Date: {e['date_text']}. Event: {e['event']}.\"\n",
    "        if reference_content:\n",
    "            ref_texts_valid = [str(rc) for rc in reference_content if rc]\n",
    "            text += f\" Event context: {'. '.join(ref_texts_valid)}\"\n",
    "        e[\"text\"] = text\n",
    "    \n",
    "    return events\n"
   ]
  },
  {
   "cell_type": "code",
   "execution_count": 299,
   "id": "0a285b36",
   "metadata": {},
   "outputs": [
    {
     "name": "stderr",
     "output_type": "stream",
     "text": [
      "100%|██████████| 54/54 [01:38<00:00,  1.83s/it]\n"
     ]
    }
   ],
   "source": [
    "# Extend event context\n",
    "events_extended = get_event_reference_contents(events)"
   ]
  },
  {
   "cell_type": "code",
   "execution_count": 301,
   "id": "99ff2327",
   "metadata": {},
   "outputs": [
    {
     "data": {
      "text/plain": [
       "{'month': 'January',\n",
       " 'date_text': '30 January-3 February',\n",
       " 'date': datetime.date(2024, 1, 30),\n",
       " 'date_end': datetime.date(2024, 2, 3),\n",
       " 'event': 'Benidorm Fest 2024 (1st semifinal)',\n",
       " 'refs': ['cite_note-2', 'cite_note-3'],\n",
       " 'reference_urls': ['https://www.formulatv.com/noticias/fechas-benidorm-fest-2024-semifinales-final-123651/',\n",
       "  'https://www.escplus.es/eurovision/2023/los-candidatos-del-benidorm-fest-2024-se-presentaran-en-el-teatro-alameda-a-las-1830-el-proximo-11-de-noviembre/'],\n",
       " 'reference_entities': ['formulatv.com', 'escplus.es'],\n",
       " 'reference_content': [\"CALENDARIO Así lo ha confirmado la organización en la rueda de prensa celebrada en Benidorm. Programa relacionado Benidorm Fest 2022 - Act España Concursos Entretenimiento Popularidad: #71 de 2.139 Vídeos FormulaTV 'Traitors: El debate' Programa 2 Tu Cara Me Suena El Debate! Analizamos la gala 6 Nos colamos en la grabación de Cifras y Letras Tu Cara Me Suena El Debate! Analizamos la gala 2 María Bernardeau y Biel Anton nos hablan de FoQ La nueva generación Promo de La familia de la tele La revuelta salta al prime time Velvet: Yon González protagoniza el remake de Telemundo El Benidorm Fest 2024 ya ha dado el pistoletazo de salida con la presentación celebrada en la localidad alicantina. Ahí, el equipo directivo del festival, los responsables de RTVE y las autoridades de la Generalitat Valenciana y Benidorm han avanzado muchas de las novedades de la próxima edición . Algo que generaba mucho interés eran las fechas en las que se celebrará el Benidorm Fest 2024 y ya están claras para que ...\",\n",
       "  'ESCplus España Tu punto de referencia alternativo sobre la música y fiestas de toda Europa, Noticias diarias, opinión, Eurostars, y todo lo relacionado con el festival de Eurovisión y NFs. RTVE por fin resuelve la gran duda de la presentación de los 16 elegidos para la tercera edición del Benidorm Fest 2023, será como ya sabíamos el próximo 11 de noviembre , pero además ya sabemos el lugar y hora exactos: será a las 18:30 en el Teatro Alameda de Sevilla . Además, tendremos la suerte de que ese mismo día, los artistas que optarán a representar a España en Eurovisión el próximo mayo en Malmö estarán presentes , ese día, no concederán entrevistas, tendremos que esperar al día siguiente , en el mismo Teatro, a partir de las 11:00 donde podremos escuchar las primeras palabras de los candidatos que quieres, los que tu quieres. La emisora ha recibido un total de 825 canciones , donde artistas de cualquier índole, género o influencia han podido enviar sus canciones con el objetivo de impulsar ...'],\n",
       " 'text': \"Date: 30 January-3 February. Event: Benidorm Fest 2024 (1st semifinal). Event context: CALENDARIO Así lo ha confirmado la organización en la rueda de prensa celebrada en Benidorm. Programa relacionado Benidorm Fest 2022 - Act España Concursos Entretenimiento Popularidad: #71 de 2.139 Vídeos FormulaTV 'Traitors: El debate' Programa 2 Tu Cara Me Suena El Debate! Analizamos la gala 6 Nos colamos en la grabación de Cifras y Letras Tu Cara Me Suena El Debate! Analizamos la gala 2 María Bernardeau y Biel Anton nos hablan de FoQ La nueva generación Promo de La familia de la tele La revuelta salta al prime time Velvet: Yon González protagoniza el remake de Telemundo El Benidorm Fest 2024 ya ha dado el pistoletazo de salida con la presentación celebrada en la localidad alicantina. Ahí, el equipo directivo del festival, los responsables de RTVE y las autoridades de la Generalitat Valenciana y Benidorm han avanzado muchas de las novedades de la próxima edición . Algo que generaba mucho interés eran las fechas en las que se celebrará el Benidorm Fest 2024 y ya están claras para que .... ESCplus España Tu punto de referencia alternativo sobre la música y fiestas de toda Europa, Noticias diarias, opinión, Eurostars, y todo lo relacionado con el festival de Eurovisión y NFs. RTVE por fin resuelve la gran duda de la presentación de los 16 elegidos para la tercera edición del Benidorm Fest 2023, será como ya sabíamos el próximo 11 de noviembre , pero además ya sabemos el lugar y hora exactos: será a las 18:30 en el Teatro Alameda de Sevilla . Además, tendremos la suerte de que ese mismo día, los artistas que optarán a representar a España en Eurovisión el próximo mayo en Malmö estarán presentes , ese día, no concederán entrevistas, tendremos que esperar al día siguiente , en el mismo Teatro, a partir de las 11:00 donde podremos escuchar las primeras palabras de los candidatos que quieres, los que tu quieres. La emisora ha recibido un total de 825 canciones , donde artistas de cualquier índole, género o influencia han podido enviar sus canciones con el objetivo de impulsar ...\"}"
      ]
     },
     "execution_count": 301,
     "metadata": {},
     "output_type": "execute_result"
    }
   ],
   "source": [
    "events_extended[0]"
   ]
  },
  {
   "cell_type": "markdown",
   "id": "c05fe3a6",
   "metadata": {},
   "source": [
    "### Persist the Data as JSONL"
   ]
  },
  {
   "cell_type": "markdown",
   "id": "f285f29c",
   "metadata": {},
   "source": [
    "We can and will persist the knowledge base as a dataframe, but probably a better suited format for the list of dictionaries is JSONL.\n",
    "The following functions save/load the parsed events."
   ]
  },
  {
   "cell_type": "code",
   "execution_count": null,
   "id": "babf70d1",
   "metadata": {},
   "outputs": [],
   "source": [
    "import json\n",
    "from datetime import datetime, date"
   ]
  },
  {
   "cell_type": "code",
   "execution_count": null,
   "id": "a989fc72",
   "metadata": {},
   "outputs": [],
   "source": [
    "def save_docs_to_jsonl(docs, path=\"documents.jsonl\") -> None:\n",
    "    with open(path, \"w\", encoding=\"utf-8\") as f:\n",
    "        for doc in docs:\n",
    "            doc_copy = doc.copy()\n",
    "            # Convert dates to ISO string\n",
    "            for k in [\"date\", \"date_end\"]:\n",
    "                if isinstance(doc_copy.get(k), (datetime, date)):\n",
    "                    doc_copy[k] = doc_copy[k].isoformat()\n",
    "            f.write(json.dumps(doc_copy, ensure_ascii=False) + \"\\n\")\n",
    "\n",
    "\n",
    "def load_docs_from_jsonl(path=\"documents.jsonl\") -> list[dict]:\n",
    "    docs = []\n",
    "    with open(path, \"r\", encoding=\"utf-8\") as f:\n",
    "        for line in f:\n",
    "            obj = json.loads(line)\n",
    "            # Parse back dates\n",
    "            for k in [\"date\", \"date_end\"]:\n",
    "                if obj.get(k):\n",
    "                    try:\n",
    "                        obj[k] = datetime.fromisoformat(obj[k]).date()\n",
    "                    except Exception:\n",
    "                        pass\n",
    "            docs.append(obj)\n",
    "    return docs\n"
   ]
  },
  {
   "cell_type": "code",
   "execution_count": 303,
   "id": "bf2f7ebb",
   "metadata": {},
   "outputs": [],
   "source": [
    "# Save documents to file\n",
    "save_docs_to_jsonl(docs=events_extended, path=\"data/events_spain_2024.jsonl\")"
   ]
  },
  {
   "cell_type": "code",
   "execution_count": 304,
   "id": "0c50fc14",
   "metadata": {},
   "outputs": [],
   "source": [
    "docs = load_docs_from_jsonl(path=\"data/events_spain_2024.jsonl\")"
   ]
  },
  {
   "cell_type": "code",
   "execution_count": 305,
   "id": "b3fe6ae6",
   "metadata": {},
   "outputs": [
    {
     "data": {
      "text/plain": [
       "{'month': 'January',\n",
       " 'date_text': '30 January-3 February',\n",
       " 'date': datetime.date(2024, 1, 30),\n",
       " 'date_end': datetime.date(2024, 2, 3),\n",
       " 'event': 'Benidorm Fest 2024 (1st semifinal)',\n",
       " 'refs': ['cite_note-2', 'cite_note-3'],\n",
       " 'reference_urls': ['https://www.formulatv.com/noticias/fechas-benidorm-fest-2024-semifinales-final-123651/',\n",
       "  'https://www.escplus.es/eurovision/2023/los-candidatos-del-benidorm-fest-2024-se-presentaran-en-el-teatro-alameda-a-las-1830-el-proximo-11-de-noviembre/'],\n",
       " 'reference_entities': ['formulatv.com', 'escplus.es'],\n",
       " 'reference_content': [\"CALENDARIO Así lo ha confirmado la organización en la rueda de prensa celebrada en Benidorm. Programa relacionado Benidorm Fest 2022 - Act España Concursos Entretenimiento Popularidad: #71 de 2.139 Vídeos FormulaTV 'Traitors: El debate' Programa 2 Tu Cara Me Suena El Debate! Analizamos la gala 6 Nos colamos en la grabación de Cifras y Letras Tu Cara Me Suena El Debate! Analizamos la gala 2 María Bernardeau y Biel Anton nos hablan de FoQ La nueva generación Promo de La familia de la tele La revuelta salta al prime time Velvet: Yon González protagoniza el remake de Telemundo El Benidorm Fest 2024 ya ha dado el pistoletazo de salida con la presentación celebrada en la localidad alicantina. Ahí, el equipo directivo del festival, los responsables de RTVE y las autoridades de la Generalitat Valenciana y Benidorm han avanzado muchas de las novedades de la próxima edición . Algo que generaba mucho interés eran las fechas en las que se celebrará el Benidorm Fest 2024 y ya están claras para que ...\",\n",
       "  'ESCplus España Tu punto de referencia alternativo sobre la música y fiestas de toda Europa, Noticias diarias, opinión, Eurostars, y todo lo relacionado con el festival de Eurovisión y NFs. RTVE por fin resuelve la gran duda de la presentación de los 16 elegidos para la tercera edición del Benidorm Fest 2023, será como ya sabíamos el próximo 11 de noviembre , pero además ya sabemos el lugar y hora exactos: será a las 18:30 en el Teatro Alameda de Sevilla . Además, tendremos la suerte de que ese mismo día, los artistas que optarán a representar a España en Eurovisión el próximo mayo en Malmö estarán presentes , ese día, no concederán entrevistas, tendremos que esperar al día siguiente , en el mismo Teatro, a partir de las 11:00 donde podremos escuchar las primeras palabras de los candidatos que quieres, los que tu quieres. La emisora ha recibido un total de 825 canciones , donde artistas de cualquier índole, género o influencia han podido enviar sus canciones con el objetivo de impulsar ...'],\n",
       " 'text': \"Date: 30 January-3 February. Event: Benidorm Fest 2024 (1st semifinal). Event context: CALENDARIO Así lo ha confirmado la organización en la rueda de prensa celebrada en Benidorm. Programa relacionado Benidorm Fest 2022 - Act España Concursos Entretenimiento Popularidad: #71 de 2.139 Vídeos FormulaTV 'Traitors: El debate' Programa 2 Tu Cara Me Suena El Debate! Analizamos la gala 6 Nos colamos en la grabación de Cifras y Letras Tu Cara Me Suena El Debate! Analizamos la gala 2 María Bernardeau y Biel Anton nos hablan de FoQ La nueva generación Promo de La familia de la tele La revuelta salta al prime time Velvet: Yon González protagoniza el remake de Telemundo El Benidorm Fest 2024 ya ha dado el pistoletazo de salida con la presentación celebrada en la localidad alicantina. Ahí, el equipo directivo del festival, los responsables de RTVE y las autoridades de la Generalitat Valenciana y Benidorm han avanzado muchas de las novedades de la próxima edición . Algo que generaba mucho interés eran las fechas en las que se celebrará el Benidorm Fest 2024 y ya están claras para que .... ESCplus España Tu punto de referencia alternativo sobre la música y fiestas de toda Europa, Noticias diarias, opinión, Eurostars, y todo lo relacionado con el festival de Eurovisión y NFs. RTVE por fin resuelve la gran duda de la presentación de los 16 elegidos para la tercera edición del Benidorm Fest 2023, será como ya sabíamos el próximo 11 de noviembre , pero además ya sabemos el lugar y hora exactos: será a las 18:30 en el Teatro Alameda de Sevilla . Además, tendremos la suerte de que ese mismo día, los artistas que optarán a representar a España en Eurovisión el próximo mayo en Malmö estarán presentes , ese día, no concederán entrevistas, tendremos que esperar al día siguiente , en el mismo Teatro, a partir de las 11:00 donde podremos escuchar las primeras palabras de los candidatos que quieres, los que tu quieres. La emisora ha recibido un total de 825 canciones , donde artistas de cualquier índole, género o influencia han podido enviar sus canciones con el objetivo de impulsar ...\"}"
      ]
     },
     "execution_count": 305,
     "metadata": {},
     "output_type": "execute_result"
    }
   ],
   "source": [
    "docs[0]"
   ]
  },
  {
   "cell_type": "markdown",
   "id": "3491cb7c",
   "metadata": {},
   "source": [
    "### Create the Dataframe with the Embeddings"
   ]
  },
  {
   "cell_type": "markdown",
   "id": "6e29e6b9",
   "metadata": {},
   "source": [
    "In the following, we create a `pandas` dataframe from the list of event dictionaries; additionally, the `text` field is encoded as embedding vectors.\n",
    "\n",
    "Embedding vectors capture the semantics of their represented texts in such a way that similar texts point to similar locations in embedding space.\n",
    "\n",
    "The function which accomplished the embedding is `compute_embeddings()`, which is a facade pointing to two vendor specific functions:\n",
    "\n",
    "- `compute_embeddings_hf()`: HuggingFace (model `intfloat/e5-large-v2`). This a local model well downloaded from HuggingFace, suited for context lengths of around 4k tokens.\n",
    "- `compute_embeddings_openai()`: or OpenAI (model: `text-embedding-ada-002`). This is an OpenAI model accessed via the OpenAI API."
   ]
  },
  {
   "cell_type": "code",
   "execution_count": 2,
   "id": "22a182d4",
   "metadata": {},
   "outputs": [],
   "source": [
    "from typing import Union\n",
    "\n",
    "import pandas as pd\n",
    "import numpy as np\n",
    "import ast\n",
    "\n",
    "from transformers import AutoTokenizer, AutoModel\n",
    "from transformers import PreTrainedTokenizerBase, PreTrainedModel\n",
    "import torch"
   ]
  },
  {
   "cell_type": "code",
   "execution_count": null,
   "id": "fc1bf60d",
   "metadata": {},
   "outputs": [],
   "source": [
    "# Load once at module level\n",
    "hf_embeddings_model_name = \"intfloat/e5-large-v2\"\n",
    "hf_embeddings_tokenizer = AutoTokenizer.from_pretrained(hf_embeddings_model_name)\n",
    "hf_embeddings_model = AutoModel.from_pretrained(hf_embeddings_model_name)\n",
    "\n",
    "def compute_embeddings_hf(\n",
    "    texts: Union[str, list[str]],\n",
    "    embeddings_model: PreTrainedModel = hf_embeddings_model,\n",
    "    embeddings_tokenizer: PreTrainedTokenizerBase = hf_embeddings_tokenizer,\n",
    "    normalize: bool = True,\n",
    "    device: str = None,\n",
    "    max_context_length: int = 4096\n",
    ") -> list[list[float]]:\n",
    "    \"\"\"\n",
    "    Compute embeddings for a single string or a list of strings using HuggingFace model.\n",
    "    Supports up to ~4k tokens.\n",
    "    \n",
    "    Args:\n",
    "        texts: A single string or a list of strings to compute embeddings for.\n",
    "        embeddings_model: The HuggingFace model to use for computing embeddings.\n",
    "        embeddings_tokenizer: The tokenizer to use for preparing input text.\n",
    "        normalize: Whether to normalize the output embeddings.\n",
    "        device: The device to run the model on (e.g., \"cuda\", \"cpu\").\n",
    "        max_context_length: The maximum context length for the model.\n",
    "\n",
    "    Returns:\n",
    "        list[list[float]]: A list of embeddings, each being a list of floats.\n",
    "    \"\"\"\n",
    "    if isinstance(texts, str):\n",
    "        texts = [texts]\n",
    "\n",
    "    if device is None:\n",
    "        device = \"cuda\" if torch.cuda.is_available() else (\"mps\" if torch.backends.mps.is_available() else \"cpu\")\n",
    "\n",
    "    # E5 models recommend prefixing input with \"passage: \" or \"query: \"\n",
    "    texts = [f\"passage: {t}\" for t in texts]\n",
    "\n",
    "    inputs = embeddings_tokenizer(\n",
    "        texts, \n",
    "        padding=True, \n",
    "        truncation=True, \n",
    "        max_length=max_context_length,\n",
    "        return_tensors=\"pt\"\n",
    "    ).to(device)\n",
    "\n",
    "    with torch.no_grad():\n",
    "        outputs = embeddings_model(**inputs)\n",
    "\n",
    "    # Mean pooling\n",
    "    attention_mask = inputs[\"attention_mask\"]\n",
    "    embeddings = (outputs.last_hidden_state * attention_mask.unsqueeze(-1)).sum(1)\n",
    "    embeddings = embeddings / attention_mask.sum(1, keepdim=True)\n",
    "\n",
    "    if normalize:\n",
    "        embeddings = torch.nn.functional.normalize(embeddings, p=2, dim=1)\n",
    "\n",
    "    return embeddings.cpu().tolist()"
   ]
  },
  {
   "cell_type": "code",
   "execution_count": 325,
   "id": "74d6a5c0",
   "metadata": {},
   "outputs": [],
   "source": [
    "question = \"When was the first election in Spain in the year 2024 and where was it?\"\n",
    "emb = compute_embeddings_hf(question)[0]"
   ]
  },
  {
   "cell_type": "code",
   "execution_count": null,
   "id": "6630adaa",
   "metadata": {},
   "outputs": [
    {
     "data": {
      "text/plain": [
       "1024"
      ]
     },
     "execution_count": 326,
     "metadata": {},
     "output_type": "execute_result"
    }
   ],
   "source": [
    "len(emb)"
   ]
  },
  {
   "cell_type": "code",
   "execution_count": null,
   "id": "2be8e9b4",
   "metadata": {},
   "outputs": [],
   "source": [
    "def compute_embeddings_openai(\n",
    "    texts: Union[str, list[str]],\n",
    "    openai_client: openai.OpenAI = openai_client,\n",
    "    embeddings_model_name: str = \"text-embedding-ada-002\"\n",
    ") -> list[list[float]]:\n",
    "    \"\"\"\n",
    "    Compute embeddings for a single string or a list of strings using OpenAI.\n",
    "    \n",
    "    Args:\n",
    "        texts: A string or list of strings to embed.\n",
    "        openai_client: An OpenAI client instance.\n",
    "        embeddings_model_name: Model name for embeddings.\n",
    "    \n",
    "    Returns:\n",
    "        List of embeddings (one per input string).\n",
    "    \"\"\"\n",
    "    if isinstance(texts, str):\n",
    "        texts = [texts]\n",
    "\n",
    "    response = openai_client.embeddings.create(\n",
    "        model=embeddings_model_name,\n",
    "        input=texts\n",
    "    )\n",
    "\n",
    "    return [item.embedding for item in response.data]"
   ]
  },
  {
   "cell_type": "code",
   "execution_count": 328,
   "id": "c1c19350",
   "metadata": {},
   "outputs": [],
   "source": [
    "emb = compute_embeddings_openai(question)[0]"
   ]
  },
  {
   "cell_type": "code",
   "execution_count": 329,
   "id": "fdc52ae5",
   "metadata": {},
   "outputs": [
    {
     "data": {
      "text/plain": [
       "1536"
      ]
     },
     "execution_count": 329,
     "metadata": {},
     "output_type": "execute_result"
    }
   ],
   "source": [
    "len(emb)"
   ]
  },
  {
   "cell_type": "code",
   "execution_count": null,
   "id": "c2f85eed",
   "metadata": {},
   "outputs": [],
   "source": [
    "def compute_embeddings(\n",
    "    texts: Union[str, list[str]],\n",
    "    embeddings_model_name: str = \"text-embedding-ada-002\",\n",
    ") -> list[list[float]]:\n",
    "    \"\"\"\n",
    "    Facade to compute embeddings using specified model.\n",
    "    \n",
    "    Args:\n",
    "        texts (Union[str, list[str]]): A string or list of strings to embed.\n",
    "        embeddings_model_name (str): Model name for embeddings; supported:\n",
    "            \"text-embedding-ada-002\" or \"intfloat/e5-large-v2\".\n",
    "\n",
    "    Returns:\n",
    "        list[list[float]]: List of embeddings (one per input string).\n",
    "    \"\"\"\n",
    "    embeddings = None\n",
    "    if embeddings_model_name == \"text-embedding-ada-002\":\n",
    "        embeddings = compute_embeddings_openai(texts)\n",
    "    elif embeddings_model_name == \"intfloat/e5-large-v2\":\n",
    "        embeddings = compute_embeddings_hf(texts)\n",
    "    else:\n",
    "        raise ValueError(f\"Unsupported embeddings model: {embeddings_model_name}\")\n",
    "\n",
    "    return embeddings"
   ]
  },
  {
   "cell_type": "code",
   "execution_count": null,
   "id": "3b00cada",
   "metadata": {},
   "outputs": [],
   "source": [
    "def docs_to_embeddings_df(\n",
    "    docs: list[dict],\n",
    "    embeddings_model_name: str = \"text-embedding-ada-002\",\n",
    ") -> pd.DataFrame:\n",
    "    \"\"\"\n",
    "    Create a DataFrame from documents with columns:\n",
    "      - date\n",
    "      - event\n",
    "      - text\n",
    "      - embedding\n",
    "\n",
    "    Args:\n",
    "        docs (list[dict]): List of document dictionaries; must have the keys:\n",
    "            \"date\", \"event\", and \"text\" (embedded text).\n",
    "        embeddings_model_name (str): Model name for embeddings; supported:\n",
    "            \"text-embedding-ada-002\" or \"intfloat/e5-large-v2\".\n",
    "\n",
    "    Returns:\n",
    "        pd.DataFrame: DataFrame with document data and embeddings.\n",
    "    \"\"\"\n",
    "    # Build rows\n",
    "    rows = []\n",
    "    for d in docs:\n",
    "        rows.append({\n",
    "            \"date\": d.get(\"date\"),\n",
    "            \"event\": d.get(\"event\", \"\"),\n",
    "            \"text\": d.get(\"text\", \"\")\n",
    "        })\n",
    "\n",
    "    # Compute embeddings\n",
    "    embeddings = []\n",
    "    batch_size = 100\n",
    "    for i in range(0, len(docs), batch_size):\n",
    "        batch_texts = [docs[j].get(\"text\", \"\") for j in range(i, min(i + batch_size, len(docs)))]\n",
    "        batch_embeddings = compute_embeddings(batch_texts, embeddings_model_name=embeddings_model_name)\n",
    "        if len(batch_embeddings) > 0:\n",
    "            embeddings.extend(batch_embeddings)\n",
    "\n",
    "    # Create DataFrame\n",
    "    df = pd.DataFrame(rows)\n",
    "    try:\n",
    "        df[\"embedding\"] = embeddings\n",
    "    except Exception as ex:\n",
    "        print(f\"Error assigning embeddings: {ex}\")\n",
    "        df[\"embedding\"] = [None] * len(df)\n",
    "\n",
    "    return df"
   ]
  },
  {
   "cell_type": "code",
   "execution_count": 351,
   "id": "e3f37096",
   "metadata": {},
   "outputs": [],
   "source": [
    "# Create the dataframe with embeddings\n",
    "events_df = docs_to_embeddings_df(docs)"
   ]
  },
  {
   "cell_type": "code",
   "execution_count": 352,
   "id": "84fa51b9",
   "metadata": {},
   "outputs": [
    {
     "data": {
      "text/html": [
       "<div>\n",
       "<style scoped>\n",
       "    .dataframe tbody tr th:only-of-type {\n",
       "        vertical-align: middle;\n",
       "    }\n",
       "\n",
       "    .dataframe tbody tr th {\n",
       "        vertical-align: top;\n",
       "    }\n",
       "\n",
       "    .dataframe thead th {\n",
       "        text-align: right;\n",
       "    }\n",
       "</style>\n",
       "<table border=\"1\" class=\"dataframe\">\n",
       "  <thead>\n",
       "    <tr style=\"text-align: right;\">\n",
       "      <th></th>\n",
       "      <th>date</th>\n",
       "      <th>event</th>\n",
       "      <th>text</th>\n",
       "      <th>embedding</th>\n",
       "    </tr>\n",
       "  </thead>\n",
       "  <tbody>\n",
       "    <tr>\n",
       "      <th>0</th>\n",
       "      <td>2024-01-30</td>\n",
       "      <td>Benidorm Fest 2024 (1st semifinal)</td>\n",
       "      <td>Date: 30 January-3 February. Event: Benidorm F...</td>\n",
       "      <td>[-0.020939640700817108, -0.02435429021716118, ...</td>\n",
       "    </tr>\n",
       "    <tr>\n",
       "      <th>1</th>\n",
       "      <td>2024-02-03</td>\n",
       "      <td>16th Gaudí Awards in Barcelona , Catalonia</td>\n",
       "      <td>Date: 3 February. Event: 16th Gaudí Awards in ...</td>\n",
       "      <td>[-0.011150036007165909, 0.006784180179238319, ...</td>\n",
       "    </tr>\n",
       "    <tr>\n",
       "      <th>2</th>\n",
       "      <td>2024-02-09</td>\n",
       "      <td>Two police officers are killed and two more ar...</td>\n",
       "      <td>Date: 9 February. Event: Two police officers a...</td>\n",
       "      <td>[-0.012281500734388828, -0.0061645121313631535...</td>\n",
       "    </tr>\n",
       "    <tr>\n",
       "      <th>3</th>\n",
       "      <td>2024-02-10</td>\n",
       "      <td>38th Goya Awards in Valladolid , Castile and León</td>\n",
       "      <td>Date: 10 February. Event: 38th Goya Awards in ...</td>\n",
       "      <td>[-0.020344838500022888, -0.020213834941387177,...</td>\n",
       "    </tr>\n",
       "    <tr>\n",
       "      <th>4</th>\n",
       "      <td>2024-02-18</td>\n",
       "      <td>2024 Galician regional election</td>\n",
       "      <td>Date: 18 February. Event: 2024 Galician region...</td>\n",
       "      <td>[-0.01590176671743393, -0.0005188596551306546,...</td>\n",
       "    </tr>\n",
       "  </tbody>\n",
       "</table>\n",
       "</div>"
      ],
      "text/plain": [
       "         date                                              event  \\\n",
       "0  2024-01-30                 Benidorm Fest 2024 (1st semifinal)   \n",
       "1  2024-02-03         16th Gaudí Awards in Barcelona , Catalonia   \n",
       "2  2024-02-09  Two police officers are killed and two more ar...   \n",
       "3  2024-02-10  38th Goya Awards in Valladolid , Castile and León   \n",
       "4  2024-02-18                    2024 Galician regional election   \n",
       "\n",
       "                                                text  \\\n",
       "0  Date: 30 January-3 February. Event: Benidorm F...   \n",
       "1  Date: 3 February. Event: 16th Gaudí Awards in ...   \n",
       "2  Date: 9 February. Event: Two police officers a...   \n",
       "3  Date: 10 February. Event: 38th Goya Awards in ...   \n",
       "4  Date: 18 February. Event: 2024 Galician region...   \n",
       "\n",
       "                                           embedding  \n",
       "0  [-0.020939640700817108, -0.02435429021716118, ...  \n",
       "1  [-0.011150036007165909, 0.006784180179238319, ...  \n",
       "2  [-0.012281500734388828, -0.0061645121313631535...  \n",
       "3  [-0.020344838500022888, -0.020213834941387177,...  \n",
       "4  [-0.01590176671743393, -0.0005188596551306546,...  "
      ]
     },
     "execution_count": 352,
     "metadata": {},
     "output_type": "execute_result"
    }
   ],
   "source": [
    "events_df.head()"
   ]
  },
  {
   "cell_type": "code",
   "execution_count": 353,
   "id": "d3c7106b",
   "metadata": {},
   "outputs": [
    {
     "name": "stdout",
     "output_type": "stream",
     "text": [
      "1536\n"
     ]
    }
   ],
   "source": [
    "# Dimensionality of the embeddings: 1536\n",
    "print(len(events_df.loc[0, \"embedding\"]))"
   ]
  },
  {
   "cell_type": "code",
   "execution_count": 354,
   "id": "9c697f29",
   "metadata": {},
   "outputs": [],
   "source": [
    "# Save to CSV\n",
    "events_df.to_csv(\"data/events_spain_2024_embeddings.csv\")"
   ]
  },
  {
   "cell_type": "code",
   "execution_count": 355,
   "id": "a241434e",
   "metadata": {},
   "outputs": [],
   "source": [
    "# Load from CSV\n",
    "events_df = pd.read_csv(\"data/events_spain_2024_embeddings.csv\", index_col=0)\n",
    "events_df[\"embedding\"] = events_df[\"embedding\"].apply(ast.literal_eval)"
   ]
  },
  {
   "cell_type": "code",
   "execution_count": 356,
   "id": "3e7d800c",
   "metadata": {},
   "outputs": [
    {
     "data": {
      "text/html": [
       "<div>\n",
       "<style scoped>\n",
       "    .dataframe tbody tr th:only-of-type {\n",
       "        vertical-align: middle;\n",
       "    }\n",
       "\n",
       "    .dataframe tbody tr th {\n",
       "        vertical-align: top;\n",
       "    }\n",
       "\n",
       "    .dataframe thead th {\n",
       "        text-align: right;\n",
       "    }\n",
       "</style>\n",
       "<table border=\"1\" class=\"dataframe\">\n",
       "  <thead>\n",
       "    <tr style=\"text-align: right;\">\n",
       "      <th></th>\n",
       "      <th>date</th>\n",
       "      <th>event</th>\n",
       "      <th>text</th>\n",
       "      <th>embedding</th>\n",
       "    </tr>\n",
       "  </thead>\n",
       "  <tbody>\n",
       "    <tr>\n",
       "      <th>0</th>\n",
       "      <td>2024-01-30</td>\n",
       "      <td>Benidorm Fest 2024 (1st semifinal)</td>\n",
       "      <td>Date: 30 January-3 February. Event: Benidorm F...</td>\n",
       "      <td>[-0.020939640700817108, -0.02435429021716118, ...</td>\n",
       "    </tr>\n",
       "    <tr>\n",
       "      <th>1</th>\n",
       "      <td>2024-02-03</td>\n",
       "      <td>16th Gaudí Awards in Barcelona , Catalonia</td>\n",
       "      <td>Date: 3 February. Event: 16th Gaudí Awards in ...</td>\n",
       "      <td>[-0.011150036007165909, 0.006784180179238319, ...</td>\n",
       "    </tr>\n",
       "    <tr>\n",
       "      <th>2</th>\n",
       "      <td>2024-02-09</td>\n",
       "      <td>Two police officers are killed and two more ar...</td>\n",
       "      <td>Date: 9 February. Event: Two police officers a...</td>\n",
       "      <td>[-0.012281500734388828, -0.0061645121313631535...</td>\n",
       "    </tr>\n",
       "    <tr>\n",
       "      <th>3</th>\n",
       "      <td>2024-02-10</td>\n",
       "      <td>38th Goya Awards in Valladolid , Castile and León</td>\n",
       "      <td>Date: 10 February. Event: 38th Goya Awards in ...</td>\n",
       "      <td>[-0.020344838500022888, -0.020213834941387177,...</td>\n",
       "    </tr>\n",
       "    <tr>\n",
       "      <th>4</th>\n",
       "      <td>2024-02-18</td>\n",
       "      <td>2024 Galician regional election</td>\n",
       "      <td>Date: 18 February. Event: 2024 Galician region...</td>\n",
       "      <td>[-0.01590176671743393, -0.0005188596551306546,...</td>\n",
       "    </tr>\n",
       "  </tbody>\n",
       "</table>\n",
       "</div>"
      ],
      "text/plain": [
       "         date                                              event  \\\n",
       "0  2024-01-30                 Benidorm Fest 2024 (1st semifinal)   \n",
       "1  2024-02-03         16th Gaudí Awards in Barcelona , Catalonia   \n",
       "2  2024-02-09  Two police officers are killed and two more ar...   \n",
       "3  2024-02-10  38th Goya Awards in Valladolid , Castile and León   \n",
       "4  2024-02-18                    2024 Galician regional election   \n",
       "\n",
       "                                                text  \\\n",
       "0  Date: 30 January-3 February. Event: Benidorm F...   \n",
       "1  Date: 3 February. Event: 16th Gaudí Awards in ...   \n",
       "2  Date: 9 February. Event: Two police officers a...   \n",
       "3  Date: 10 February. Event: 38th Goya Awards in ...   \n",
       "4  Date: 18 February. Event: 2024 Galician region...   \n",
       "\n",
       "                                           embedding  \n",
       "0  [-0.020939640700817108, -0.02435429021716118, ...  \n",
       "1  [-0.011150036007165909, 0.006784180179238319, ...  \n",
       "2  [-0.012281500734388828, -0.0061645121313631535...  \n",
       "3  [-0.020344838500022888, -0.020213834941387177,...  \n",
       "4  [-0.01590176671743393, -0.0005188596551306546,...  "
      ]
     },
     "execution_count": 356,
     "metadata": {},
     "output_type": "execute_result"
    }
   ],
   "source": [
    "events_df.head()"
   ]
  },
  {
   "cell_type": "markdown",
   "id": "43183e7c",
   "metadata": {},
   "source": [
    "## Relevant Data Retrieval"
   ]
  },
  {
   "cell_type": "markdown",
   "id": "33c62631",
   "metadata": {},
   "source": [
    "Once the knowledge base is built and vectorized, we need to retrieve relevant documents from it.\n",
    "\n",
    "Since the documents are encoded as dense semantic embeddings, we embed the query with the same function and pick the documents which have the vectors which are most aligned with it. That consists in projecting the query vector on the knowledge base and selecting the largest projection value, in oder words, applying [cosine similarity](https://en.wikipedia.org/wiki/Cosine_similarity).\n",
    "\n",
    "In order to increase transparency, the ids (and hence, the reference URLs) of the retrieved documents are also returned and will be used later in the pipeline."
   ]
  },
  {
   "cell_type": "code",
   "execution_count": 1,
   "id": "82976a29",
   "metadata": {},
   "outputs": [],
   "source": [
    "from typing import Optional, Tuple\n",
    "import numpy as np\n",
    "import matplotlib.pyplot as plt\n",
    "from scipy.spatial.distance import cosine as cosine_distance\n",
    "from scipy.spatial.distance import cdist"
   ]
  },
  {
   "cell_type": "code",
   "execution_count": 383,
   "id": "c5131d2c",
   "metadata": {},
   "outputs": [],
   "source": [
    "docs_embeddings = np.stack(events_df[\"embedding\"].to_numpy())"
   ]
  },
  {
   "cell_type": "code",
   "execution_count": null,
   "id": "9be1ed6d",
   "metadata": {},
   "outputs": [],
   "source": [
    "def compute_cosine_similarity(query_vec: np.ndarray, doc_matrix: np.ndarray) -> np.ndarray:\n",
    "    \"\"\"\n",
    "    Compute cosine similarity between a query vector and a matrix of document vectors.\n",
    "\n",
    "    Args:\n",
    "        query_vec: np.ndarray of shape (embedding_dim,)\n",
    "        doc_matrix: np.ndarray of shape (n_docs, embedding_dim)\n",
    "\n",
    "    Returns:\n",
    "        similarities: np.ndarray of shape (n_docs,), values in [-1, 1]\n",
    "    \"\"\"\n",
    "    query_norm = query_vec / np.linalg.norm(query_vec)\n",
    "    doc_norms = doc_matrix / np.linalg.norm(doc_matrix, axis=1, keepdims=True)\n",
    "    return np.dot(doc_norms, query_norm)\n",
    "\n",
    "\n",
    "def find_relevant_docs(\n",
    "    question: str,\n",
    "    docs_embeddings: np.ndarray,\n",
    "    embeddings_model_name: str = \"text-embedding-ada-002\",\n",
    "    top_k: Optional[int] = None,\n",
    ") -> Tuple[np.ndarray, np.ndarray]:\n",
    "    \"\"\"\n",
    "    Given a question and a matrix of embeddings, return the indices of the most\n",
    "    relevant documents and their similarity scores.\n",
    "\n",
    "    Args:\n",
    "        question: The query string.\n",
    "        docs_embeddings: np.ndarray of shape (n_docs, embedding_dim).\n",
    "        embeddings_model_name: Model to compute embeddings.\n",
    "        top_k: Number of top results to return.\n",
    "\n",
    "    Returns:\n",
    "        sorted_doc_ids: np.ndarray of row indices sorted by relevance (highest score first).\n",
    "        sorted_doc_scores: np.ndarray of cosine similarities sorted in the same order.\n",
    "    \"\"\"\n",
    "    # Get embedding for the query\n",
    "    query_embedding = compute_embeddings(\n",
    "        question,\n",
    "        embeddings_model_name=embeddings_model_name\n",
    "    )[0]  # returns list[list[float]]\n",
    "\n",
    "    query_embedding = np.array(query_embedding, dtype=np.float32)\n",
    "\n",
    "    # Compute similarities\n",
    "    similarities = compute_cosine_similarity(query_embedding, docs_embeddings)\n",
    "\n",
    "    # Sort by descending similarity\n",
    "    sorted_doc_ids = np.argsort(similarities)[::-1]\n",
    "    sorted_doc_scores = similarities[sorted_doc_ids]\n",
    "\n",
    "    if top_k is not None and 0 < top_k < len(sorted_doc_ids):\n",
    "        sorted_doc_ids = sorted_doc_ids[:top_k]\n",
    "        sorted_doc_scores = sorted_doc_scores[:top_k]\n",
    "\n",
    "    return sorted_doc_ids, sorted_doc_scores"
   ]
  },
  {
   "cell_type": "code",
   "execution_count": 385,
   "id": "5a73ba76",
   "metadata": {},
   "outputs": [],
   "source": [
    "sorted_doc_ids, sorted_doc_scores = find_relevant_docs(\n",
    "    \"When was the first election in Spain in the year 2024 and where was it?\",\n",
    "    docs_embeddings,\n",
    ")"
   ]
  },
  {
   "cell_type": "code",
   "execution_count": 386,
   "id": "075edcd9",
   "metadata": {},
   "outputs": [
    {
     "data": {
      "text/plain": [
       "array([ 4,  8, 22, 11,  7, 20, 32,  9, 10, 37, 12, 44, 52,  3, 41,  1, 46,\n",
       "       33, 18, 35, 30, 25,  0, 29, 26, 39,  6, 31, 40, 45,  5, 17, 19, 16,\n",
       "       36, 23, 34, 14, 13, 21, 48, 38, 47, 49, 15,  2, 42, 28, 50, 43, 27,\n",
       "       24, 53, 51])"
      ]
     },
     "execution_count": 386,
     "metadata": {},
     "output_type": "execute_result"
    }
   ],
   "source": [
    "sorted_doc_ids"
   ]
  },
  {
   "cell_type": "code",
   "execution_count": 387,
   "id": "4a3c5f9d",
   "metadata": {},
   "outputs": [
    {
     "data": {
      "text/html": [
       "<div>\n",
       "<style scoped>\n",
       "    .dataframe tbody tr th:only-of-type {\n",
       "        vertical-align: middle;\n",
       "    }\n",
       "\n",
       "    .dataframe tbody tr th {\n",
       "        vertical-align: top;\n",
       "    }\n",
       "\n",
       "    .dataframe thead th {\n",
       "        text-align: right;\n",
       "    }\n",
       "</style>\n",
       "<table border=\"1\" class=\"dataframe\">\n",
       "  <thead>\n",
       "    <tr style=\"text-align: right;\">\n",
       "      <th></th>\n",
       "      <th>date</th>\n",
       "      <th>event</th>\n",
       "      <th>text</th>\n",
       "      <th>embedding</th>\n",
       "    </tr>\n",
       "  </thead>\n",
       "  <tbody>\n",
       "    <tr>\n",
       "      <th>4</th>\n",
       "      <td>2024-02-18</td>\n",
       "      <td>2024 Galician regional election</td>\n",
       "      <td>Date: 18 February. Event: 2024 Galician region...</td>\n",
       "      <td>[-0.01590176671743393, -0.0005188596551306546,...</td>\n",
       "    </tr>\n",
       "    <tr>\n",
       "      <th>8</th>\n",
       "      <td>2024-04-21</td>\n",
       "      <td>2024 Basque regional election</td>\n",
       "      <td>Date: 21 April. Event: 2024 Basque regional el...</td>\n",
       "      <td>[-0.007055893074721098, -0.017370423302054405,...</td>\n",
       "    </tr>\n",
       "    <tr>\n",
       "      <th>22</th>\n",
       "      <td>2024-06-11</td>\n",
       "      <td>2024 Spain floods .</td>\n",
       "      <td>Date: 11 June. Event: 2024 Spain floods .. Eve...</td>\n",
       "      <td>[-0.017896950244903564, -0.02372639812529087, ...</td>\n",
       "    </tr>\n",
       "  </tbody>\n",
       "</table>\n",
       "</div>"
      ],
      "text/plain": [
       "          date                            event  \\\n",
       "4   2024-02-18  2024 Galician regional election   \n",
       "8   2024-04-21    2024 Basque regional election   \n",
       "22  2024-06-11              2024 Spain floods .   \n",
       "\n",
       "                                                 text  \\\n",
       "4   Date: 18 February. Event: 2024 Galician region...   \n",
       "8   Date: 21 April. Event: 2024 Basque regional el...   \n",
       "22  Date: 11 June. Event: 2024 Spain floods .. Eve...   \n",
       "\n",
       "                                            embedding  \n",
       "4   [-0.01590176671743393, -0.0005188596551306546,...  \n",
       "8   [-0.007055893074721098, -0.017370423302054405,...  \n",
       "22  [-0.017896950244903564, -0.02372639812529087, ...  "
      ]
     },
     "execution_count": 387,
     "metadata": {},
     "output_type": "execute_result"
    }
   ],
   "source": [
    "events_df.iloc[sorted_doc_ids[:3]]  # Top 3 most relevant events"
   ]
  },
  {
   "cell_type": "code",
   "execution_count": 389,
   "id": "c7911621",
   "metadata": {},
   "outputs": [
    {
     "data": {
      "text/plain": [
       "[<matplotlib.lines.Line2D at 0x1bb4ec1c9d0>]"
      ]
     },
     "execution_count": 389,
     "metadata": {},
     "output_type": "execute_result"
    },
    {
     "data": {
      "image/png": "[encoded data removed]",
      "text/plain": [
       "<Figure size 640x480 with 1 Axes>"
      ]
     },
     "metadata": {},
     "output_type": "display_data"
    }
   ],
   "source": [
    "plt.plot(sorted_doc_scores)"
   ]
  },
  {
   "cell_type": "markdown",
   "id": "ae769871",
   "metadata": {},
   "source": [
    "## Custom Query Completion"
   ]
  },
  {
   "cell_type": "markdown",
   "id": "2432ba9a",
   "metadata": {},
   "source": [
    "Once our retrieval function is working, we need to:\n",
    "\n",
    "- Create a prompt or the instruction passed to the LLM with `create_prompt()`, which injects relevant documents to the prompt,\n",
    "- and `generate_response()` with the created prompt as input.\n",
    "\n",
    "In the latter function, the `completions` API from OpenAI is used.\n",
    "\n",
    "The prompt is an instruction for the generative model where we request to answer the user query using the context of the relevant documents."
   ]
  },
  {
   "cell_type": "markdown",
   "id": "f412e742",
   "metadata": {},
   "source": [
    "### Query Prompt"
   ]
  },
  {
   "cell_type": "code",
   "execution_count": 390,
   "id": "b13f0887",
   "metadata": {},
   "outputs": [],
   "source": [
    "import tiktoken\n",
    "\n",
    "def create_prompt(\n",
    "    question: str,\n",
    "    events_dicts: list[dict],\n",
    "    sorted_doc_ids: np.ndarray,\n",
    "    sorted_doc_distances: np.ndarray,\n",
    "    max_token_count: int\n",
    ") -> tuple[str, list[int], list[float]]:\n",
    "    \"\"\"\n",
    "    Given a question and a dataframe containing rows of text and their\n",
    "    embeddings, return a text prompt to send to a Completion model\n",
    "    \"\"\"\n",
    "    # Create a tokenizer that is designed to align with our embeddings\n",
    "    # Tiktoken is the official tokenizer for OpenAI models\n",
    "    # GPT-4, GPT-3.5, text-embedding-ada-002 use the same tokenizer: cl100k_base\n",
    "    tokenizer = tiktoken.get_encoding(\"cl100k_base\")\n",
    "    \n",
    "    # Count the number of tokens in the prompt template and question\n",
    "    prompt_template = \"\"\"\n",
    "Answer the question based on the context below, and if the question\n",
    "can't be answered based on the context, say \"I don't know\"\n",
    "\n",
    "Context: \n",
    "\n",
    "{}\n",
    "\n",
    "---\n",
    "\n",
    "Question: {}\n",
    "Answer:\"\"\"\n",
    "    \n",
    "    current_token_count = len(tokenizer.encode(prompt_template)) + \\\n",
    "                            len(tokenizer.encode(question))\n",
    "    \n",
    "    context = []\n",
    "    selected_doc_ids = []\n",
    "    selected_doc_distances = []\n",
    "    for doc_id, distance in zip(sorted_doc_ids, sorted_doc_distances):\n",
    "        # Increase the counter based on the number of tokens in this row\n",
    "        text = events_dicts[doc_id][\"text\"]\n",
    "        text_token_count = len(tokenizer.encode(text))\n",
    "        current_token_count += text_token_count\n",
    "        # Add the row of text to the list if we haven't exceeded the max\n",
    "        if current_token_count <= max_token_count:\n",
    "            context.append(text)\n",
    "            selected_doc_ids.append(int(doc_id))\n",
    "            selected_doc_distances.append(float(distance))\n",
    "        else:\n",
    "            break\n",
    "\n",
    "    return prompt_template.format(\"\\n\\n###\\n\\n\".join(context), question), selected_doc_ids, selected_doc_distances"
   ]
  },
  {
   "cell_type": "code",
   "execution_count": 394,
   "id": "4c0aa53a",
   "metadata": {},
   "outputs": [],
   "source": [
    "# Retrieve sorted relevant doc ids\n",
    "question=\"When was the first election in Spain in the year 2024 and where was it?\"\n",
    "sorted_doc_ids, sorted_doc_scores = find_relevant_docs(question, docs_embeddings)\n",
    "\n",
    "# Create prompt\n",
    "prompt, selected_doc_ids, sorted_doc_scores = create_prompt(\n",
    "    question,\n",
    "    docs,\n",
    "    sorted_doc_ids,\n",
    "    sorted_doc_scores,\n",
    "    max_token_count=1000,\n",
    ")"
   ]
  },
  {
   "cell_type": "code",
   "execution_count": 396,
   "id": "78bc047e",
   "metadata": {},
   "outputs": [
    {
     "name": "stdout",
     "output_type": "stream",
     "text": [
      "\n",
      "Answer the question based on the context below, and if the question\n",
      "can't be answered based on the context, say \"I don't know\"\n",
      "\n",
      "Context: \n",
      "\n",
      "Date: 18 February. Event: 2024 Galician regional election. Event context: Alfonso Rueda PP Alfonso Rueda PP A regional election was held in Galicia on Sunday, 18 February 2024, to elect the 12th Parliament of the autonomous community . All 75 seats in the Parliament were up for election. The Parliament of Galicia was the devolved , unicameral legislature of the autonomous community of Galicia , having legislative power in regional matters as defined by the Spanish Constitution and the Galician Statute of Autonomy , as well as the ability to vote confidence in or withdraw it from a regional president . [ 1 ] Voting for the Parliament was on the basis of universal suffrage , which comprised all nationals over 18 years of age, registered in Galicia and in full enjoyment of their political rights. Amendments to the electoral law in 2022 abolished the \"begged\" or expat vote system ( Spanish : Voto rogado ), under which Spaniards abroad were required to apply for voting before being permitted to vote. [ 2 ] The expat vote system was attributed responsibility for a...\n",
      "\n",
      "###\n",
      "\n",
      "Date: 21 April. Event: 2024 Basque regional election. Event context: Iñigo Urkullu EAJ/PNV Imanol Pradales EAJ/PNV A regional election was held in the Basque Country on Sunday, 21 April 2024, to elect the 13th Parliament of the autonomous community . All 75 seats in the Parliament were up for election. This election was the first since 2009 not to see Iñigo Urkullu as the leading candidate of the Basque Nationalist Party (PNV), after the party chose to replace the incumbent Lehendakari with a low profile politician at the provincial level, Imanol Pradales , following 12 years of uninterrupted government. The main opposition, EH Bildu , also ran under a new candidate, Pello Otxandiano , amid speculation that long-time leader Arnaldo Otegi could have led the candidacy following the end of his disqualification from running for public office. All other parliamentary parties but Podemos and Vox also ran under new candidates: Eneko Andueza by the Socialist Party of the Basque Country–Basque Country Left (PSE–EE), Javier de Andrés by the People's Party (PP)—wi...\n",
      "\n",
      "###\n",
      "\n",
      "Date: 11 June. Event: 2024 Spain floods .. Event context: \n",
      "\n",
      "###\n",
      "\n",
      "Date: 12 May. Event: 2024 Catalan regional election : The PSC emerges as the largest party in the Parliament of Catalonia at the expense of separatist parties, who lose their majority.. Event context: Copyright 2025 The Associated Press. All Rights Reserved.  Copyright 2025 The Associated Press. All Rights Reserved. Socialist candidate Salvador Illa makes a toast with members of his team and party colleagues after the announcement of the results of elections to the Catalan parliament in Barcelona, Sunday May 12, 2024. The Socialists led by former health minister Illa won a majority of 42 seats, up from their 33 seats in 2021 when they also barely won the most votes but were unable to form a government. They will still need to earn the backing of other parties to put Illa in charge.(AP Photo/Emilio Morenatti) Socialist candidate Salvador Illa, left, watches early results on TV with other members of the PSC ( Socialist Party of Catalonia ) at the party headquarters in Barcelona, Sunday May 12, 2024. The Socialists led by former health minister Illa won a majority of 42 seats, up from their 33 seats in 2021 when they also barely won the most votes but were unable to form a government. ...\n",
      "\n",
      "###\n",
      "\n",
      "Date: 20 April. Event: 2024 Anti-tourism protests in Spain : Protests occur in Tenerife , Canary Islands , against mass tourism in the Canary Islands which is allegedly increasing house prices for locals.. Event context: \n",
      "\n",
      "---\n",
      "\n",
      "Question: When was the first election in Spain in the year 2024 and where was it?\n",
      "Answer:\n"
     ]
    }
   ],
   "source": [
    "print(prompt)"
   ]
  },
  {
   "cell_type": "code",
   "execution_count": 397,
   "id": "166e3ae1",
   "metadata": {},
   "outputs": [
    {
     "name": "stdout",
     "output_type": "stream",
     "text": [
      "Relevant document IDs: [4, 8, 22, 11, 7]\n",
      "Scores: [0.8486791398170681, 0.8433168291700441, 0.8414102878895945, 0.8214053854159378, 0.8209808159916119]\n"
     ]
    }
   ],
   "source": [
    "print(\"Relevant document IDs:\", selected_doc_ids)\n",
    "print(\"Scores:\", sorted_doc_scores)"
   ]
  },
  {
   "cell_type": "markdown",
   "id": "8bab554d",
   "metadata": {},
   "source": [
    "### Query Answering Function"
   ]
  },
  {
   "cell_type": "markdown",
   "id": "d57854a4",
   "metadata": {},
   "source": [
    "The function `ask_question()` is the entrypoint for the user query; there:\n",
    "\n",
    "- the relevant documents are found,\n",
    "- the prompt is created,\n",
    "- and the answer is generated.\n",
    "\n",
    "In addition, we attach the reference URLs of the retrieved documents to increase transparency."
   ]
  },
  {
   "cell_type": "code",
   "execution_count": 398,
   "id": "69fd6158",
   "metadata": {},
   "outputs": [],
   "source": [
    "def generate_response(\n",
    "    prompt: str,\n",
    "    generative_model_name: str = \"gpt-3.5-turbo-instruct\",\n",
    "    openai_client: openai.OpenAI = openai_client,\n",
    "    max_answer_tokens: int = 150\n",
    "):\n",
    "    \"\"\"\n",
    "    Given a question, a dataframe containing rows of text, and a maximum\n",
    "    number of desired tokens in the prompt and response, return the\n",
    "    answer to the question according to an OpenAI Completion model\n",
    "    \n",
    "    If the model produces an error, return an empty string\n",
    "    \"\"\"\n",
    "    try:\n",
    "        response = openai_client.completions.create(\n",
    "            model=generative_model_name,\n",
    "            prompt=prompt,\n",
    "            max_tokens=max_answer_tokens,\n",
    "            temperature=0.7  # optional: defaults to 1.0\n",
    "        )\n",
    "        return response.choices[0].text.strip()\n",
    "    except Exception as e:\n",
    "        print(f\"Error during completion: {e}\")\n",
    "        return \"\"\n",
    "\n",
    "def ask_question(\n",
    "    question: str,\n",
    "    docs: list[dict],\n",
    "    docs_embeddings: np.ndarray,\n",
    "    use_knowledge_base: bool = True,\n",
    "    max_prompt_tokens: int = 1800,\n",
    "    max_answer_tokens: int = 150,\n",
    "):\n",
    "    if use_knowledge_base:\n",
    "        # Retrieve sorted relevant doc ids\n",
    "        sorted_doc_ids, sorted_doc_scores = find_relevant_docs(question, docs_embeddings)\n",
    "\n",
    "        # Create prompt\n",
    "        prompt, _, _ = create_prompt(\n",
    "            question,\n",
    "            docs,\n",
    "            sorted_doc_ids,\n",
    "            sorted_doc_scores,\n",
    "            max_token_count=max_prompt_tokens,\n",
    "        )\n",
    "    else:\n",
    "        prompt = f\"Answer the question:\\n\\n{question}\\n\\nAnswer:\"\n",
    "    \n",
    "    # Generate response / Call completions model\n",
    "    answer = generate_response(\n",
    "        prompt=prompt,\n",
    "        max_answer_tokens=max_answer_tokens\n",
    "    )\n",
    "    \n",
    "    if use_knowledge_base:\n",
    "        max_references = 2\n",
    "        ref_urls = []\n",
    "        for i in sorted_doc_ids[:max_references]:\n",
    "            if docs[i][\"reference_urls\"]:\n",
    "                ref_urls.extend(docs[i][\"reference_urls\"])\n",
    "        answer += \"\\n\\nReference(s):\\n\" + \"\\n\".join(ref_urls) + \"\"\n",
    "\n",
    "    return answer"
   ]
  },
  {
   "cell_type": "code",
   "execution_count": 399,
   "id": "761b2b4a",
   "metadata": {},
   "outputs": [
    {
     "name": "stdout",
     "output_type": "stream",
     "text": [
      "The first election in Spain in the year 2024 was held in the Basque Country on Sunday, 21 April 2024.\n",
      "\n",
      "Reference(s):\n",
      "https://en.wikipedia.org/wiki/2024_Galician_regional_election\n",
      "https://en.wikipedia.org/wiki/2024_Basque_regional_election\n"
     ]
    }
   ],
   "source": [
    "question = \"When was the first election in Spain in the year 2024 and where was it?\"\n",
    "response = ask_question(question, docs, docs_embeddings, use_knowledge_base=True)\n",
    "print(response)"
   ]
  },
  {
   "cell_type": "markdown",
   "id": "1783f146",
   "metadata": {},
   "source": [
    "## Custom Performance Demonstration"
   ]
  },
  {
   "cell_type": "markdown",
   "id": "baf92f89",
   "metadata": {},
   "source": [
    "The employed generative **model** [`gpt-3.5-turbo-instruct`](https://platform.openai.com/docs/models/gpt-3.5-turbo?snapshot=gpt-3.5-turbo-instruct) was trained with data up to September 2021.\n",
    "Therefore, it should not have been exposed to any of the 2024 events in Spain.\n",
    "\n",
    "In the following, we run `ask_question()` with two different values of the flag argument `use_knowledge_base`:\n",
    "\n",
    "- `use_knowledge_base=True`: the RAG pattern is used, i.e., the relevant documents aligned with the question are passed to the model and it successfully answers the question.\n",
    "- `use_knowledge_base=False`: none of the documents is passed to the model, so it fails to answer properly."
   ]
  },
  {
   "cell_type": "markdown",
   "id": "4f11fdc0",
   "metadata": {},
   "source": [
    "### Question 1"
   ]
  },
  {
   "cell_type": "code",
   "execution_count": null,
   "id": "4901c850",
   "metadata": {},
   "outputs": [],
   "source": []
  },
  {
   "cell_type": "code",
   "execution_count": null,
   "id": "bd7a093b",
   "metadata": {},
   "outputs": [],
   "source": []
  },
  {
   "cell_type": "markdown",
   "id": "6e86e37c",
   "metadata": {},
   "source": [
    "### Question 2"
   ]
  },
  {
   "cell_type": "code",
   "execution_count": null,
   "id": "6f646989",
   "metadata": {},
   "outputs": [],
   "source": []
  },
  {
   "cell_type": "code",
   "execution_count": null,
   "id": "11c07a54",
   "metadata": {},
   "outputs": [],
   "source": []
  }
 ],
 "metadata": {
  "kernelspec": {
   "display_name": "genai",
   "language": "python",
   "name": "python3"
  },
  "language_info": {
   "codemirror_mode": {
    "name": "ipython",
    "version": 3
   },
   "file_extension": ".py",
   "mimetype": "text/x-python",
   "name": "python",
   "nbconvert_exporter": "python",
   "pygments_lexer": "ipython3",
   "version": "3.10.18"
  }
 },
 "nbformat": 4,
 "nbformat_minor": 5
}
