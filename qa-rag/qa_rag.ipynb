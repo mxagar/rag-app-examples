{
 "cells": [
  {
   "cell_type": "markdown",
   "id": "124e5672",
   "metadata": {},
   "source": [
    "# Custom Chatbot: 2024 Events in Spain"
   ]
  },
  {
   "cell_type": "markdown",
   "id": "2a4a94b3",
   "metadata": {},
   "source": [
    "This notebook shows how to build a basic Question-Answering chatbot based on the [Retrieval-Augmented Generation (RAG)](https://en.wikipedia.org/wiki/Retrieval-augmented_generation) pattern.\n",
    "\n",
    "RAG consists in \n",
    "\n",
    "- retrieving relevant documents related to the user **query** \n",
    "- and feeding them to a generative model in the context along with the query, while we instruct it to provide the answer using the provided documents/context.\n",
    "\n",
    "Therefore, we avoid needing to fine-tune the generative model with our documents.\n",
    "This is specially well suited when we want to extend the model's *memory* with recent and continuously changing documents.\n",
    "\n",
    "In order to show how the approach works,\n",
    "\n",
    "- I use the **model** [`gpt-3.5-turbo-instruct`](https://platform.openai.com/docs/models/gpt-3.5-turbo?snapshot=gpt-3.5-turbo-instruct) from OpenAI\n",
    "- and a **dataset** or set of **queried documents** built from the Wikipedia article [2024 Events in Spain](https://en.wikipedia.org/wiki/2024_in_Spain) (54 events in total).\n",
    "\n",
    "The [`gpt-3.5-turbo-instruct`](https://platform.openai.com/docs/models/gpt-3.5-turbo?snapshot=gpt-3.5-turbo-instruct) model\n",
    "\n",
    "- is a Legacy GPT model for cheaper chat and non-chat tasks,\n",
    "- has a context window of `4,096` tokens,\n",
    "- and has a **knowledge cutoff as of Sep 01, 2021**.\n",
    "\n",
    "Therefore, we can be sure that none of the 2024 events in Spain were used for during the model training. Therefore,\n",
    "\n",
    "- if we ask the model a question about the dataset, it should hallucinate and/or fail to answer properly;\n",
    "- but if we use the RAG pattern, it should be able to build and use a relevant context that facilitates a correct answer.\n",
    "\n",
    "In order to be able to retrieve relevant documents relative to our question/query, we need to \n",
    "\n",
    "- preprocess and split our documents properly\n",
    "- and represent and index our data efficiently.\n",
    "\n",
    "In our example, preprocessing and splitting is done at event level: the article is parsed and each event text and metadata (e.g., date, references) are stored in separate documents.\n",
    "\n",
    "Document representation for fast relevant retrieval is approached in two ways:\n",
    "\n",
    "- Semantic embeddings: document texts are converted into semantic embeddings, i.e., multi-dimensional dense vectors which point in similar directions if the text have a similar meaning. Embeddings have a fixed dimensionality, defined by the model which generated them. Two embedding models are used:\n",
    "  - [`intfloat/e5-large-v2`](https://huggingface.co/intfloat/e5-large-v2), from HuggingFace, downloaded and used locally.\n",
    "  - [`text-embedding-ada-002`](https://platform.openai.com/docs/models/text-embedding-ada-002), from OpenAI, accessed by the API.\n",
    "- TFIDF indices: *term frequency and inverse document frequency* is technique which sparsely represents the documents by assigning frequency weights to their tokens/terms in relation to their occurrences in the document and in the complete document set. Each token/term in the complete set represents a dimension in the TFIDF vectors.\n",
    "\n",
    "The combination of several retrieved document sets is also exemplarily shown by implementing *reciprocal rank fusion*.\n",
    "\n",
    "**Table of Contents**:\n",
    "\n",
    "- [Data Wrangling](#data-wrangling)\n",
    "  - [Get the Data](#get-the-data)\n",
    "  - [Extend the Data with Referenced Content](#extend-the-data-with-referenced-content)\n",
    "  - [Persist the Data as JSONL](#persist-the-data-as-jsonl)\n",
    "  - [Create the Dataframe with the Embeddings](#create-the-dataframe-with-the-embeddings)\n",
    "  - [Alternative Text Representation and Indexing: TFIDF](#alternative-text-representation-and-indexing-tfidf)\n",
    "- [Relevant Data Retrieval](#relevant-data-retrieval)\n",
    "  - [Embeddings Retrieval](#embeddings-retrieval)\n",
    "  - [TFIDF Retrieval](#tfidf-retrieval)\n",
    "  - [Fusing Alternative Retrievals](#fusing-alternative-retrievals)\n",
    "  - [Data Retriever Container](#data-retriever-container)\n",
    "- [Custom Query Completion](#custom-query-completion)\n",
    "  - [Query Prompt](#query-prompt)\n",
    "  - [Query Answering Function](#query-answering-function)\n",
    "- [Custom Performance Demonstration](#custom-performance-demonstration)\n",
    "  - [Plain Model vs. RAG-Based Model](#plain-model-vs-rag-based-model)\n",
    "  - [Differences between Embeddings](#differences-between-embeddings)\n",
    "  - [Selecting the Best Retriever](#selecting-the-best-retriever)"
   ]
  },
  {
   "cell_type": "code",
   "execution_count": 1,
   "id": "b86ba1ec",
   "metadata": {},
   "outputs": [],
   "source": [
    "import os\n",
    "from dotenv import load_dotenv\n",
    "import openai"
   ]
  },
  {
   "cell_type": "code",
   "execution_count": 2,
   "id": "3c6f5a7e",
   "metadata": {},
   "outputs": [
    {
     "data": {
      "text/plain": [
       "True"
      ]
     },
     "execution_count": 2,
     "metadata": {},
     "output_type": "execute_result"
    }
   ],
   "source": [
    "load_dotenv(\".env\")"
   ]
  },
  {
   "cell_type": "code",
   "execution_count": 3,
   "id": "c96d89ea",
   "metadata": {},
   "outputs": [],
   "source": [
    "# Load once at module level\n",
    "openai_client = openai.OpenAI(\n",
    "  api_key=os.environ['OPENAI_API_KEY'],\n",
    ")"
   ]
  },
  {
   "cell_type": "markdown",
   "id": "a63d4c5f",
   "metadata": {},
   "source": [
    "## Data Wrangling"
   ]
  },
  {
   "cell_type": "markdown",
   "id": "a3ae68ae",
   "metadata": {},
   "source": [
    "The dataset or queried documents are scrapped from the Wikipedia article [2024 Events in Spain](https://en.wikipedia.org/wiki/2024_in_Spain) using `BeautifulSoup`.\n",
    "\n",
    "The main parsing function is `get_wikipedia_events()`, which returns a list of dictionaries; each dictionary is an event, which contains: \n",
    "\n",
    "- `month (str)`: The month of the event.\n",
    "- `date_text (str)`: The raw date text from the page.\n",
    "- `date (datetime.date)`: The parsed start date of the event.\n",
    "- `date_end (Optional[datetime.date])`: The parsed end date if it's a date range, else `None`.\n",
    "- `event (str)`: The cleaned event description.\n",
    "- `refs (list[str])`: List of reference IDs from the page.\n",
    "- `reference_urls (list[str])`: List of URLs for references.\n",
    "- `reference_entities (list[str])`: List of entities associated with the references.\n",
    "\n",
    "Then, the content in the reference URLs is fetched by `get_event_reference_contents()`, which updates the dictionaries with the field `reference_content`.\n",
    "\n",
    "Additionally, the field `text` is also added in the same function; `text` is the concatenation of the `date + event + reference_content` fields, i.e., a detailed description of the event.\n",
    "\n",
    "Finally, `docs_to_embeddings_df()` converts the event dictionaries into a `pandas` dataframe with 54 rows (events) and the columns `date`, `event`, `text` and `embedding`.\n",
    "\n",
    "The `embedding` column contains the semantic embedding the the `text` column, which can be generated using:\n",
    "\n",
    "- HuggingFace (model `intfloat/e5-large-v2`): `compute_embeddings_hf()`\n",
    "- or OpenAI (model: `text-embedding-ada-002`): `compute_embeddings_openai()`\n",
    "\n",
    "The resulting dataframe is the *knowledge base* used for the RAG pipeline."
   ]
  },
  {
   "cell_type": "markdown",
   "id": "28bce858",
   "metadata": {},
   "source": [
    "### Get the Data"
   ]
  },
  {
   "cell_type": "markdown",
   "id": "1715b2e9",
   "metadata": {},
   "source": [
    "Here, we fetch the text from the Wikipedia site and pack it into a list of dictionaries.\n",
    "Each dictionary represents an event.\n",
    "The parsing function is customized for this specific website and its layout/format."
   ]
  },
  {
   "cell_type": "code",
   "execution_count": 4,
   "id": "325b808f",
   "metadata": {},
   "outputs": [],
   "source": [
    "import requests\n",
    "from bs4 import BeautifulSoup\n",
    "from urllib.parse import urlparse, urljoin\n",
    "from datetime import datetime\n",
    "from typing import Optional"
   ]
  },
  {
   "cell_type": "code",
   "execution_count": 5,
   "id": "5c1b8b2e",
   "metadata": {},
   "outputs": [],
   "source": [
    "def get_wikipedia_events(url: str) -> list[dict]:\n",
    "    \"\"\"\n",
    "    Scrape events from a Wikipedia year-in-country page.\n",
    "    \n",
    "    Unfortunately, this scrapping function needs to be implemented ad-hoc\n",
    "    for each use case.\n",
    "    \n",
    "    Args:\n",
    "        url (str): URL of the Wikipedia page to scrape.\n",
    "    \n",
    "    Returns:\n",
    "        list[dict]: A list of dictionaries, each containing details about an event:\n",
    "            - month (str): The month of the event.\n",
    "            - date_text (str): The raw date text from the page.\n",
    "            - date (datetime.date): The parsed start date of the event.\n",
    "            - date_end (Optional[datetime.date]): The parsed end date if it's a date range, else None.\n",
    "            - event (str): The cleaned event description.\n",
    "            - refs (list[str]): List of reference IDs from the page.\n",
    "            - reference_urls (list[str]): List of URLs for references.\n",
    "            - reference_entities (list[str]): List of entities associated with the references.\n",
    "    \"\"\"\n",
    "    BASE_URL = \"https://en.wikipedia.org\"\n",
    "    HEADERS = {\"User-Agent\": \"Mozilla/5.0\"}\n",
    "\n",
    "    def _clean_event_text(text: str) -> str:\n",
    "        \"\"\"Normalize dashes, remove references like [2], and trim.\"\"\"\n",
    "        # Normalize en dash/em dash to plain ASCII hyphen\n",
    "        text = text.replace(\"\\u2013\", \"-\").replace(\"\\u2014\", \"-\")\n",
    "\n",
    "        # Remove [x] reference markers\n",
    "        import re\n",
    "        text = re.sub(r\"\\[\\s*\\d+\\s*\\]\", \"\", text)\n",
    "        return text.strip()\n",
    "\n",
    "    def _parse_dates(date_str: str, year: int = 2024) -> tuple[datetime.date, Optional[datetime.date]]:\n",
    "        \"\"\"Parse single or span dates into datetime objects.\"\"\"\n",
    "        date_str = date_str.strip()\n",
    "        # Normalize dashes\n",
    "        date_str = date_str.replace(\"\\u2013\", \"-\").replace(\"\\u2014\", \"-\")\n",
    "\n",
    "        if \"-\" in date_str:  # Handle spans like \"30 January-3 February\"\n",
    "            start_str, end_str = [s.strip() for s in date_str.split(\"-\", 1)]\n",
    "            try:\n",
    "                start_date = datetime.strptime(f\"{start_str} {year}\", \"%d %B %Y\").date()\n",
    "            except ValueError:\n",
    "                start_date = None\n",
    "            try:\n",
    "                end_date = datetime.strptime(f\"{end_str} {year}\", \"%d %B %Y\").date()\n",
    "            except ValueError:\n",
    "                end_date = None\n",
    "            return start_date, end_date\n",
    "        else:\n",
    "            try:\n",
    "                start_date = datetime.strptime(f\"{date_str} {year}\", \"%d %B %Y\").date()\n",
    "            except ValueError:\n",
    "                start_date = None\n",
    "            return start_date, None\n",
    "\n",
    "    response = requests.get(url, headers=HEADERS)\n",
    "    response.raise_for_status()\n",
    "    soup = BeautifulSoup(response.text, \"html.parser\")\n",
    "\n",
    "    events = []\n",
    "    events_div = soup.find(\"h2\", id=\"Events\").parent\n",
    "    sibling = events_div.find_next_sibling()\n",
    "\n",
    "    while sibling and not (sibling.name == \"div\" and sibling.find(\"h2\")):\n",
    "        if sibling.name == \"div\" and sibling.find(\"h3\"):  # month header\n",
    "            month = sibling.get_text(strip=True).replace(\"[edit]\", \"\")\n",
    "        elif sibling.name == \"ul\":\n",
    "            for li in sibling.find_all(\"li\", recursive=False):\n",
    "                text_raw = li.get_text(\" \", strip=True)\n",
    "                text_clean = _clean_event_text(text_raw)\n",
    "\n",
    "                # Split into date + event\n",
    "                if \" - \" in text_clean:\n",
    "                    date_text, event_text = text_clean.split(\" - \", 1)\n",
    "                else:\n",
    "                    date_text, event_text = None, text_clean\n",
    "\n",
    "                # Parse dates\n",
    "                date, date_end = _parse_dates(date_text or \"\", year=2024)\n",
    "\n",
    "                refs = [a[\"href\"][1:] for a in li.select(\"sup.reference a[href^='#cite_note']\")]\n",
    "                reference_urls, reference_entities = [], []\n",
    "\n",
    "                # External reference section\n",
    "                for ref in refs:\n",
    "                    ref_li = soup.find(\"li\", id=ref)\n",
    "                    if ref_li:\n",
    "                        link = ref_li.find(\"a\", class_=\"external text\")\n",
    "                        if link:\n",
    "                            url_ref = link[\"href\"]\n",
    "                            reference_urls.append(url_ref)\n",
    "                            reference_entities.append(urlparse(url_ref).netloc.replace(\"www.\", \"\"))\n",
    "\n",
    "                # Fallback: inline links\n",
    "                if not reference_urls:\n",
    "                    for a in li.find_all(\"a\", href=True):\n",
    "                        href = a[\"href\"]\n",
    "                        if href.startswith(\"/wiki/\"):\n",
    "                            url_ref = urljoin(BASE_URL, href)\n",
    "                            reference_urls.append(url_ref)\n",
    "                            reference_entities.append(\"Wikipedia\")\n",
    "\n",
    "                events.append({\n",
    "                    \"month\": month,\n",
    "                    \"date_text\": date_text,\n",
    "                    \"date\": date,\n",
    "                    \"date_end\": date_end,\n",
    "                    \"event\": event_text,\n",
    "                    \"refs\": refs,\n",
    "                    \"reference_urls\": reference_urls,\n",
    "                    \"reference_entities\": reference_entities\n",
    "                })\n",
    "        sibling = sibling.find_next_sibling()\n",
    "\n",
    "    return events"
   ]
  },
  {
   "cell_type": "code",
   "execution_count": 296,
   "id": "acb3a9fd",
   "metadata": {},
   "outputs": [
    {
     "name": "stdout",
     "output_type": "stream",
     "text": [
      "Total events found: 54\n",
      "{'month': 'January', 'date_text': '30 January-3 February', 'date': datetime.date(2024, 1, 30), 'date_end': datetime.date(2024, 2, 3), 'event': 'Benidorm Fest 2024 (1st semifinal)', 'refs': ['cite_note-2', 'cite_note-3'], 'reference_urls': ['https://www.formulatv.com/noticias/fechas-benidorm-fest-2024-semifinales-final-123651/', 'https://www.escplus.es/eurovision/2023/los-candidatos-del-benidorm-fest-2024-se-presentaran-en-el-teatro-alameda-a-las-1830-el-proximo-11-de-noviembre/'], 'reference_entities': ['formulatv.com', 'escplus.es']}\n",
      "{'month': 'February', 'date_text': '3 February', 'date': datetime.date(2024, 2, 3), 'date_end': None, 'event': '16th Gaudí Awards in Barcelona , Catalonia', 'refs': ['cite_note-4'], 'reference_urls': ['https://www.lavanguardia.com/vida/20230711/9102019/premios-gaudi-2024-otorgaran-3-febrero-teniendo-cuenta-codigo-conducta.html'], 'reference_entities': ['lavanguardia.com']}\n",
      "{'month': 'February', 'date_text': '9 February', 'date': datetime.date(2024, 2, 9), 'date_end': None, 'event': 'Two police officers are killed and two more are injured after a speedboat suspected of belonging to drug smugglers smashes into their patrol craft in the port of Barbate , Andalusia .', 'refs': ['cite_note-5'], 'reference_urls': ['https://apnews.com/article/spain-police-killed-speed-boat-drugs-barbate-d124bf08455073f471d24718ee49ced8'], 'reference_entities': ['apnews.com']}\n",
      "{'month': 'February', 'date_text': '10 February', 'date': datetime.date(2024, 2, 10), 'date_end': None, 'event': '38th Goya Awards in Valladolid , Castile and León', 'refs': ['cite_note-6'], 'reference_urls': ['https://www.20minutos.es/cinemania/noticias/premios-goya-2024-fecha-valladolid-5142839/'], 'reference_entities': ['20minutos.es']}\n",
      "{'month': 'February', 'date_text': '18 February', 'date': datetime.date(2024, 2, 18), 'date_end': None, 'event': '2024 Galician regional election', 'refs': [], 'reference_urls': ['https://en.wikipedia.org/wiki/2024_Galician_regional_election'], 'reference_entities': ['Wikipedia']}\n",
      "{'month': 'February', 'date_text': '22 February', 'date': datetime.date(2024, 2, 22), 'date_end': None, 'event': '2024 Valencia residential complex fire : At least 10 people are killed in a fire at a 14-storey residential building in Valencia .', 'refs': ['cite_note-7'], 'reference_urls': ['https://apnews.com/article/valencia-fire-spain-fire-e57323a53ece0d24e14ad67a3049ff47'], 'reference_entities': ['apnews.com']}\n",
      "{'month': 'February', 'date_text': '28 February', 'date': datetime.date(2024, 2, 28), 'date_end': None, 'event': 'An investigation is launched into a corruption scandal involving several political figures and allies of Prime Minister Pedro Sanchez .', 'refs': ['cite_note-8'], 'reference_urls': ['https://www.20minutos.es/noticia/5223317/0/todos-los-nombres-investigados-caso-koldo-otros-actores-salpicados/'], 'reference_entities': ['20minutos.es']}\n",
      "{'month': 'April', 'date_text': '20 April', 'date': datetime.date(2024, 4, 20), 'date_end': None, 'event': '2024 Anti-tourism protests in Spain : Protests occur in Tenerife , Canary Islands , against mass tourism in the Canary Islands which is allegedly increasing house prices for locals.', 'refs': ['cite_note-9'], 'reference_urls': ['https://www.reuters.com/world/europe/thousands-protest-spains-canary-islands-over-mass-tourism-2024-04-20/'], 'reference_entities': ['reuters.com']}\n",
      "{'month': 'April', 'date_text': '21 April', 'date': datetime.date(2024, 4, 21), 'date_end': None, 'event': '2024 Basque regional election', 'refs': [], 'reference_urls': ['https://en.wikipedia.org/wiki/2024_Basque_regional_election'], 'reference_entities': ['Wikipedia']}\n",
      "{'month': 'April', 'date_text': '24 April', 'date': datetime.date(2024, 4, 24), 'date_end': None, 'event': 'Prime Minister Pedro Sánchez says that he is considering resigning from office after the launch of a judicial investigation into his wife, Begoña Gómez after accusations by a right-wing legal platform.  On 29 April, Sánchez withdraws his considerations.', 'refs': ['cite_note-10', 'cite_note-11'], 'reference_urls': ['https://apnews.com/article/spain-prime-minister-wife-corruption-allegation-2a0a4ab8f603a5c63106813eec5b5579', 'https://apnews.com/article/spain-pedro-sanchez-future-begona-gomez-f69907e614c0558b9709d09c5d75967c'], 'reference_entities': ['apnews.com', 'apnews.com']}\n"
     ]
    }
   ],
   "source": [
    "# Get events\n",
    "URL = \"https://en.wikipedia.org/wiki/2024_in_Spain\"\n",
    "events = get_wikipedia_events(URL)\n",
    "\n",
    "print(f\"Total events found: {len(events)}\")\n",
    "for e in events[:10]:\n",
    "    print(e)"
   ]
  },
  {
   "cell_type": "markdown",
   "id": "419dcdbc",
   "metadata": {},
   "source": [
    "### Extend the Data with Referenced Content"
   ]
  },
  {
   "cell_type": "markdown",
   "id": "c490d3a8",
   "metadata": {},
   "source": [
    "The Wikipedia articles contain usually citations or references, which point to other Wikipedia or newspaper articles.\n",
    "This section goes through the extracted reference URLs, visits them and fetches their content.\n",
    "That way, we can enrich our knowledge base.\n",
    "Note that a field `text` is also added; `text` is the concatenation of the `date + event + reference_content` fields, i.e., a detailed description of the event."
   ]
  },
  {
   "cell_type": "code",
   "execution_count": 6,
   "id": "c69e95e0",
   "metadata": {},
   "outputs": [],
   "source": [
    "import requests\n",
    "from bs4 import BeautifulSoup\n",
    "from tqdm import tqdm"
   ]
  },
  {
   "cell_type": "code",
   "execution_count": 7,
   "id": "95c294cf",
   "metadata": {},
   "outputs": [],
   "source": [
    "def get_event_reference_contents(\n",
    "    events: list[dict],\n",
    "    max_chars: int = 1000,\n",
    "    timeout: int = 10,\n",
    ") -> list[dict]:\n",
    "    \"\"\"\n",
    "    Fetches reference content for each event and adds it as a new field.\n",
    "    \n",
    "    Args:\n",
    "        events (list[dict]): List of event dictionaries.\n",
    "        max_chars (int): Max number of characters to keep from scraped text.\n",
    "        timeout (int): Timeout for HTTP requests.\n",
    "    \n",
    "    Returns:\n",
    "        list[dict]: Enriched events with 'reference_content' field.\n",
    "    \"\"\"\n",
    "    HEADERS = {\"User-Agent\": \"Mozilla/5.0\"}\n",
    "    for e in tqdm(events):\n",
    "        reference_content = []\n",
    "        for url in e.get(\"reference_urls\", []):\n",
    "            try:\n",
    "                resp = requests.get(url, headers=HEADERS, timeout=timeout)\n",
    "                resp.raise_for_status()\n",
    "                soup = BeautifulSoup(resp.text, \"html.parser\")\n",
    "\n",
    "                # Grab visible text (first few paragraphs)\n",
    "                paragraphs = soup.find_all(\"p\")\n",
    "                text = \" \".join(p.get_text(\" \", strip=True) for p in paragraphs)\n",
    "                text = text.replace(\"\\n\", \" \").strip()\n",
    "\n",
    "                # Truncate long text\n",
    "                if len(text) > max_chars:\n",
    "                    text = text[:max_chars] + \"...\"\n",
    "\n",
    "                reference_content.append(text)\n",
    "\n",
    "            except Exception as ex:\n",
    "                reference_content.append(None)\n",
    "\n",
    "        # Join contents if multiple refs\n",
    "        e[\"reference_content\"] = reference_content\n",
    "    \n",
    "        # Assemble a single text field for the event    \n",
    "        text = f\"Date: {e['date_text']}. Event: {e['event']}.\"\n",
    "        if reference_content:\n",
    "            ref_texts_valid = [str(rc) for rc in reference_content if rc]\n",
    "            text += f\" Event context: {'. '.join(ref_texts_valid)}\"\n",
    "        e[\"text\"] = text\n",
    "    \n",
    "    return events\n"
   ]
  },
  {
   "cell_type": "code",
   "execution_count": 299,
   "id": "0a285b36",
   "metadata": {},
   "outputs": [
    {
     "name": "stderr",
     "output_type": "stream",
     "text": [
      "100%|██████████| 54/54 [01:38<00:00,  1.83s/it]\n"
     ]
    }
   ],
   "source": [
    "# Extend event context\n",
    "events_extended = get_event_reference_contents(events)"
   ]
  },
  {
   "cell_type": "code",
   "execution_count": 301,
   "id": "99ff2327",
   "metadata": {},
   "outputs": [
    {
     "data": {
      "text/plain": [
       "{'month': 'January',\n",
       " 'date_text': '30 January-3 February',\n",
       " 'date': datetime.date(2024, 1, 30),\n",
       " 'date_end': datetime.date(2024, 2, 3),\n",
       " 'event': 'Benidorm Fest 2024 (1st semifinal)',\n",
       " 'refs': ['cite_note-2', 'cite_note-3'],\n",
       " 'reference_urls': ['https://www.formulatv.com/noticias/fechas-benidorm-fest-2024-semifinales-final-123651/',\n",
       "  'https://www.escplus.es/eurovision/2023/los-candidatos-del-benidorm-fest-2024-se-presentaran-en-el-teatro-alameda-a-las-1830-el-proximo-11-de-noviembre/'],\n",
       " 'reference_entities': ['formulatv.com', 'escplus.es'],\n",
       " 'reference_content': [\"CALENDARIO Así lo ha confirmado la organización en la rueda de prensa celebrada en Benidorm. Programa relacionado Benidorm Fest 2022 - Act España Concursos Entretenimiento Popularidad: #71 de 2.139 Vídeos FormulaTV 'Traitors: El debate' Programa 2 Tu Cara Me Suena El Debate! Analizamos la gala 6 Nos colamos en la grabación de Cifras y Letras Tu Cara Me Suena El Debate! Analizamos la gala 2 María Bernardeau y Biel Anton nos hablan de FoQ La nueva generación Promo de La familia de la tele La revuelta salta al prime time Velvet: Yon González protagoniza el remake de Telemundo El Benidorm Fest 2024 ya ha dado el pistoletazo de salida con la presentación celebrada en la localidad alicantina. Ahí, el equipo directivo del festival, los responsables de RTVE y las autoridades de la Generalitat Valenciana y Benidorm han avanzado muchas de las novedades de la próxima edición . Algo que generaba mucho interés eran las fechas en las que se celebrará el Benidorm Fest 2024 y ya están claras para que ...\",\n",
       "  'ESCplus España Tu punto de referencia alternativo sobre la música y fiestas de toda Europa, Noticias diarias, opinión, Eurostars, y todo lo relacionado con el festival de Eurovisión y NFs. RTVE por fin resuelve la gran duda de la presentación de los 16 elegidos para la tercera edición del Benidorm Fest 2023, será como ya sabíamos el próximo 11 de noviembre , pero además ya sabemos el lugar y hora exactos: será a las 18:30 en el Teatro Alameda de Sevilla . Además, tendremos la suerte de que ese mismo día, los artistas que optarán a representar a España en Eurovisión el próximo mayo en Malmö estarán presentes , ese día, no concederán entrevistas, tendremos que esperar al día siguiente , en el mismo Teatro, a partir de las 11:00 donde podremos escuchar las primeras palabras de los candidatos que quieres, los que tu quieres. La emisora ha recibido un total de 825 canciones , donde artistas de cualquier índole, género o influencia han podido enviar sus canciones con el objetivo de impulsar ...'],\n",
       " 'text': \"Date: 30 January-3 February. Event: Benidorm Fest 2024 (1st semifinal). Event context: CALENDARIO Así lo ha confirmado la organización en la rueda de prensa celebrada en Benidorm. Programa relacionado Benidorm Fest 2022 - Act España Concursos Entretenimiento Popularidad: #71 de 2.139 Vídeos FormulaTV 'Traitors: El debate' Programa 2 Tu Cara Me Suena El Debate! Analizamos la gala 6 Nos colamos en la grabación de Cifras y Letras Tu Cara Me Suena El Debate! Analizamos la gala 2 María Bernardeau y Biel Anton nos hablan de FoQ La nueva generación Promo de La familia de la tele La revuelta salta al prime time Velvet: Yon González protagoniza el remake de Telemundo El Benidorm Fest 2024 ya ha dado el pistoletazo de salida con la presentación celebrada en la localidad alicantina. Ahí, el equipo directivo del festival, los responsables de RTVE y las autoridades de la Generalitat Valenciana y Benidorm han avanzado muchas de las novedades de la próxima edición . Algo que generaba mucho interés eran las fechas en las que se celebrará el Benidorm Fest 2024 y ya están claras para que .... ESCplus España Tu punto de referencia alternativo sobre la música y fiestas de toda Europa, Noticias diarias, opinión, Eurostars, y todo lo relacionado con el festival de Eurovisión y NFs. RTVE por fin resuelve la gran duda de la presentación de los 16 elegidos para la tercera edición del Benidorm Fest 2023, será como ya sabíamos el próximo 11 de noviembre , pero además ya sabemos el lugar y hora exactos: será a las 18:30 en el Teatro Alameda de Sevilla . Además, tendremos la suerte de que ese mismo día, los artistas que optarán a representar a España en Eurovisión el próximo mayo en Malmö estarán presentes , ese día, no concederán entrevistas, tendremos que esperar al día siguiente , en el mismo Teatro, a partir de las 11:00 donde podremos escuchar las primeras palabras de los candidatos que quieres, los que tu quieres. La emisora ha recibido un total de 825 canciones , donde artistas de cualquier índole, género o influencia han podido enviar sus canciones con el objetivo de impulsar ...\"}"
      ]
     },
     "execution_count": 301,
     "metadata": {},
     "output_type": "execute_result"
    }
   ],
   "source": [
    "events_extended[0]"
   ]
  },
  {
   "cell_type": "markdown",
   "id": "c05fe3a6",
   "metadata": {},
   "source": [
    "### Persist the Data as JSONL"
   ]
  },
  {
   "cell_type": "markdown",
   "id": "f285f29c",
   "metadata": {},
   "source": [
    "We can and will persist the knowledge base as a dataframe, but probably a better suited format for the list of dictionaries is JSONL.\n",
    "The following functions save/load the parsed events."
   ]
  },
  {
   "cell_type": "code",
   "execution_count": 8,
   "id": "babf70d1",
   "metadata": {},
   "outputs": [],
   "source": [
    "import json\n",
    "from datetime import datetime, date"
   ]
  },
  {
   "cell_type": "code",
   "execution_count": 9,
   "id": "a989fc72",
   "metadata": {},
   "outputs": [],
   "source": [
    "def save_docs_to_jsonl(docs, path=\"documents.jsonl\") -> None:\n",
    "    with open(path, \"w\", encoding=\"utf-8\") as f:\n",
    "        for doc in docs:\n",
    "            doc_copy = doc.copy()\n",
    "            # Convert dates to ISO string\n",
    "            for k in [\"date\", \"date_end\"]:\n",
    "                if isinstance(doc_copy.get(k), (datetime, date)):\n",
    "                    doc_copy[k] = doc_copy[k].isoformat()\n",
    "            f.write(json.dumps(doc_copy, ensure_ascii=False) + \"\\n\")\n",
    "\n",
    "\n",
    "def load_docs_from_jsonl(path=\"documents.jsonl\") -> list[dict]:\n",
    "    docs = []\n",
    "    with open(path, \"r\", encoding=\"utf-8\") as f:\n",
    "        for line in f:\n",
    "            obj = json.loads(line)\n",
    "            # Parse back dates\n",
    "            for k in [\"date\", \"date_end\"]:\n",
    "                if obj.get(k):\n",
    "                    try:\n",
    "                        obj[k] = datetime.fromisoformat(obj[k]).date()\n",
    "                    except Exception:\n",
    "                        pass\n",
    "            docs.append(obj)\n",
    "    return docs\n"
   ]
  },
  {
   "cell_type": "code",
   "execution_count": 303,
   "id": "bf2f7ebb",
   "metadata": {},
   "outputs": [],
   "source": [
    "# Save documents to file\n",
    "save_docs_to_jsonl(docs=events_extended, path=\"data/events_spain_2024.jsonl\")"
   ]
  },
  {
   "cell_type": "code",
   "execution_count": 10,
   "id": "0c50fc14",
   "metadata": {},
   "outputs": [],
   "source": [
    "docs = load_docs_from_jsonl(path=\"data/events_spain_2024.jsonl\")"
   ]
  },
  {
   "cell_type": "code",
   "execution_count": 11,
   "id": "b3fe6ae6",
   "metadata": {},
   "outputs": [
    {
     "data": {
      "text/plain": [
       "{'month': 'January',\n",
       " 'date_text': '30 January-3 February',\n",
       " 'date': datetime.date(2024, 1, 30),\n",
       " 'date_end': datetime.date(2024, 2, 3),\n",
       " 'event': 'Benidorm Fest 2024 (1st semifinal)',\n",
       " 'refs': ['cite_note-2', 'cite_note-3'],\n",
       " 'reference_urls': ['https://www.formulatv.com/noticias/fechas-benidorm-fest-2024-semifinales-final-123651/',\n",
       "  'https://www.escplus.es/eurovision/2023/los-candidatos-del-benidorm-fest-2024-se-presentaran-en-el-teatro-alameda-a-las-1830-el-proximo-11-de-noviembre/'],\n",
       " 'reference_entities': ['formulatv.com', 'escplus.es'],\n",
       " 'reference_content': [\"CALENDARIO Así lo ha confirmado la organización en la rueda de prensa celebrada en Benidorm. Programa relacionado Benidorm Fest 2022 - Act España Concursos Entretenimiento Popularidad: #71 de 2.139 Vídeos FormulaTV 'Traitors: El debate' Programa 2 Tu Cara Me Suena El Debate! Analizamos la gala 6 Nos colamos en la grabación de Cifras y Letras Tu Cara Me Suena El Debate! Analizamos la gala 2 María Bernardeau y Biel Anton nos hablan de FoQ La nueva generación Promo de La familia de la tele La revuelta salta al prime time Velvet: Yon González protagoniza el remake de Telemundo El Benidorm Fest 2024 ya ha dado el pistoletazo de salida con la presentación celebrada en la localidad alicantina. Ahí, el equipo directivo del festival, los responsables de RTVE y las autoridades de la Generalitat Valenciana y Benidorm han avanzado muchas de las novedades de la próxima edición . Algo que generaba mucho interés eran las fechas en las que se celebrará el Benidorm Fest 2024 y ya están claras para que ...\",\n",
       "  'ESCplus España Tu punto de referencia alternativo sobre la música y fiestas de toda Europa, Noticias diarias, opinión, Eurostars, y todo lo relacionado con el festival de Eurovisión y NFs. RTVE por fin resuelve la gran duda de la presentación de los 16 elegidos para la tercera edición del Benidorm Fest 2023, será como ya sabíamos el próximo 11 de noviembre , pero además ya sabemos el lugar y hora exactos: será a las 18:30 en el Teatro Alameda de Sevilla . Además, tendremos la suerte de que ese mismo día, los artistas que optarán a representar a España en Eurovisión el próximo mayo en Malmö estarán presentes , ese día, no concederán entrevistas, tendremos que esperar al día siguiente , en el mismo Teatro, a partir de las 11:00 donde podremos escuchar las primeras palabras de los candidatos que quieres, los que tu quieres. La emisora ha recibido un total de 825 canciones , donde artistas de cualquier índole, género o influencia han podido enviar sus canciones con el objetivo de impulsar ...'],\n",
       " 'text': \"Date: 30 January-3 February. Event: Benidorm Fest 2024 (1st semifinal). Event context: CALENDARIO Así lo ha confirmado la organización en la rueda de prensa celebrada en Benidorm. Programa relacionado Benidorm Fest 2022 - Act España Concursos Entretenimiento Popularidad: #71 de 2.139 Vídeos FormulaTV 'Traitors: El debate' Programa 2 Tu Cara Me Suena El Debate! Analizamos la gala 6 Nos colamos en la grabación de Cifras y Letras Tu Cara Me Suena El Debate! Analizamos la gala 2 María Bernardeau y Biel Anton nos hablan de FoQ La nueva generación Promo de La familia de la tele La revuelta salta al prime time Velvet: Yon González protagoniza el remake de Telemundo El Benidorm Fest 2024 ya ha dado el pistoletazo de salida con la presentación celebrada en la localidad alicantina. Ahí, el equipo directivo del festival, los responsables de RTVE y las autoridades de la Generalitat Valenciana y Benidorm han avanzado muchas de las novedades de la próxima edición . Algo que generaba mucho interés eran las fechas en las que se celebrará el Benidorm Fest 2024 y ya están claras para que .... ESCplus España Tu punto de referencia alternativo sobre la música y fiestas de toda Europa, Noticias diarias, opinión, Eurostars, y todo lo relacionado con el festival de Eurovisión y NFs. RTVE por fin resuelve la gran duda de la presentación de los 16 elegidos para la tercera edición del Benidorm Fest 2023, será como ya sabíamos el próximo 11 de noviembre , pero además ya sabemos el lugar y hora exactos: será a las 18:30 en el Teatro Alameda de Sevilla . Además, tendremos la suerte de que ese mismo día, los artistas que optarán a representar a España en Eurovisión el próximo mayo en Malmö estarán presentes , ese día, no concederán entrevistas, tendremos que esperar al día siguiente , en el mismo Teatro, a partir de las 11:00 donde podremos escuchar las primeras palabras de los candidatos que quieres, los que tu quieres. La emisora ha recibido un total de 825 canciones , donde artistas de cualquier índole, género o influencia han podido enviar sus canciones con el objetivo de impulsar ...\"}"
      ]
     },
     "execution_count": 11,
     "metadata": {},
     "output_type": "execute_result"
    }
   ],
   "source": [
    "docs[0]"
   ]
  },
  {
   "cell_type": "markdown",
   "id": "3491cb7c",
   "metadata": {},
   "source": [
    "### Create the Dataframe with the Embeddings"
   ]
  },
  {
   "cell_type": "markdown",
   "id": "6e29e6b9",
   "metadata": {},
   "source": [
    "In the following, we create a `pandas` dataframe from the list of event dictionaries; additionally, the `text` field is encoded as embedding vectors.\n",
    "\n",
    "Embedding vectors capture the semantics of their represented texts in such a way that similar texts point to similar locations in embedding space.\n",
    "\n",
    "The function which accomplished the embedding is `compute_embeddings()`, which is a facade pointing to two vendor specific functions:\n",
    "\n",
    "- `compute_embeddings_hf()`: HuggingFace model [`intfloat/e5-large-v2`](https://huggingface.co/intfloat/e5-large-v2). This a local model is downloaded from HuggingFace, and it is suited for context lengths of around 4k tokens.\n",
    "- `compute_embeddings_openai()`: OpenAI model [`text-embedding-ada-002`](https://platform.openai.com/docs/models/text-embedding-ada-002). This is an OpenAI model accessed via the OpenAI API."
   ]
  },
  {
   "cell_type": "code",
   "execution_count": 12,
   "id": "22a182d4",
   "metadata": {},
   "outputs": [],
   "source": [
    "from typing import Union\n",
    "\n",
    "import pandas as pd\n",
    "import numpy as np\n",
    "import ast\n",
    "\n",
    "from transformers import AutoTokenizer, AutoModel\n",
    "from transformers import PreTrainedTokenizerBase, PreTrainedModel\n",
    "import torch"
   ]
  },
  {
   "cell_type": "code",
   "execution_count": 81,
   "id": "fc1bf60d",
   "metadata": {},
   "outputs": [],
   "source": [
    "# Load once at module level\n",
    "hf_embeddings_model_name = \"intfloat/e5-large-v2\"\n",
    "hf_embeddings_tokenizer = AutoTokenizer.from_pretrained(hf_embeddings_model_name)\n",
    "hf_embeddings_model = AutoModel.from_pretrained(hf_embeddings_model_name)\n",
    "\n",
    "def compute_embeddings_hf(\n",
    "    texts: Union[str, list[str]],\n",
    "    embeddings_model: PreTrainedModel = hf_embeddings_model,\n",
    "    embeddings_tokenizer: PreTrainedTokenizerBase = hf_embeddings_tokenizer,\n",
    "    normalize: bool = True,\n",
    "    device: str = None,\n",
    "    max_context_length: int = 512\n",
    ") -> np.ndarray:\n",
    "    \"\"\"\n",
    "    Compute embeddings for a single string or a list of strings using HuggingFace model.\n",
    "    \n",
    "    Args:\n",
    "        texts: A single string or a list of strings to compute embeddings for.\n",
    "        embeddings_model: The HuggingFace model to use for computing embeddings.\n",
    "        embeddings_tokenizer: The tokenizer to use for preparing input text.\n",
    "        normalize: Whether to normalize the output embeddings.\n",
    "        device: The device to run the model on (e.g., \"cuda\", \"cpu\").\n",
    "        max_context_length: The maximum context length for the model.\n",
    "\n",
    "    Returns:\n",
    "        np.ndarray: embeddings (one per input string), shape (n, dim)\n",
    "    \"\"\"\n",
    "    if isinstance(texts, str):\n",
    "        texts = [texts]\n",
    "\n",
    "    if device is None:\n",
    "        device = \"cuda\" if torch.cuda.is_available() else (\"mps\" if torch.backends.mps.is_available() else \"cpu\")\n",
    "\n",
    "    # E5 models recommend prefixing input with \"passage: \" or \"query: \"\n",
    "    texts = [f\"passage: {t}\" for t in texts]\n",
    "\n",
    "    inputs = embeddings_tokenizer(\n",
    "        texts, \n",
    "        padding=True, \n",
    "        truncation=True, \n",
    "        max_length=max_context_length,\n",
    "        return_tensors=\"pt\"\n",
    "    ).to(device)\n",
    "\n",
    "    with torch.no_grad():\n",
    "        outputs = embeddings_model(**inputs)\n",
    "\n",
    "    # Mean pooling\n",
    "    attention_mask = inputs[\"attention_mask\"]\n",
    "    embeddings = (outputs.last_hidden_state * attention_mask.unsqueeze(-1)).sum(1)\n",
    "    embeddings = embeddings / attention_mask.sum(1, keepdim=True)\n",
    "\n",
    "    if normalize:\n",
    "        embeddings = torch.nn.functional.normalize(embeddings, p=2, dim=1)\n",
    "\n",
    "    return embeddings.cpu().numpy().astype(\"float32\")"
   ]
  },
  {
   "cell_type": "code",
   "execution_count": 105,
   "id": "74d6a5c0",
   "metadata": {},
   "outputs": [],
   "source": [
    "question = \"When was the first election in Spain in the year 2024 and where was it?\"\n",
    "emb = compute_embeddings_hf(question)[0]"
   ]
  },
  {
   "cell_type": "code",
   "execution_count": 106,
   "id": "02ddbba8",
   "metadata": {},
   "outputs": [
    {
     "data": {
      "text/plain": [
       "(1024,)"
      ]
     },
     "execution_count": 106,
     "metadata": {},
     "output_type": "execute_result"
    }
   ],
   "source": [
    "emb.shape"
   ]
  },
  {
   "cell_type": "code",
   "execution_count": 14,
   "id": "2be8e9b4",
   "metadata": {},
   "outputs": [],
   "source": [
    "def compute_embeddings_openai(\n",
    "    texts: Union[str, list[str]],\n",
    "    openai_client: openai.OpenAI = openai_client,\n",
    "    embeddings_model_name: str = \"text-embedding-ada-002\"\n",
    ") -> np.ndarray:\n",
    "    \"\"\"\n",
    "    Compute embeddings for a single string or a list of strings using OpenAI.\n",
    "    \n",
    "    Args:\n",
    "        texts: A string or list of strings to embed.\n",
    "        openai_client: An OpenAI client instance.\n",
    "        embeddings_model_name: Model name for embeddings.\n",
    "    \n",
    "    Returns:\n",
    "        np.ndarray: embeddings (one per input string), shape (n, dim)\n",
    "    \"\"\"\n",
    "    if isinstance(texts, str):\n",
    "        texts = [texts]\n",
    "\n",
    "    response = openai_client.embeddings.create(\n",
    "        model=embeddings_model_name,\n",
    "        input=texts\n",
    "    )\n",
    "\n",
    "    embeddings = [item.embedding for item in response.data]\n",
    "    return np.array(embeddings, dtype=np.float32)"
   ]
  },
  {
   "cell_type": "code",
   "execution_count": 108,
   "id": "c1c19350",
   "metadata": {},
   "outputs": [],
   "source": [
    "emb = compute_embeddings_openai(question)[0]"
   ]
  },
  {
   "cell_type": "code",
   "execution_count": 109,
   "id": "fdc52ae5",
   "metadata": {},
   "outputs": [
    {
     "data": {
      "text/plain": [
       "(1536,)"
      ]
     },
     "execution_count": 109,
     "metadata": {},
     "output_type": "execute_result"
    }
   ],
   "source": [
    "emb.shape"
   ]
  },
  {
   "cell_type": "code",
   "execution_count": 15,
   "id": "c2f85eed",
   "metadata": {},
   "outputs": [],
   "source": [
    "def compute_embeddings(\n",
    "    texts: Union[str, list[str]],\n",
    "    embeddings_model_name: str = \"text-embedding-ada-002\",\n",
    "    **kwargs,\n",
    ") -> np.ndarray:\n",
    "    \"\"\"\n",
    "    Facade to compute embeddings using specified model.\n",
    "    \n",
    "    Args:\n",
    "        texts (Union[str, list[str]]): A string or list of strings to embed.\n",
    "        embeddings_model_name (str): Model name for embeddings; supported:\n",
    "            \"text-embedding-ada-002\" or \"intfloat/e5-large-v2\".\n",
    "\n",
    "    Returns:\n",
    "        np.ndarray: embeddings (one per input string), shape (n, dim)\n",
    "    \"\"\"\n",
    "    embeddings = None\n",
    "    if embeddings_model_name == \"text-embedding-ada-002\":\n",
    "        embeddings = compute_embeddings_openai(texts)\n",
    "    elif embeddings_model_name == \"intfloat/e5-large-v2\":\n",
    "        embeddings = compute_embeddings_hf(texts)\n",
    "    else:\n",
    "        raise ValueError(f\"Unsupported embeddings model: {embeddings_model_name}\")\n",
    "\n",
    "    return np.array(embeddings, dtype=np.float32)"
   ]
  },
  {
   "cell_type": "code",
   "execution_count": 16,
   "id": "3b00cada",
   "metadata": {},
   "outputs": [],
   "source": [
    "def docs_to_embeddings_df(\n",
    "    docs: list[dict],\n",
    "    embeddings_model_name: str = \"text-embedding-ada-002\",\n",
    "    batch_size: int = 100,\n",
    ") -> pd.DataFrame:\n",
    "    \"\"\"\n",
    "    Create a DataFrame from documents with columns:\n",
    "      - date\n",
    "      - event\n",
    "      - text\n",
    "      - embedding (np.ndarray)\n",
    "\n",
    "    Args:\n",
    "        docs (list[dict]): List of document dictionaries; must have the keys:\n",
    "            \"date\", \"event\", and \"text\" (embedded text).\n",
    "        embeddings_model_name (str): Model name for embeddings; supported:\n",
    "            \"text-embedding-ada-002\" or \"intfloat/e5-large-v2\".\n",
    "        batch_size (int): Batch size for embedding computation.\n",
    "\n",
    "    Returns:\n",
    "        pd.DataFrame: DataFrame with document data and embeddings.\n",
    "    \"\"\"\n",
    "    # Build rows\n",
    "    rows = [\n",
    "        {\n",
    "            \"date\": d.get(\"date\"),\n",
    "            \"event\": d.get(\"event\", \"\"),\n",
    "            \"text\": d.get(\"text\", \"\"),\n",
    "        }\n",
    "        for d in docs\n",
    "    ]\n",
    "\n",
    "    # Compute embeddings in batches\n",
    "    all_embeddings = []\n",
    "    for i in range(0, len(docs), batch_size):\n",
    "        batch_texts = [docs[j].get(\"text\", \"\") for j in range(i, min(i + batch_size, len(docs)))]\n",
    "        batch_embeddings = compute_embeddings(batch_texts, embeddings_model_name=embeddings_model_name)\n",
    "        all_embeddings.append(batch_embeddings)\n",
    "\n",
    "    # Stack into one ndarray\n",
    "    embeddings_matrix = np.vstack(all_embeddings) if all_embeddings else np.empty((0,))\n",
    "\n",
    "    # Create DataFrame\n",
    "    df = pd.DataFrame(rows)\n",
    "    df[\"embedding\"] = list(embeddings_matrix)  # store row-wise vectors\n",
    "\n",
    "    return df"
   ]
  },
  {
   "cell_type": "code",
   "execution_count": 151,
   "id": "e3f37096",
   "metadata": {},
   "outputs": [],
   "source": [
    "# Create the dataframe with embeddings\n",
    "events_emb_df = docs_to_embeddings_df(docs)"
   ]
  },
  {
   "cell_type": "code",
   "execution_count": 152,
   "id": "84fa51b9",
   "metadata": {},
   "outputs": [
    {
     "data": {
      "text/html": [
       "<div>\n",
       "<style scoped>\n",
       "    .dataframe tbody tr th:only-of-type {\n",
       "        vertical-align: middle;\n",
       "    }\n",
       "\n",
       "    .dataframe tbody tr th {\n",
       "        vertical-align: top;\n",
       "    }\n",
       "\n",
       "    .dataframe thead th {\n",
       "        text-align: right;\n",
       "    }\n",
       "</style>\n",
       "<table border=\"1\" class=\"dataframe\">\n",
       "  <thead>\n",
       "    <tr style=\"text-align: right;\">\n",
       "      <th></th>\n",
       "      <th>date</th>\n",
       "      <th>event</th>\n",
       "      <th>text</th>\n",
       "      <th>embedding</th>\n",
       "    </tr>\n",
       "  </thead>\n",
       "  <tbody>\n",
       "    <tr>\n",
       "      <th>0</th>\n",
       "      <td>2024-01-30</td>\n",
       "      <td>Benidorm Fest 2024 (1st semifinal)</td>\n",
       "      <td>Date: 30 January-3 February. Event: Benidorm F...</td>\n",
       "      <td>[-0.019598693, -0.024703346, 0.00637751, -0.01...</td>\n",
       "    </tr>\n",
       "    <tr>\n",
       "      <th>1</th>\n",
       "      <td>2024-02-03</td>\n",
       "      <td>16th Gaudí Awards in Barcelona , Catalonia</td>\n",
       "      <td>Date: 3 February. Event: 16th Gaudí Awards in ...</td>\n",
       "      <td>[-0.011121726, 0.0068112942, 0.025049297, -0.0...</td>\n",
       "    </tr>\n",
       "    <tr>\n",
       "      <th>2</th>\n",
       "      <td>2024-02-09</td>\n",
       "      <td>Two police officers are killed and two more ar...</td>\n",
       "      <td>Date: 9 February. Event: Two police officers a...</td>\n",
       "      <td>[-0.012354488, -0.0061229086, 0.009284543, -0....</td>\n",
       "    </tr>\n",
       "    <tr>\n",
       "      <th>3</th>\n",
       "      <td>2024-02-10</td>\n",
       "      <td>38th Goya Awards in Valladolid , Castile and León</td>\n",
       "      <td>Date: 10 February. Event: 38th Goya Awards in ...</td>\n",
       "      <td>[-0.020455593, -0.02021987, 0.011484991, -0.01...</td>\n",
       "    </tr>\n",
       "    <tr>\n",
       "      <th>4</th>\n",
       "      <td>2024-02-18</td>\n",
       "      <td>2024 Galician regional election</td>\n",
       "      <td>Date: 18 February. Event: 2024 Galician region...</td>\n",
       "      <td>[-0.015920069, -0.0005884834, 0.0045225965, -0...</td>\n",
       "    </tr>\n",
       "  </tbody>\n",
       "</table>\n",
       "</div>"
      ],
      "text/plain": [
       "         date                                              event  \\\n",
       "0  2024-01-30                 Benidorm Fest 2024 (1st semifinal)   \n",
       "1  2024-02-03         16th Gaudí Awards in Barcelona , Catalonia   \n",
       "2  2024-02-09  Two police officers are killed and two more ar...   \n",
       "3  2024-02-10  38th Goya Awards in Valladolid , Castile and León   \n",
       "4  2024-02-18                    2024 Galician regional election   \n",
       "\n",
       "                                                text  \\\n",
       "0  Date: 30 January-3 February. Event: Benidorm F...   \n",
       "1  Date: 3 February. Event: 16th Gaudí Awards in ...   \n",
       "2  Date: 9 February. Event: Two police officers a...   \n",
       "3  Date: 10 February. Event: 38th Goya Awards in ...   \n",
       "4  Date: 18 February. Event: 2024 Galician region...   \n",
       "\n",
       "                                           embedding  \n",
       "0  [-0.019598693, -0.024703346, 0.00637751, -0.01...  \n",
       "1  [-0.011121726, 0.0068112942, 0.025049297, -0.0...  \n",
       "2  [-0.012354488, -0.0061229086, 0.009284543, -0....  \n",
       "3  [-0.020455593, -0.02021987, 0.011484991, -0.01...  \n",
       "4  [-0.015920069, -0.0005884834, 0.0045225965, -0...  "
      ]
     },
     "execution_count": 152,
     "metadata": {},
     "output_type": "execute_result"
    }
   ],
   "source": [
    "events_emb_df.head()"
   ]
  },
  {
   "cell_type": "code",
   "execution_count": 154,
   "id": "d3c7106b",
   "metadata": {},
   "outputs": [
    {
     "data": {
      "text/plain": [
       "(1536,)"
      ]
     },
     "execution_count": 154,
     "metadata": {},
     "output_type": "execute_result"
    }
   ],
   "source": [
    "# Dimensionality of the embeddings: 1536\n",
    "events_emb_df.loc[0, \"embedding\"].shape"
   ]
  },
  {
   "cell_type": "code",
   "execution_count": 159,
   "id": "9c697f29",
   "metadata": {},
   "outputs": [],
   "source": [
    "# Save to CSV: convert to list beforehand\n",
    "events_emb_df[\"embedding\"] = events_emb_df[\"embedding\"].apply(lambda x: x.tolist() if isinstance(x, np.ndarray) else x)\n",
    "events_emb_df.to_csv(\"data/events_spain_2024_embeddings.csv\", index=False)"
   ]
  },
  {
   "cell_type": "code",
   "execution_count": 17,
   "id": "a241434e",
   "metadata": {},
   "outputs": [],
   "source": [
    "# Load from CSV: parse lists, then convert them to np.ndarray\n",
    "events_emb_df = pd.read_csv(\"data/events_spain_2024_embeddings.csv\")\n",
    "events_emb_df[\"embedding\"] = events_emb_df[\"embedding\"].apply(ast.literal_eval).apply(np.array)"
   ]
  },
  {
   "cell_type": "code",
   "execution_count": 18,
   "id": "3e7d800c",
   "metadata": {},
   "outputs": [
    {
     "data": {
      "text/html": [
       "<div>\n",
       "<style scoped>\n",
       "    .dataframe tbody tr th:only-of-type {\n",
       "        vertical-align: middle;\n",
       "    }\n",
       "\n",
       "    .dataframe tbody tr th {\n",
       "        vertical-align: top;\n",
       "    }\n",
       "\n",
       "    .dataframe thead th {\n",
       "        text-align: right;\n",
       "    }\n",
       "</style>\n",
       "<table border=\"1\" class=\"dataframe\">\n",
       "  <thead>\n",
       "    <tr style=\"text-align: right;\">\n",
       "      <th></th>\n",
       "      <th>date</th>\n",
       "      <th>event</th>\n",
       "      <th>text</th>\n",
       "      <th>embedding</th>\n",
       "    </tr>\n",
       "  </thead>\n",
       "  <tbody>\n",
       "    <tr>\n",
       "      <th>0</th>\n",
       "      <td>2024-01-30</td>\n",
       "      <td>Benidorm Fest 2024 (1st semifinal)</td>\n",
       "      <td>Date: 30 January-3 February. Event: Benidorm F...</td>\n",
       "      <td>[-0.019598692655563354, -0.02470334619283676, ...</td>\n",
       "    </tr>\n",
       "    <tr>\n",
       "      <th>1</th>\n",
       "      <td>2024-02-03</td>\n",
       "      <td>16th Gaudí Awards in Barcelona , Catalonia</td>\n",
       "      <td>Date: 3 February. Event: 16th Gaudí Awards in ...</td>\n",
       "      <td>[-0.011121725663542747, 0.006811294239014387, ...</td>\n",
       "    </tr>\n",
       "    <tr>\n",
       "      <th>2</th>\n",
       "      <td>2024-02-09</td>\n",
       "      <td>Two police officers are killed and two more ar...</td>\n",
       "      <td>Date: 9 February. Event: Two police officers a...</td>\n",
       "      <td>[-0.012354487553238869, -0.006122908554971218,...</td>\n",
       "    </tr>\n",
       "    <tr>\n",
       "      <th>3</th>\n",
       "      <td>2024-02-10</td>\n",
       "      <td>38th Goya Awards in Valladolid , Castile and León</td>\n",
       "      <td>Date: 10 February. Event: 38th Goya Awards in ...</td>\n",
       "      <td>[-0.02045559324324131, -0.020219869911670685, ...</td>\n",
       "    </tr>\n",
       "    <tr>\n",
       "      <th>4</th>\n",
       "      <td>2024-02-18</td>\n",
       "      <td>2024 Galician regional election</td>\n",
       "      <td>Date: 18 February. Event: 2024 Galician region...</td>\n",
       "      <td>[-0.015920069068670273, -0.0005884834099560976...</td>\n",
       "    </tr>\n",
       "  </tbody>\n",
       "</table>\n",
       "</div>"
      ],
      "text/plain": [
       "         date                                              event  \\\n",
       "0  2024-01-30                 Benidorm Fest 2024 (1st semifinal)   \n",
       "1  2024-02-03         16th Gaudí Awards in Barcelona , Catalonia   \n",
       "2  2024-02-09  Two police officers are killed and two more ar...   \n",
       "3  2024-02-10  38th Goya Awards in Valladolid , Castile and León   \n",
       "4  2024-02-18                    2024 Galician regional election   \n",
       "\n",
       "                                                text  \\\n",
       "0  Date: 30 January-3 February. Event: Benidorm F...   \n",
       "1  Date: 3 February. Event: 16th Gaudí Awards in ...   \n",
       "2  Date: 9 February. Event: Two police officers a...   \n",
       "3  Date: 10 February. Event: 38th Goya Awards in ...   \n",
       "4  Date: 18 February. Event: 2024 Galician region...   \n",
       "\n",
       "                                           embedding  \n",
       "0  [-0.019598692655563354, -0.02470334619283676, ...  \n",
       "1  [-0.011121725663542747, 0.006811294239014387, ...  \n",
       "2  [-0.012354487553238869, -0.006122908554971218,...  \n",
       "3  [-0.02045559324324131, -0.020219869911670685, ...  \n",
       "4  [-0.015920069068670273, -0.0005884834099560976...  "
      ]
     },
     "execution_count": 18,
     "metadata": {},
     "output_type": "execute_result"
    }
   ],
   "source": [
    "events_emb_df.head()"
   ]
  },
  {
   "cell_type": "markdown",
   "id": "c9e2d2c5",
   "metadata": {},
   "source": [
    "### Alternative Text Representation and Indexing: TFIDF"
   ]
  },
  {
   "cell_type": "markdown",
   "id": "188d5bce",
   "metadata": {},
   "source": [
    "Semantic embeddings started to become popular after [Mikolov et al., 2013](https://arxiv.org/abs/1301.3781) published their text vectorization approach. Previously, [TFIDF](https://en.wikipedia.org/wiki/Tf%E2%80%93idf) or related approaches such as [BM25](https://en.wikipedia.org/wiki/Okapi_BM25) were more common. In those techniques, documents are represented as *bags-of-words*, i.e., we one-hot encode the texts using the size of the corpus' vocabulary as the dimensionality. Additionally, *inverted indices* are created: tables which map terms with document ids and frequencies. Such an index can be built as follows:\n",
    "\n",
    "- Each new document is processed by tokenizing its text.\n",
    "- For each term/token an entry is created, which contains:\n",
    "  - List of document ids where the term/token appears.\n",
    "  - TF-IDF frequencies to understand how relevant the term is.\n",
    "\n",
    "Concretely, TF-IDF refers to *Term Frequency Inverse Document Frequency*, and it is defined as follows:\n",
    "\n",
    "- TF: Measures how frequently a term (word) occurs in a document.\n",
    "- IDF: Measures the importance of a term in the corpus.\n",
    "- TF-IDF: Importance of a term in a document.\n",
    "\n",
    "Or, more specifically:\n",
    "\n",
    "    TF(t,d) = num times term t appears in document d / total num terms in d\n",
    "    IDF(t,D) = log(total num documents in corpus D / num documents containing term t)\n",
    "    TFIDF(t,d,D) = TF(t,d) * IDF(t,D)\n",
    "\n",
    "When we start a text search, the query will be tokenized into the indexed terms and those terms are searched in the inverted index (a hash table).\n",
    "\n",
    "With that, we have a list of all the candidate documents. We can:\n",
    "\n",
    "- get a set of documents common to all terms\n",
    "- and rank the set according to their importance thanks to the `TFIDF(t,d,D)` value; the `TFIDF` is associated to each term-document, but we can compute an aggregate value for each query-document pair.\n",
    "\n",
    "On the other hand, [BM25](https://en.wikipedia.org/wiki/Okapi_BM25) is an optimized version of [TFIDF](https://en.wikipedia.org/wiki/Tf%E2%80%93idf).\n",
    "\n",
    "Even though embeddings are superior to TFIDF or BM25 when it comes to capturing meaning, hybrid settings which combine both approaches are common nowadays (e.g., embeddings and BM25).\n",
    "\n",
    "Therefore, I create a simple `TfidfVectorizer` with [Scikit-Learn](https://scikit-learn.org/) and will used a hybrid retrieval."
   ]
  },
  {
   "cell_type": "code",
   "execution_count": 69,
   "id": "a7e83ad6",
   "metadata": {},
   "outputs": [],
   "source": [
    "from typing import Union, Optional\n",
    "import joblib\n",
    "\n",
    "import pandas as pd\n",
    "from sklearn.feature_extraction.text import TfidfVectorizer\n",
    "import numpy as np\n",
    "import tiktoken"
   ]
  },
  {
   "cell_type": "code",
   "execution_count": 20,
   "id": "139543ff",
   "metadata": {},
   "outputs": [],
   "source": [
    "# One of the strengths of TFIDF is to enable keyword search\n",
    "# To that end, the tokenization must be flexible but also precise enough\n",
    "# To achieve that, we employ a custom tokenizer,\n",
    "# more specifically, the same tokenizer as the one used in the OpenAI GPT models\n",
    "def create_tfidf_index(\n",
    "    texts: list[str],\n",
    "    max_features: int = 5000,\n",
    "    tokenizer: Optional[callable] = tiktoken.get_encoding(\"cl100k_base\").encode,\n",
    ") -> tuple[TfidfVectorizer, np.ndarray]:\n",
    "    \"\"\"\n",
    "    Fit a TF-IDF vectorizer on the given texts and return both the fitted vectorizer\n",
    "    and the resulting TF-IDF matrix.\n",
    "\n",
    "    Args:\n",
    "        texts: List of documents (strings).\n",
    "        max_features: Max number of features (vocabulary size).\n",
    "        tokenizer: Optional custom tokenizer function. Default is None.\n",
    "\n",
    "    Returns:\n",
    "        vectorizer: Fitted TfidfVectorizer.\n",
    "        tfidf_matrix: np.ndarray of shape (n_docs, vocab_size).\n",
    "    \"\"\"\n",
    "    tfidf_vectorizer = TfidfVectorizer(\n",
    "        tokenizer=tokenizer,\n",
    "        max_features=max_features,\n",
    "        token_pattern=None if tokenizer is not None else r\"(?u)\\b\\w\\w+\\b\"\n",
    "    )\n",
    "    tfidf_matrix = tfidf_vectorizer.fit_transform(texts)\n",
    "    return tfidf_vectorizer, tfidf_matrix.toarray()"
   ]
  },
  {
   "cell_type": "code",
   "execution_count": 21,
   "id": "b8f6e7b4",
   "metadata": {},
   "outputs": [],
   "source": [
    "def compute_tfidf_vectors(\n",
    "    texts: Union[str, list[str]],\n",
    "    model: TfidfVectorizer,\n",
    "    **kwargs,\n",
    ") -> np.ndarray:\n",
    "    \"\"\"\n",
    "    Compute TF-IDF vector(s) for a string or list of strings using a fitted vectorizer.\n",
    "\n",
    "    Args:\n",
    "        texts: A string or list of strings.\n",
    "        vectorizer: A fitted TfidfVectorizer.\n",
    "\n",
    "    Returns:\n",
    "        np.ndarray of shape (n_texts, vocab_size).\n",
    "    \"\"\"\n",
    "    if isinstance(texts, str):\n",
    "        texts = [texts]\n",
    "    return model.transform(texts).toarray()"
   ]
  },
  {
   "cell_type": "code",
   "execution_count": 22,
   "id": "46f59331",
   "metadata": {},
   "outputs": [],
   "source": [
    "def docs_to_tfidf_df(\n",
    "    docs: list[dict],\n",
    "    max_features: int = 5000\n",
    ") -> tuple[pd.DataFrame, TfidfVectorizer, np.ndarray]:\n",
    "    \"\"\"\n",
    "    Create a DataFrame from documents with TF-IDF vectors.\n",
    "\n",
    "    Columns:\n",
    "      - date\n",
    "      - event\n",
    "      - text\n",
    "      - vector (TF-IDF row vector)\n",
    "\n",
    "    Args:\n",
    "        docs: List of dicts with keys \"date\", \"event\", \"text\".\n",
    "        max_features: Max number of vocabulary features.\n",
    "\n",
    "    Returns:\n",
    "        df: DataFrame with doc metadata and TF-IDF vectors.\n",
    "        vectorizer: Fitted TfidfVectorizer.\n",
    "        tfidf_matrix: np.ndarray with all doc vectors.\n",
    "    \"\"\"\n",
    "    rows = []\n",
    "    texts = []\n",
    "\n",
    "    for d in docs:\n",
    "        rows.append({\n",
    "            \"date\": d.get(\"date\"),\n",
    "            \"event\": d.get(\"event\", \"\"),\n",
    "            \"text\": d.get(\"text\", \"\")\n",
    "        })\n",
    "        texts.append(d.get(\"text\", \"\"))\n",
    "\n",
    "    # Build TF-IDF index\n",
    "    tfidf_vectorizer, tfidf_matrix = create_tfidf_index(texts, max_features=max_features)\n",
    "\n",
    "    # Assign vectors to dataframe\n",
    "    df = pd.DataFrame(rows)\n",
    "    df[\"vector\"] = list(tfidf_matrix)\n",
    "\n",
    "    return df, tfidf_vectorizer, tfidf_matrix"
   ]
  },
  {
   "cell_type": "code",
   "execution_count": 23,
   "id": "5ba6ca05",
   "metadata": {},
   "outputs": [],
   "source": [
    "# Create the dataframe with TF-IDF vectors + index\n",
    "events_tfidf_df, tfidf_vectorizer, tfidf_index = docs_to_tfidf_df(docs)"
   ]
  },
  {
   "cell_type": "code",
   "execution_count": 24,
   "id": "6434ee3a",
   "metadata": {},
   "outputs": [
    {
     "data": {
      "text/html": [
       "<div>\n",
       "<style scoped>\n",
       "    .dataframe tbody tr th:only-of-type {\n",
       "        vertical-align: middle;\n",
       "    }\n",
       "\n",
       "    .dataframe tbody tr th {\n",
       "        vertical-align: top;\n",
       "    }\n",
       "\n",
       "    .dataframe thead th {\n",
       "        text-align: right;\n",
       "    }\n",
       "</style>\n",
       "<table border=\"1\" class=\"dataframe\">\n",
       "  <thead>\n",
       "    <tr style=\"text-align: right;\">\n",
       "      <th></th>\n",
       "      <th>date</th>\n",
       "      <th>event</th>\n",
       "      <th>text</th>\n",
       "      <th>vector</th>\n",
       "    </tr>\n",
       "  </thead>\n",
       "  <tbody>\n",
       "    <tr>\n",
       "      <th>0</th>\n",
       "      <td>2024-01-30</td>\n",
       "      <td>Benidorm Fest 2024 (1st semifinal)</td>\n",
       "      <td>Date: 30 January-3 February. Event: Benidorm F...</td>\n",
       "      <td>[0.05757435485129117, 0.0, 0.0, 0.0, 0.0, 0.02...</td>\n",
       "    </tr>\n",
       "    <tr>\n",
       "      <th>1</th>\n",
       "      <td>2024-02-03</td>\n",
       "      <td>16th Gaudí Awards in Barcelona , Catalonia</td>\n",
       "      <td>Date: 3 February. Event: 16th Gaudí Awards in ...</td>\n",
       "      <td>[0.0, 0.0, 0.0, 0.0, 0.0, 0.0, 0.0, 0.0, 0.0, ...</td>\n",
       "    </tr>\n",
       "    <tr>\n",
       "      <th>2</th>\n",
       "      <td>2024-02-09</td>\n",
       "      <td>Two police officers are killed and two more ar...</td>\n",
       "      <td>Date: 9 February. Event: Two police officers a...</td>\n",
       "      <td>[0.0, 0.0, 0.0, 0.0, 0.0, 0.0, 0.0264700492742...</td>\n",
       "    </tr>\n",
       "    <tr>\n",
       "      <th>3</th>\n",
       "      <td>2024-02-10</td>\n",
       "      <td>38th Goya Awards in Valladolid , Castile and León</td>\n",
       "      <td>Date: 10 February. Event: 38th Goya Awards in ...</td>\n",
       "      <td>[0.0, 0.0, 0.0, 0.0, 0.0, 0.0, 0.0, 0.13572173...</td>\n",
       "    </tr>\n",
       "    <tr>\n",
       "      <th>4</th>\n",
       "      <td>2024-02-18</td>\n",
       "      <td>2024 Galician regional election</td>\n",
       "      <td>Date: 18 February. Event: 2024 Galician region...</td>\n",
       "      <td>[0.0, 0.038600305936766104, 0.0, 0.0, 0.0, 0.0...</td>\n",
       "    </tr>\n",
       "  </tbody>\n",
       "</table>\n",
       "</div>"
      ],
      "text/plain": [
       "         date                                              event  \\\n",
       "0  2024-01-30                 Benidorm Fest 2024 (1st semifinal)   \n",
       "1  2024-02-03         16th Gaudí Awards in Barcelona , Catalonia   \n",
       "2  2024-02-09  Two police officers are killed and two more ar...   \n",
       "3  2024-02-10  38th Goya Awards in Valladolid , Castile and León   \n",
       "4  2024-02-18                    2024 Galician regional election   \n",
       "\n",
       "                                                text  \\\n",
       "0  Date: 30 January-3 February. Event: Benidorm F...   \n",
       "1  Date: 3 February. Event: 16th Gaudí Awards in ...   \n",
       "2  Date: 9 February. Event: Two police officers a...   \n",
       "3  Date: 10 February. Event: 38th Goya Awards in ...   \n",
       "4  Date: 18 February. Event: 2024 Galician region...   \n",
       "\n",
       "                                              vector  \n",
       "0  [0.05757435485129117, 0.0, 0.0, 0.0, 0.0, 0.02...  \n",
       "1  [0.0, 0.0, 0.0, 0.0, 0.0, 0.0, 0.0, 0.0, 0.0, ...  \n",
       "2  [0.0, 0.0, 0.0, 0.0, 0.0, 0.0, 0.0264700492742...  \n",
       "3  [0.0, 0.0, 0.0, 0.0, 0.0, 0.0, 0.0, 0.13572173...  \n",
       "4  [0.0, 0.038600305936766104, 0.0, 0.0, 0.0, 0.0...  "
      ]
     },
     "execution_count": 24,
     "metadata": {},
     "output_type": "execute_result"
    }
   ],
   "source": [
    "events_tfidf_df.head()"
   ]
  },
  {
   "cell_type": "code",
   "execution_count": 29,
   "id": "e84f9b7a",
   "metadata": {},
   "outputs": [],
   "source": [
    "# Save to CSV: convert to list beforehand\n",
    "events_tfidf_df[\"vector\"] = events_tfidf_df[\"vector\"].apply(lambda x: x.tolist() if isinstance(x, np.ndarray) else x)\n",
    "events_tfidf_df.to_csv(\"data/events_spain_2024_tfidf_vectors.csv\", index=False)"
   ]
  },
  {
   "cell_type": "code",
   "execution_count": 30,
   "id": "9b9c855f",
   "metadata": {},
   "outputs": [],
   "source": [
    "# Load from CSV: parse lists, then convert them to np.ndarray\n",
    "events_tfidf_df = pd.read_csv(\"data/events_spain_2024_tfidf_vectors.csv\")\n",
    "events_tfidf_df[\"vector\"] = events_tfidf_df[\"vector\"].apply(ast.literal_eval).apply(np.array)"
   ]
  },
  {
   "cell_type": "code",
   "execution_count": 31,
   "id": "211a756d",
   "metadata": {},
   "outputs": [
    {
     "data": {
      "text/html": [
       "<div>\n",
       "<style scoped>\n",
       "    .dataframe tbody tr th:only-of-type {\n",
       "        vertical-align: middle;\n",
       "    }\n",
       "\n",
       "    .dataframe tbody tr th {\n",
       "        vertical-align: top;\n",
       "    }\n",
       "\n",
       "    .dataframe thead th {\n",
       "        text-align: right;\n",
       "    }\n",
       "</style>\n",
       "<table border=\"1\" class=\"dataframe\">\n",
       "  <thead>\n",
       "    <tr style=\"text-align: right;\">\n",
       "      <th></th>\n",
       "      <th>date</th>\n",
       "      <th>event</th>\n",
       "      <th>text</th>\n",
       "      <th>vector</th>\n",
       "    </tr>\n",
       "  </thead>\n",
       "  <tbody>\n",
       "    <tr>\n",
       "      <th>0</th>\n",
       "      <td>2024-01-30</td>\n",
       "      <td>Benidorm Fest 2024 (1st semifinal)</td>\n",
       "      <td>Date: 30 January-3 February. Event: Benidorm F...</td>\n",
       "      <td>[0.05757435485129117, 0.0, 0.0, 0.0, 0.0, 0.02...</td>\n",
       "    </tr>\n",
       "    <tr>\n",
       "      <th>1</th>\n",
       "      <td>2024-02-03</td>\n",
       "      <td>16th Gaudí Awards in Barcelona , Catalonia</td>\n",
       "      <td>Date: 3 February. Event: 16th Gaudí Awards in ...</td>\n",
       "      <td>[0.0, 0.0, 0.0, 0.0, 0.0, 0.0, 0.0, 0.0, 0.0, ...</td>\n",
       "    </tr>\n",
       "    <tr>\n",
       "      <th>2</th>\n",
       "      <td>2024-02-09</td>\n",
       "      <td>Two police officers are killed and two more ar...</td>\n",
       "      <td>Date: 9 February. Event: Two police officers a...</td>\n",
       "      <td>[0.0, 0.0, 0.0, 0.0, 0.0, 0.0, 0.0264700492742...</td>\n",
       "    </tr>\n",
       "    <tr>\n",
       "      <th>3</th>\n",
       "      <td>2024-02-10</td>\n",
       "      <td>38th Goya Awards in Valladolid , Castile and León</td>\n",
       "      <td>Date: 10 February. Event: 38th Goya Awards in ...</td>\n",
       "      <td>[0.0, 0.0, 0.0, 0.0, 0.0, 0.0, 0.0, 0.13572173...</td>\n",
       "    </tr>\n",
       "    <tr>\n",
       "      <th>4</th>\n",
       "      <td>2024-02-18</td>\n",
       "      <td>2024 Galician regional election</td>\n",
       "      <td>Date: 18 February. Event: 2024 Galician region...</td>\n",
       "      <td>[0.0, 0.038600305936766104, 0.0, 0.0, 0.0, 0.0...</td>\n",
       "    </tr>\n",
       "  </tbody>\n",
       "</table>\n",
       "</div>"
      ],
      "text/plain": [
       "         date                                              event  \\\n",
       "0  2024-01-30                 Benidorm Fest 2024 (1st semifinal)   \n",
       "1  2024-02-03         16th Gaudí Awards in Barcelona , Catalonia   \n",
       "2  2024-02-09  Two police officers are killed and two more ar...   \n",
       "3  2024-02-10  38th Goya Awards in Valladolid , Castile and León   \n",
       "4  2024-02-18                    2024 Galician regional election   \n",
       "\n",
       "                                                text  \\\n",
       "0  Date: 30 January-3 February. Event: Benidorm F...   \n",
       "1  Date: 3 February. Event: 16th Gaudí Awards in ...   \n",
       "2  Date: 9 February. Event: Two police officers a...   \n",
       "3  Date: 10 February. Event: 38th Goya Awards in ...   \n",
       "4  Date: 18 February. Event: 2024 Galician region...   \n",
       "\n",
       "                                              vector  \n",
       "0  [0.05757435485129117, 0.0, 0.0, 0.0, 0.0, 0.02...  \n",
       "1  [0.0, 0.0, 0.0, 0.0, 0.0, 0.0, 0.0, 0.0, 0.0, ...  \n",
       "2  [0.0, 0.0, 0.0, 0.0, 0.0, 0.0, 0.0264700492742...  \n",
       "3  [0.0, 0.0, 0.0, 0.0, 0.0, 0.0, 0.0, 0.13572173...  \n",
       "4  [0.0, 0.038600305936766104, 0.0, 0.0, 0.0, 0.0...  "
      ]
     },
     "execution_count": 31,
     "metadata": {},
     "output_type": "execute_result"
    }
   ],
   "source": [
    "events_tfidf_df.head()"
   ]
  },
  {
   "cell_type": "code",
   "execution_count": 70,
   "id": "48e6c795",
   "metadata": {},
   "outputs": [
    {
     "data": {
      "text/plain": [
       "['artifacts/tfidf_vectorizer.joblib']"
      ]
     },
     "execution_count": 70,
     "metadata": {},
     "output_type": "execute_result"
    }
   ],
   "source": [
    "# In the case of TFIDF, we should also save the model we have trained\n",
    "joblib.dump(tfidf_vectorizer, \"artifacts/tfidf_vectorizer.joblib\")"
   ]
  },
  {
   "cell_type": "code",
   "execution_count": 71,
   "id": "23869e68",
   "metadata": {},
   "outputs": [],
   "source": [
    "# Load the vectorizer later when needed\n",
    "tfidf_vectorizer = joblib.load(\"artifacts/tfidf_vectorizer.joblib\")"
   ]
  },
  {
   "cell_type": "code",
   "execution_count": 72,
   "id": "a0b51be7",
   "metadata": {},
   "outputs": [
    {
     "name": "stdout",
     "output_type": "stream",
     "text": [
      "(54, 2908)\n"
     ]
    }
   ],
   "source": [
    "# (n_docs, vocab_size)\n",
    "# vocab_size: number of found unique tokens\n",
    "print(tfidf_index.shape)"
   ]
  },
  {
   "cell_type": "code",
   "execution_count": 26,
   "id": "96b6da0e",
   "metadata": {},
   "outputs": [],
   "source": [
    "# Later: compute query vector\n",
    "query = \"When was the first election in Spain in the year 2024 and where was it?\"\n",
    "query_vec = compute_tfidf_vectors(query, tfidf_vectorizer)[0]"
   ]
  },
  {
   "cell_type": "code",
   "execution_count": 27,
   "id": "534906fa",
   "metadata": {},
   "outputs": [
    {
     "data": {
      "text/plain": [
       "(2908,)"
      ]
     },
     "execution_count": 27,
     "metadata": {},
     "output_type": "execute_result"
    }
   ],
   "source": [
    "query_vec.shape"
   ]
  },
  {
   "cell_type": "markdown",
   "id": "43183e7c",
   "metadata": {},
   "source": [
    "## Relevant Data Retrieval"
   ]
  },
  {
   "cell_type": "markdown",
   "id": "33c62631",
   "metadata": {},
   "source": [
    "Once the knowledge base is built and vectorized, we need to retrieve relevant documents from it.\n",
    "\n",
    "Since the documents are encoded as vectors, we vectorize the query with the same function and pick the documents which have the vectors most aligned with it. That consists in projecting the query vector on the knowledge base and selecting the largest projection value, in oder words, applying [cosine similarity](https://en.wikipedia.org/wiki/Cosine_similarity).\n",
    "\n",
    "In order to increase transparency, the ids (and hence, the reference URLs) of the retrieved documents are also returned and will be used later in the pipeline."
   ]
  },
  {
   "cell_type": "markdown",
   "id": "6e808acd",
   "metadata": {},
   "source": [
    "### Embeddings Retrieval"
   ]
  },
  {
   "cell_type": "code",
   "execution_count": 32,
   "id": "82976a29",
   "metadata": {},
   "outputs": [],
   "source": [
    "from typing import Optional, Callable\n",
    "import numpy as np\n",
    "import matplotlib.pyplot as plt\n",
    "from scipy.spatial.distance import cosine as cosine_distance\n",
    "from scipy.spatial.distance import cdist"
   ]
  },
  {
   "cell_type": "code",
   "execution_count": 33,
   "id": "c5131d2c",
   "metadata": {},
   "outputs": [],
   "source": [
    "emb_index = np.stack(events_emb_df[\"embedding\"].to_numpy())"
   ]
  },
  {
   "cell_type": "code",
   "execution_count": 34,
   "id": "8a70f9c8",
   "metadata": {},
   "outputs": [],
   "source": [
    "def compute_cosine_similarity(query_vec: np.ndarray, docs_index: np.ndarray) -> np.ndarray:\n",
    "    \"\"\"\n",
    "    Compute cosine similarity between a query vector and a matrix of document vectors.\n",
    "\n",
    "    Args:\n",
    "        query_vec: np.ndarray of shape (embedding_dim,)\n",
    "        docs_index: np.ndarray of shape (n_docs, embedding_dim)\n",
    "\n",
    "    Returns:\n",
    "        similarities: np.ndarray of shape (n_docs,), values in [-1, 1]\n",
    "    \"\"\"\n",
    "    query_norm = query_vec / np.linalg.norm(query_vec)\n",
    "    doc_norms = docs_index / np.linalg.norm(docs_index, axis=1, keepdims=True)\n",
    "    return np.dot(doc_norms, query_norm)"
   ]
  },
  {
   "cell_type": "code",
   "execution_count": 35,
   "id": "9be1ed6d",
   "metadata": {},
   "outputs": [],
   "source": [
    "# In order to be flexible, we inject the query_transform_fn\n",
    "# query_transform_fn can be compute_embeddings or compute_tfidf_vectors\n",
    "def find_relevant_docs(\n",
    "    question: str,\n",
    "    docs_index: np.ndarray,\n",
    "    query_transform_fn: Callable[..., np.ndarray],\n",
    "    top_k: Optional[int] = None,\n",
    "    **kwargs\n",
    ") -> tuple[np.ndarray, np.ndarray]:\n",
    "    \"\"\"\n",
    "    Generic function to find relevant docs, works with embeddings or TF-IDF.\n",
    "\n",
    "    Args:\n",
    "        question: The query string.\n",
    "        docs_index: np.ndarray of shape (n_docs, dim).\n",
    "        query_transform_fn: Function that turns a query string into a vector (np.ndarray).\n",
    "            Can accept extra arguments via **kwargs.\n",
    "        top_k: Number of top results to return.\n",
    "        **kwargs: Extra args passed to query_transform_fn.\n",
    "\n",
    "    Returns:\n",
    "        sorted_doc_ids: np.ndarray of row/doc indices sorted by relevance.\n",
    "        sorted_doc_scores: np.ndarray of cosine similarities sorted in the same order.\n",
    "    \"\"\"\n",
    "    # Transform query into vector\n",
    "    query_vec = query_transform_fn(question, **kwargs)[0]\n",
    "\n",
    "    # Ensure correct shape\n",
    "    if query_vec.ndim > 1:\n",
    "        query_vec = query_vec.squeeze(0)\n",
    "\n",
    "    # Compute similarities\n",
    "    similarities = compute_cosine_similarity(query_vec, docs_index)\n",
    "\n",
    "    # Sort by descending similarity\n",
    "    sorted_doc_ids = np.argsort(similarities)[::-1]\n",
    "    sorted_doc_scores = similarities[sorted_doc_ids]\n",
    "\n",
    "    if top_k is not None and 0 < top_k < len(sorted_doc_ids):\n",
    "        sorted_doc_ids = sorted_doc_ids[:top_k]\n",
    "        sorted_doc_scores = sorted_doc_scores[:top_k]\n",
    "\n",
    "    return sorted_doc_ids, sorted_doc_scores"
   ]
  },
  {
   "cell_type": "code",
   "execution_count": 36,
   "id": "5a73ba76",
   "metadata": {},
   "outputs": [],
   "source": [
    "sorted_emb_doc_ids, sorted_emb_doc_scores = find_relevant_docs(\n",
    "    \"When was the first election in Spain in the year 2024 and where was it?\",\n",
    "    docs_index=emb_index,\n",
    "    query_transform_fn=compute_embeddings,\n",
    "    top_k=None,\n",
    "    embeddings_model_name=\"text-embedding-ada-002\",\n",
    ")"
   ]
  },
  {
   "cell_type": "code",
   "execution_count": 37,
   "id": "075edcd9",
   "metadata": {},
   "outputs": [
    {
     "data": {
      "text/plain": [
       "array([ 4,  8, 22,  7, 11, 20, 32,  9, 10, 37, 12, 44, 52,  3, 41,  1, 46,\n",
       "       33, 18, 35, 25, 30, 29,  0, 26, 39,  6, 31, 40, 45,  5, 17, 19, 16,\n",
       "       36, 23, 34, 14, 13, 21, 48, 38, 47, 49, 15,  2, 42, 28, 50, 43, 27,\n",
       "       24, 53, 51])"
      ]
     },
     "execution_count": 37,
     "metadata": {},
     "output_type": "execute_result"
    }
   ],
   "source": [
    "sorted_emb_doc_ids"
   ]
  },
  {
   "cell_type": "code",
   "execution_count": 38,
   "id": "4a3c5f9d",
   "metadata": {},
   "outputs": [
    {
     "data": {
      "text/html": [
       "<div>\n",
       "<style scoped>\n",
       "    .dataframe tbody tr th:only-of-type {\n",
       "        vertical-align: middle;\n",
       "    }\n",
       "\n",
       "    .dataframe tbody tr th {\n",
       "        vertical-align: top;\n",
       "    }\n",
       "\n",
       "    .dataframe thead th {\n",
       "        text-align: right;\n",
       "    }\n",
       "</style>\n",
       "<table border=\"1\" class=\"dataframe\">\n",
       "  <thead>\n",
       "    <tr style=\"text-align: right;\">\n",
       "      <th></th>\n",
       "      <th>date</th>\n",
       "      <th>event</th>\n",
       "      <th>text</th>\n",
       "      <th>embedding</th>\n",
       "    </tr>\n",
       "  </thead>\n",
       "  <tbody>\n",
       "    <tr>\n",
       "      <th>4</th>\n",
       "      <td>2024-02-18</td>\n",
       "      <td>2024 Galician regional election</td>\n",
       "      <td>Date: 18 February. Event: 2024 Galician region...</td>\n",
       "      <td>[-0.015920069068670273, -0.0005884834099560976...</td>\n",
       "    </tr>\n",
       "    <tr>\n",
       "      <th>8</th>\n",
       "      <td>2024-04-21</td>\n",
       "      <td>2024 Basque regional election</td>\n",
       "      <td>Date: 21 April. Event: 2024 Basque regional el...</td>\n",
       "      <td>[-0.007055893074721098, -0.017370423302054405,...</td>\n",
       "    </tr>\n",
       "    <tr>\n",
       "      <th>22</th>\n",
       "      <td>2024-06-11</td>\n",
       "      <td>2024 Spain floods .</td>\n",
       "      <td>Date: 11 June. Event: 2024 Spain floods .. Eve...</td>\n",
       "      <td>[-0.017902955412864685, -0.02369348518550396, ...</td>\n",
       "    </tr>\n",
       "  </tbody>\n",
       "</table>\n",
       "</div>"
      ],
      "text/plain": [
       "          date                            event  \\\n",
       "4   2024-02-18  2024 Galician regional election   \n",
       "8   2024-04-21    2024 Basque regional election   \n",
       "22  2024-06-11              2024 Spain floods .   \n",
       "\n",
       "                                                 text  \\\n",
       "4   Date: 18 February. Event: 2024 Galician region...   \n",
       "8   Date: 21 April. Event: 2024 Basque regional el...   \n",
       "22  Date: 11 June. Event: 2024 Spain floods .. Eve...   \n",
       "\n",
       "                                            embedding  \n",
       "4   [-0.015920069068670273, -0.0005884834099560976...  \n",
       "8   [-0.007055893074721098, -0.017370423302054405,...  \n",
       "22  [-0.017902955412864685, -0.02369348518550396, ...  "
      ]
     },
     "execution_count": 38,
     "metadata": {},
     "output_type": "execute_result"
    }
   ],
   "source": [
    "events_emb_df.iloc[sorted_emb_doc_ids[:3]]  # Top 3 most relevant events"
   ]
  },
  {
   "cell_type": "code",
   "execution_count": 39,
   "id": "c7911621",
   "metadata": {},
   "outputs": [
    {
     "data": {
      "text/plain": [
       "[<matplotlib.lines.Line2D at 0x2364aa97190>]"
      ]
     },
     "execution_count": 39,
     "metadata": {},
     "output_type": "execute_result"
    },
    {
     "data": {
      "image/png": "[encoded data removed]",
      "text/plain": [
       "<Figure size 640x480 with 1 Axes>"
      ]
     },
     "metadata": {},
     "output_type": "display_data"
    }
   ],
   "source": [
    "plt.plot(sorted_emb_doc_scores)"
   ]
  },
  {
   "cell_type": "markdown",
   "id": "3b3cddad",
   "metadata": {},
   "source": [
    "### TFIDF Retrieval"
   ]
  },
  {
   "cell_type": "markdown",
   "id": "ec718962",
   "metadata": {},
   "source": [
    "For the TFIDF index, the retrieval can work with the same [cosine similarity](https://en.wikipedia.org/wiki/Cosine_similarity) function."
   ]
  },
  {
   "cell_type": "code",
   "execution_count": 41,
   "id": "5537dd9f",
   "metadata": {},
   "outputs": [],
   "source": [
    "# We can re-use our find_relevant_docs() function with TFIDF\n",
    "# However, in this case query_transform_fn will be compute_tfidf_vectors(),\n",
    "# not compute_embeddings()\n",
    "sorted_tfidf_doc_ids, sorted_tfidf_doc_scores = find_relevant_docs(\n",
    "    \"When was the first election in Spain in the year 2024 and where was it?\",\n",
    "    docs_index=tfidf_index,\n",
    "    query_transform_fn=compute_tfidf_vectors,\n",
    "    top_k=None,\n",
    "    model=tfidf_vectorizer,\n",
    ")"
   ]
  },
  {
   "cell_type": "code",
   "execution_count": 42,
   "id": "56154fff",
   "metadata": {},
   "outputs": [
    {
     "data": {
      "text/plain": [
       "array([20, 34,  4, 47, 25,  8, 28, 19, 43, 53, 27, 22, 31, 18, 48, 11, 46,\n",
       "        9, 12,  5, 21, 42, 39, 13,  2, 49, 35, 36, 40, 38,  7, 33, 16, 14,\n",
       "       41, 26, 52, 30, 15, 45, 29, 51, 23,  1, 50, 44,  3, 10, 37,  0, 24,\n",
       "       32,  6, 17])"
      ]
     },
     "execution_count": 42,
     "metadata": {},
     "output_type": "execute_result"
    }
   ],
   "source": [
    "sorted_tfidf_doc_ids"
   ]
  },
  {
   "cell_type": "code",
   "execution_count": 43,
   "id": "9d8a7d35",
   "metadata": {},
   "outputs": [
    {
     "data": {
      "text/html": [
       "<div>\n",
       "<style scoped>\n",
       "    .dataframe tbody tr th:only-of-type {\n",
       "        vertical-align: middle;\n",
       "    }\n",
       "\n",
       "    .dataframe tbody tr th {\n",
       "        vertical-align: top;\n",
       "    }\n",
       "\n",
       "    .dataframe thead th {\n",
       "        text-align: right;\n",
       "    }\n",
       "</style>\n",
       "<table border=\"1\" class=\"dataframe\">\n",
       "  <thead>\n",
       "    <tr style=\"text-align: right;\">\n",
       "      <th></th>\n",
       "      <th>date</th>\n",
       "      <th>event</th>\n",
       "      <th>text</th>\n",
       "      <th>embedding</th>\n",
       "    </tr>\n",
       "  </thead>\n",
       "  <tbody>\n",
       "    <tr>\n",
       "      <th>20</th>\n",
       "      <td>2024-06-09</td>\n",
       "      <td>2024 European Parliament election</td>\n",
       "      <td>Date: 9 June. Event: 2024 European Parliament ...</td>\n",
       "      <td>[-0.02031489834189415, -0.017587553709745407, ...</td>\n",
       "    </tr>\n",
       "    <tr>\n",
       "      <th>34</th>\n",
       "      <td>2024-07-30</td>\n",
       "      <td>The National Police announces the arrest of 26...</td>\n",
       "      <td>Date: 30 July. Event: The National Police anno...</td>\n",
       "      <td>[-0.0061876242980360985, -0.011100223287940025...</td>\n",
       "    </tr>\n",
       "    <tr>\n",
       "      <th>4</th>\n",
       "      <td>2024-02-18</td>\n",
       "      <td>2024 Galician regional election</td>\n",
       "      <td>Date: 18 February. Event: 2024 Galician region...</td>\n",
       "      <td>[-0.015920069068670273, -0.0005884834099560976...</td>\n",
       "    </tr>\n",
       "  </tbody>\n",
       "</table>\n",
       "</div>"
      ],
      "text/plain": [
       "          date                                              event  \\\n",
       "20  2024-06-09                  2024 European Parliament election   \n",
       "34  2024-07-30  The National Police announces the arrest of 26...   \n",
       "4   2024-02-18                    2024 Galician regional election   \n",
       "\n",
       "                                                 text  \\\n",
       "20  Date: 9 June. Event: 2024 European Parliament ...   \n",
       "34  Date: 30 July. Event: The National Police anno...   \n",
       "4   Date: 18 February. Event: 2024 Galician region...   \n",
       "\n",
       "                                            embedding  \n",
       "20  [-0.02031489834189415, -0.017587553709745407, ...  \n",
       "34  [-0.0061876242980360985, -0.011100223287940025...  \n",
       "4   [-0.015920069068670273, -0.0005884834099560976...  "
      ]
     },
     "execution_count": 43,
     "metadata": {},
     "output_type": "execute_result"
    }
   ],
   "source": [
    "events_emb_df.iloc[sorted_tfidf_doc_ids[:3]]  # Top 3 most relevant events"
   ]
  },
  {
   "cell_type": "code",
   "execution_count": 44,
   "id": "3e255a5f",
   "metadata": {},
   "outputs": [
    {
     "data": {
      "text/plain": [
       "[<matplotlib.lines.Line2D at 0x2364cb6b0a0>]"
      ]
     },
     "execution_count": 44,
     "metadata": {},
     "output_type": "execute_result"
    },
    {
     "data": {
      "image/png": "[encoded data removed]",
      "text/plain": [
       "<Figure size 640x480 with 1 Axes>"
      ]
     },
     "metadata": {},
     "output_type": "display_data"
    }
   ],
   "source": [
    "plt.plot(sorted_tfidf_doc_scores)"
   ]
  },
  {
   "cell_type": "markdown",
   "id": "fa28e3a8",
   "metadata": {},
   "source": [
    "### Fusing Alternative Retrievals"
   ]
  },
  {
   "cell_type": "markdown",
   "id": "4d8180d7",
   "metadata": {},
   "source": [
    "We have two retrieved sets of document ids. How can we merge them and pick the most appropriate documents ordered after relevancy? One very simple approach is the algorithm [Reciprocal Rank Fusion (RRF)](https://www.elastic.co/docs/reference/elasticsearch/rest-apis/reciprocal-rank-fusion) implemented here: we assign each document the inverse score of their rank over all retrieved sets."
   ]
  },
  {
   "cell_type": "code",
   "execution_count": 45,
   "id": "52ad4c90",
   "metadata": {},
   "outputs": [],
   "source": [
    "def reciprocal_rank_fusion(\n",
    "    results: list[tuple[np.ndarray, np.ndarray]],\n",
    "    k: int = 60,\n",
    "    top_k: int = 3\n",
    ") -> tuple[np.ndarray, np.ndarray]:\n",
    "    \"\"\"\n",
    "    Fuse multiple ranked lists using Reciprocal Rank Fusion (RRF).\n",
    "\n",
    "    Args:\n",
    "        results: list of (doc_ids, scores) from each retrieval system.\n",
    "        k: RRF parameter to dampen long ranks.\n",
    "        top_k: return top-k fused results.\n",
    "\n",
    "    Returns:\n",
    "        fused_doc_ids, fused_scores\n",
    "    \"\"\"\n",
    "    fused_scores = {}\n",
    "    for doc_ids, _ in results:\n",
    "        for rank, doc_id in enumerate(doc_ids):\n",
    "            fused_scores[doc_id] = fused_scores.get(doc_id, 0) + 1.0 / (k + rank + 1)\n",
    "\n",
    "    # Sort by fused score\n",
    "    sorted_items = sorted(fused_scores.items(), key=lambda x: x[1], reverse=True)\n",
    "    if top_k is None or not (0 < top_k < len(sorted_items)):\n",
    "        top_k = -1\n",
    "    fused_doc_ids = np.array([doc for doc, _ in sorted_items[:top_k]])\n",
    "    fused_doc_scores = np.array([score for _, score in sorted_items[:top_k]])\n",
    "\n",
    "    return fused_doc_ids, fused_doc_scores"
   ]
  },
  {
   "cell_type": "code",
   "execution_count": 46,
   "id": "63a13ffb",
   "metadata": {},
   "outputs": [],
   "source": [
    "fused_doc_ids, fused_doc_scores = reciprocal_rank_fusion(\n",
    "    results=[\n",
    "        (sorted_emb_doc_ids, sorted_emb_doc_scores),\n",
    "        (sorted_tfidf_doc_ids, sorted_tfidf_doc_scores)\n",
    "    ],\n",
    "    k=60,\n",
    "    top_k=None,\n",
    ")"
   ]
  },
  {
   "cell_type": "code",
   "execution_count": 47,
   "id": "f1f2d4d3",
   "metadata": {},
   "outputs": [
    {
     "data": {
      "text/plain": [
       "array([ 4, 20,  8, 22, 11, 25,  9, 12,  7, 34, 18, 46, 19, 47, 31, 28, 52,\n",
       "       35, 41, 32, 10, 33, 39, 43,  5, 37, 44, 48, 53, 27,  3,  1, 40, 30,\n",
       "       21, 26, 13, 29, 36, 42, 16, 49,  2, 45,  0, 38, 14,  6, 23, 17, 15,\n",
       "       50, 51])"
      ]
     },
     "execution_count": 47,
     "metadata": {},
     "output_type": "execute_result"
    }
   ],
   "source": [
    "fused_doc_ids"
   ]
  },
  {
   "cell_type": "code",
   "execution_count": 48,
   "id": "ad049723",
   "metadata": {},
   "outputs": [
    {
     "data": {
      "text/plain": [
       "[<matplotlib.lines.Line2D at 0x2364cbd9ba0>]"
      ]
     },
     "execution_count": 48,
     "metadata": {},
     "output_type": "execute_result"
    },
    {
     "data": {
      "image/png": "[encoded data removed]",
      "text/plain": [
       "<Figure size 640x480 with 1 Axes>"
      ]
     },
     "metadata": {},
     "output_type": "display_data"
    }
   ],
   "source": [
    "plt.plot(fused_doc_scores)"
   ]
  },
  {
   "cell_type": "markdown",
   "id": "914f0157",
   "metadata": {},
   "source": [
    "### Data Retriever Container"
   ]
  },
  {
   "cell_type": "markdown",
   "id": "2a8e59cb",
   "metadata": {},
   "source": [
    "When the number of functions and branches of possible tool combinations increases, it makes sense to consider Object Oriented Programming (OOP) patterns to simplify the structure and the future maintenance. For the sake of simplicity and to keep with a more tutorial/teaching style, I have chosen a more functional approach here. However, to tackle the usage of different retrieval strategies, I introduce the `DataRetriever` class. We will inject to it \n",
    "\n",
    "- the used `index`: the document vector matrix (embeddings or TFIDF)\n",
    "- the `transform_fn`: the functions `compute_embeddings()` and/or `compute_tfidf_vectors()`\n",
    "- the `model` used for in `transform_fn`\n",
    "- and the `search_fn`: the function `find_relevant_docs()`\n",
    "\n",
    "In a regular situation, though (i.e., not for teaching purposes), I would have programmed everything from scratch using the OOP paradigm.\n",
    "\n",
    "With `DataRetriever` we compile all the functions and data created so far to objects which behave and can be used homogeneously independently of the approaches they contain under the hood."
   ]
  },
  {
   "cell_type": "code",
   "execution_count": 49,
   "id": "af3f885c",
   "metadata": {},
   "outputs": [],
   "source": [
    "from typing import Any, Callable, Optional\n",
    "import numpy as np\n",
    "\n",
    "class DataRetriever:\n",
    "    def __init__(\n",
    "        self,\n",
    "        type: str,\n",
    "        model: Optional[Any] = None,\n",
    "        index: Optional[np.ndarray] = None,\n",
    "        transform_fn: Optional[Callable] = None,\n",
    "        search_fn: Optional[Callable] = None,\n",
    "    ):\n",
    "        self.type = type\n",
    "        self.model = model\n",
    "        self.index = index\n",
    "        self.transform_fn = transform_fn\n",
    "        self.search_fn = search_fn\n",
    "\n",
    "    def transform(self, texts: list[str]) -> np.ndarray:\n",
    "        if not self.transform_fn:\n",
    "            raise NotImplementedError(\"No transform_fn provided\")\n",
    "        return self.transform_fn(texts, self.model)\n",
    "\n",
    "    def search(self, query: str, top_k: int = 3):\n",
    "        if not self.search_fn:\n",
    "            raise NotImplementedError(\"No search_fn provided\")\n",
    "        return self.search_fn(\n",
    "            question=query,\n",
    "            docs_index=self.index,\n",
    "            query_transform_fn=self.transform_fn,\n",
    "            top_k=top_k,\n",
    "            model=self.model,\n",
    "        )"
   ]
  },
  {
   "cell_type": "code",
   "execution_count": 50,
   "id": "27d952df",
   "metadata": {},
   "outputs": [],
   "source": [
    "embedding_retriever = DataRetriever(\n",
    "    type=\"embeddings\",\n",
    "    model=\"text-embedding-ada-002\",\n",
    "    index=emb_index,\n",
    "    transform_fn=compute_embeddings,\n",
    "    search_fn=find_relevant_docs,\n",
    ")\n"
   ]
  },
  {
   "cell_type": "code",
   "execution_count": 51,
   "id": "82b269cd",
   "metadata": {},
   "outputs": [],
   "source": [
    "tfidf_retriever = DataRetriever(\n",
    "    type=\"tfidf\",\n",
    "    model=tfidf_vectorizer,\n",
    "    index=tfidf_index,\n",
    "    transform_fn=compute_tfidf_vectors,\n",
    "    search_fn=find_relevant_docs,\n",
    ")\n"
   ]
  },
  {
   "cell_type": "code",
   "execution_count": 52,
   "id": "a149f908",
   "metadata": {},
   "outputs": [
    {
     "name": "stdout",
     "output_type": "stream",
     "text": [
      "Doc ids:  [ 4  8 22  7 11 20 32  9 10 37]\n",
      "Doc scores:  [0.84867242 0.84331683 0.84155456 0.82104784 0.82098683 0.81432954\n",
      " 0.80767772 0.80485992 0.8043596  0.80227678]\n"
     ]
    }
   ],
   "source": [
    "question = \"When was the first election in Spain in the year 2024 and where was it?\"\n",
    "sorted_emb_doc_ids, sorted_emb_doc_scores = embedding_retriever.search(question, top_k=10)\n",
    "print(\"Doc ids: \", sorted_emb_doc_ids)\n",
    "print(\"Doc scores: \", sorted_emb_doc_scores)"
   ]
  },
  {
   "cell_type": "code",
   "execution_count": 53,
   "id": "af03ee60",
   "metadata": {},
   "outputs": [
    {
     "name": "stdout",
     "output_type": "stream",
     "text": [
      "Doc ids:  [20 34  4 47 25  8 28 19 43 53]\n",
      "Doc scores:  [0.22814876 0.21497481 0.21035795 0.19988001 0.19176061 0.18973069\n",
      " 0.18110756 0.17825591 0.1725383  0.17230717]\n"
     ]
    }
   ],
   "source": [
    "question = \"When was the first election in Spain in the year 2024 and where was it?\"\n",
    "sorted_tfidf_doc_ids, sorted_tfidf_doc_scores = tfidf_retriever.search(question, top_k=10)\n",
    "print(\"Doc ids: \", sorted_tfidf_doc_ids)\n",
    "print(\"Doc scores: \", sorted_tfidf_doc_scores)"
   ]
  },
  {
   "cell_type": "code",
   "execution_count": 54,
   "id": "a1122e7c",
   "metadata": {},
   "outputs": [
    {
     "name": "stdout",
     "output_type": "stream",
     "text": [
      "Doc ids:  [ 4 20  8]\n",
      "Doc scores:  [0.03226646 0.03154496 0.03128055]\n"
     ]
    }
   ],
   "source": [
    "fused_doc_ids, fused_doc_scores = reciprocal_rank_fusion(\n",
    "    results=[(sorted_emb_doc_ids, sorted_emb_doc_scores), (sorted_tfidf_doc_ids, sorted_tfidf_doc_scores)],\n",
    "    k=60,\n",
    "    top_k=3,\n",
    ")\n",
    "print(\"Doc ids: \", fused_doc_ids)\n",
    "print(\"Doc scores: \", fused_doc_scores)"
   ]
  },
  {
   "cell_type": "markdown",
   "id": "ae769871",
   "metadata": {},
   "source": [
    "## Custom Query Completion"
   ]
  },
  {
   "cell_type": "markdown",
   "id": "2432ba9a",
   "metadata": {},
   "source": [
    "Once our retrieval function is working, we need to:\n",
    "\n",
    "- Create a prompt or the instruction passed to the LLM with `create_prompt()`, which injects relevant documents to the prompt,\n",
    "- and `generate_response()` with the created prompt as input.\n",
    "\n",
    "In the latter function, the `completions` API from OpenAI is used.\n",
    "\n",
    "The prompt is an instruction for the generative model where we request to answer the user query using the context of the relevant documents."
   ]
  },
  {
   "cell_type": "markdown",
   "id": "f412e742",
   "metadata": {},
   "source": [
    "### Query Prompt"
   ]
  },
  {
   "cell_type": "code",
   "execution_count": 55,
   "id": "b13f0887",
   "metadata": {},
   "outputs": [],
   "source": [
    "import tiktoken\n",
    "\n",
    "def create_prompt(\n",
    "    question: str,\n",
    "    events_dicts: list[dict],\n",
    "    doc_ids: np.ndarray,\n",
    "    doc_scores: np.ndarray,\n",
    "    max_token_count: int\n",
    ") -> tuple[str, list[int], list[float]]:\n",
    "    \"\"\"\n",
    "    Given a question and a dataframe containing rows of text and their\n",
    "    embeddings, return a text prompt to send to a Completion model\n",
    "    \"\"\"\n",
    "    # Create a tokenizer that is designed to align with our embeddings\n",
    "    # Tiktoken is the official tokenizer for OpenAI models\n",
    "    # GPT-4, GPT-3.5, text-embedding-ada-002 use the same tokenizer: cl100k_base\n",
    "    tokenizer = tiktoken.get_encoding(\"cl100k_base\")\n",
    "    \n",
    "    # Count the number of tokens in the prompt template and question\n",
    "    prompt_template = \"\"\"\n",
    "Answer the question based on the context below, and if the question\n",
    "can't be answered based on the context, say \"I don't know\"\n",
    "\n",
    "Context: \n",
    "\n",
    "{}\n",
    "\n",
    "---\n",
    "\n",
    "Question: {}\n",
    "Answer:\"\"\"\n",
    "    \n",
    "    current_token_count = len(tokenizer.encode(prompt_template)) + \\\n",
    "                            len(tokenizer.encode(question))\n",
    "    \n",
    "    context = []\n",
    "    selected_doc_ids = []\n",
    "    selected_doc_scores = []\n",
    "    for doc_id, score in zip(doc_ids, doc_scores):\n",
    "        # Increase the counter based on the number of tokens in this row\n",
    "        text = events_dicts[doc_id][\"text\"]\n",
    "        text_token_count = len(tokenizer.encode(text))\n",
    "        current_token_count += text_token_count\n",
    "        # Add the row of text to the list if we haven't exceeded the max\n",
    "        if current_token_count <= max_token_count:\n",
    "            context.append(text)\n",
    "            selected_doc_ids.append(int(doc_id))\n",
    "            selected_doc_scores.append(float(score))\n",
    "        else:\n",
    "            break\n",
    "\n",
    "    return prompt_template.format(\"\\n\\n###\\n\\n\".join(context), question), selected_doc_ids, selected_doc_scores"
   ]
  },
  {
   "cell_type": "code",
   "execution_count": 56,
   "id": "4c0aa53a",
   "metadata": {},
   "outputs": [],
   "source": [
    "# Retrieve sorted relevant doc ids\n",
    "question=\"When was the first election in Spain in the year 2024 and where was it?\"\n",
    "sorted_doc_ids, sorted_doc_scores = find_relevant_docs(\n",
    "    question,\n",
    "    emb_index,\n",
    "    query_transform_fn=compute_embeddings,\n",
    "    top_k=None,\n",
    "    embeddings_model_name=\"text-embedding-ada-002\",\n",
    ")\n",
    "\n",
    "# Create prompt\n",
    "prompt, selected_doc_ids, sorted_doc_scores = create_prompt(\n",
    "    question,\n",
    "    docs,\n",
    "    sorted_doc_ids,\n",
    "    sorted_doc_scores,\n",
    "    max_token_count=1000,\n",
    ")"
   ]
  },
  {
   "cell_type": "code",
   "execution_count": 57,
   "id": "78bc047e",
   "metadata": {},
   "outputs": [
    {
     "name": "stdout",
     "output_type": "stream",
     "text": [
      "\n",
      "Answer the question based on the context below, and if the question\n",
      "can't be answered based on the context, say \"I don't know\"\n",
      "\n",
      "Context: \n",
      "\n",
      "Date: 18 February. Event: 2024 Galician regional election. Event context: Alfonso Rueda PP Alfonso Rueda PP A regional election was held in Galicia on Sunday, 18 February 2024, to elect the 12th Parliament of the autonomous community . All 75 seats in the Parliament were up for election. The Parliament of Galicia was the devolved , unicameral legislature of the autonomous community of Galicia , having legislative power in regional matters as defined by the Spanish Constitution and the Galician Statute of Autonomy , as well as the ability to vote confidence in or withdraw it from a regional president . [ 1 ] Voting for the Parliament was on the basis of universal suffrage , which comprised all nationals over 18 years of age, registered in Galicia and in full enjoyment of their political rights. Amendments to the electoral law in 2022 abolished the \"begged\" or expat vote system ( Spanish : Voto rogado ), under which Spaniards abroad were required to apply for voting before being permitted to vote. [ 2 ] The expat vote system was attributed responsibility for a...\n",
      "\n",
      "###\n",
      "\n",
      "Date: 21 April. Event: 2024 Basque regional election. Event context: Iñigo Urkullu EAJ/PNV Imanol Pradales EAJ/PNV A regional election was held in the Basque Country on Sunday, 21 April 2024, to elect the 13th Parliament of the autonomous community . All 75 seats in the Parliament were up for election. This election was the first since 2009 not to see Iñigo Urkullu as the leading candidate of the Basque Nationalist Party (PNV), after the party chose to replace the incumbent Lehendakari with a low profile politician at the provincial level, Imanol Pradales , following 12 years of uninterrupted government. The main opposition, EH Bildu , also ran under a new candidate, Pello Otxandiano , amid speculation that long-time leader Arnaldo Otegi could have led the candidacy following the end of his disqualification from running for public office. All other parliamentary parties but Podemos and Vox also ran under new candidates: Eneko Andueza by the Socialist Party of the Basque Country–Basque Country Left (PSE–EE), Javier de Andrés by the People's Party (PP)—wi...\n",
      "\n",
      "###\n",
      "\n",
      "Date: 11 June. Event: 2024 Spain floods .. Event context: \n",
      "\n",
      "###\n",
      "\n",
      "Date: 20 April. Event: 2024 Anti-tourism protests in Spain : Protests occur in Tenerife , Canary Islands , against mass tourism in the Canary Islands which is allegedly increasing house prices for locals.. Event context: \n",
      "\n",
      "###\n",
      "\n",
      "Date: 12 May. Event: 2024 Catalan regional election : The PSC emerges as the largest party in the Parliament of Catalonia at the expense of separatist parties, who lose their majority.. Event context: Copyright 2025 The Associated Press. All Rights Reserved.  Copyright 2025 The Associated Press. All Rights Reserved. Socialist candidate Salvador Illa makes a toast with members of his team and party colleagues after the announcement of the results of elections to the Catalan parliament in Barcelona, Sunday May 12, 2024. The Socialists led by former health minister Illa won a majority of 42 seats, up from their 33 seats in 2021 when they also barely won the most votes but were unable to form a government. They will still need to earn the backing of other parties to put Illa in charge.(AP Photo/Emilio Morenatti) Socialist candidate Salvador Illa, left, watches early results on TV with other members of the PSC ( Socialist Party of Catalonia ) at the party headquarters in Barcelona, Sunday May 12, 2024. The Socialists led by former health minister Illa won a majority of 42 seats, up from their 33 seats in 2021 when they also barely won the most votes but were unable to form a government. ...\n",
      "\n",
      "---\n",
      "\n",
      "Question: When was the first election in Spain in the year 2024 and where was it?\n",
      "Answer:\n"
     ]
    }
   ],
   "source": [
    "print(prompt)"
   ]
  },
  {
   "cell_type": "code",
   "execution_count": 58,
   "id": "166e3ae1",
   "metadata": {},
   "outputs": [
    {
     "name": "stdout",
     "output_type": "stream",
     "text": [
      "Relevant document IDs: [4, 8, 22, 7, 11]\n",
      "Scores: [0.8486724194247963, 0.8433168291700441, 0.8415545554047703, 0.821047835636741, 0.8209868328215004]\n"
     ]
    }
   ],
   "source": [
    "print(\"Relevant document IDs:\", selected_doc_ids)\n",
    "print(\"Scores:\", sorted_doc_scores)"
   ]
  },
  {
   "cell_type": "markdown",
   "id": "8bab554d",
   "metadata": {},
   "source": [
    "### Query Answering Function"
   ]
  },
  {
   "cell_type": "markdown",
   "id": "d57854a4",
   "metadata": {},
   "source": [
    "The function `ask_question()` is the entrypoint for the user query; there:\n",
    "\n",
    "- the relevant documents are found,\n",
    "- the prompt is created,\n",
    "- and the answer is generated.\n",
    "\n",
    "In addition, we attach the reference URLs of the retrieved documents to increase transparency."
   ]
  },
  {
   "cell_type": "code",
   "execution_count": 59,
   "id": "69fd6158",
   "metadata": {},
   "outputs": [],
   "source": [
    "def generate_response(\n",
    "    prompt: str,\n",
    "    generative_model_name: str = \"gpt-3.5-turbo-instruct\",\n",
    "    openai_client: openai.OpenAI = openai_client,\n",
    "    max_answer_tokens: int = 150\n",
    "):\n",
    "    \"\"\"\n",
    "    Given a question, a dataframe containing rows of text, and a maximum\n",
    "    number of desired tokens in the prompt and response, return the\n",
    "    answer to the question according to an OpenAI Completion model\n",
    "    \n",
    "    If the model produces an error, return an empty string\n",
    "    \"\"\"\n",
    "    try:\n",
    "        response = openai_client.completions.create(\n",
    "            model=generative_model_name,\n",
    "            prompt=prompt,\n",
    "            max_tokens=max_answer_tokens,\n",
    "            temperature=0.7  # optional: defaults to 1.0\n",
    "        )\n",
    "        return response.choices[0].text.strip()\n",
    "    except Exception as e:\n",
    "        print(f\"Error during completion: {e}\")\n",
    "        return \"\""
   ]
  },
  {
   "cell_type": "code",
   "execution_count": 60,
   "id": "6de5173e",
   "metadata": {},
   "outputs": [],
   "source": [
    "all_doc_ids = []\n",
    "all_doc_scores = []\n",
    "for retriever in [embedding_retriever, tfidf_retriever]:\n",
    "    doc_ids, doc_scores = retriever.search(question, top_k=10)\n",
    "    all_doc_ids.append(doc_ids)\n",
    "    all_doc_scores.append(doc_scores)"
   ]
  },
  {
   "cell_type": "code",
   "execution_count": 61,
   "id": "18ad181d",
   "metadata": {},
   "outputs": [
    {
     "data": {
      "text/plain": [
       "(array([ 4,  8, 22, 11,  7, 20, 32,  9, 10, 37]),\n",
       " array([0.84870715, 0.84337021, 0.84166938, 0.82098574, 0.82083877,\n",
       "        0.81455809, 0.80761414, 0.80490625, 0.80407775, 0.80230856]))"
      ]
     },
     "execution_count": 61,
     "metadata": {},
     "output_type": "execute_result"
    }
   ],
   "source": [
    "list(zip(all_doc_ids, all_doc_scores))[0]"
   ]
  },
  {
   "cell_type": "markdown",
   "id": "39f5a468",
   "metadata": {},
   "source": [
    "### Query Pipeline Function"
   ]
  },
  {
   "cell_type": "markdown",
   "id": "fe8fca2b",
   "metadata": {},
   "source": [
    "Finally, we implement here `ask_question()`, which integrates all functions and structures defined so far for the answer generation:\n",
    "\n",
    "- `DataRetriever` objects, which contain:\n",
    "  - The generated vector indices\n",
    "  - Transformation and search functions for retrieval\n",
    "- Retrieval fusion\n",
    "- Prompt creation\n",
    "- Call to the response generation via the `completions` API from OpenAI\n",
    "\n",
    "The same function appends to the generated answer the reference URLs of the selected documents."
   ]
  },
  {
   "cell_type": "code",
   "execution_count": 115,
   "id": "797c05d9",
   "metadata": {},
   "outputs": [],
   "source": [
    "def ask_question(\n",
    "    question: str,\n",
    "    docs: list[dict],\n",
    "    retrievers: Union[DataRetriever, list[DataRetriever]],\n",
    "    use_knowledge_base: bool = True,\n",
    "    max_prompt_tokens: int = 1800,\n",
    "    max_answer_tokens: int = 150,\n",
    "):\n",
    "    # Normalize input into a list\n",
    "    if not isinstance(retrievers, list):\n",
    "        retrievers = [retrievers]\n",
    "\n",
    "    if use_knowledge_base:\n",
    "        # Collect results from all retrievers\n",
    "        all_doc_ids = []\n",
    "        all_doc_scores = []\n",
    "\n",
    "        for retriever in retrievers:\n",
    "            doc_ids, doc_scores = retriever.search(question, top_k=10)\n",
    "            all_doc_ids.append(doc_ids)\n",
    "            all_doc_scores.append(doc_scores)\n",
    "\n",
    "        # Reciprocal Rank Fusion (RRF)\n",
    "        # It works even with the results from one retriever\n",
    "        fused_doc_ids, fused_scores = reciprocal_rank_fusion(\n",
    "            # [(doc_ids, doc_scores), (doc_ids, doc_scores), ...]\n",
    "            results=list(zip(all_doc_ids, all_doc_scores)),\n",
    "            k=60,\n",
    "            top_k=3,\n",
    "        )\n",
    "\n",
    "        # Build the final prompt\n",
    "        prompt, _, _ = create_prompt(\n",
    "            question,\n",
    "            docs,\n",
    "            fused_doc_ids,\n",
    "            fused_scores,\n",
    "            max_token_count=max_prompt_tokens,\n",
    "        )\n",
    "    else:\n",
    "        prompt = f\"Answer the question:\\n\\n{question}\\n\\nAnswer:\"\n",
    "\n",
    "    # Generate answer\n",
    "    answer = generate_response(\n",
    "        prompt=prompt,\n",
    "        max_answer_tokens=max_answer_tokens\n",
    "    )\n",
    "\n",
    "    if use_knowledge_base:\n",
    "        max_references = 2\n",
    "        ref_urls = []\n",
    "        for i in fused_doc_ids[:max_references]:\n",
    "            if docs[i].get(\"reference_urls\"):\n",
    "                ref_urls.extend(docs[i][\"reference_urls\"])\n",
    "        if ref_urls:\n",
    "            answer += \"\\n\\nReference(s):\\n\" + \"\\n\".join(ref_urls)\n",
    "\n",
    "    return answer\n"
   ]
  },
  {
   "cell_type": "code",
   "execution_count": 116,
   "id": "761b2b4a",
   "metadata": {},
   "outputs": [
    {
     "name": "stdout",
     "output_type": "stream",
     "text": [
      "I don't know\n",
      "\n",
      "Reference(s):\n",
      "https://en.wikipedia.org/wiki/2024_Galician_regional_election\n",
      "https://en.wikipedia.org/wiki/2024_European_Parliament_election\n"
     ]
    }
   ],
   "source": [
    "question = \"When was the first election in Spain in the year 2024 and where was it?\"\n",
    "retrievers = [embedding_retriever, tfidf_retriever]\n",
    "#retrievers = embedding_retriever\n",
    "#retrievers = tfidf_retriever\n",
    "response = ask_question(question, docs, retrievers, use_knowledge_base=True)\n",
    "print(response)"
   ]
  },
  {
   "cell_type": "markdown",
   "id": "1783f146",
   "metadata": {},
   "source": [
    "## Custom Performance Demonstration"
   ]
  },
  {
   "cell_type": "markdown",
   "id": "baf92f89",
   "metadata": {},
   "source": [
    "In this section, different aspects of the implemented system are briefly benchmarked:\n",
    "\n",
    "- Which is the difference between using the base model [`gpt-3.5-turbo-instruct`](https://platform.openai.com/docs/models/gpt-3.5-turbo?snapshot=gpt-3.5-turbo-instruct) and the same base model with a context containing query-relevant documents?\n",
    "- Which is the difference between the two embedding models used?\n",
    "- Which are the differences between the implemented retrievers?"
   ]
  },
  {
   "cell_type": "markdown",
   "id": "6d8585e3",
   "metadata": {},
   "source": [
    "### Plain Model vs. RAG-Based Model"
   ]
  },
  {
   "cell_type": "markdown",
   "id": "a75dd7eb",
   "metadata": {},
   "source": [
    "The employed generative **model** [`gpt-3.5-turbo-instruct`](https://platform.openai.com/docs/models/gpt-3.5-turbo?snapshot=gpt-3.5-turbo-instruct) was trained with data up to September 2021.\n",
    "Therefore, it should not have been exposed to any of the 2024 events in Spain.\n",
    "\n",
    "In the following, we run `ask_question()` with two different values of the flag argument `use_knowledge_base`:\n",
    "\n",
    "- `use_knowledge_base=True`: the RAG pattern is used, i.e., the relevant documents aligned with the question are passed to the model and it successfully answers the question.\n",
    "- `use_knowledge_base=False`: none of the documents is passed to the model, so it fails to answer properly."
   ]
  },
  {
   "cell_type": "markdown",
   "id": "4f11fdc0",
   "metadata": {},
   "source": [
    "#### Question 1"
   ]
  },
  {
   "cell_type": "code",
   "execution_count": 117,
   "id": "4901c850",
   "metadata": {},
   "outputs": [],
   "source": [
    "q1 = \"When was the first election in Spain in the year 2024 and where was it?\""
   ]
  },
  {
   "cell_type": "code",
   "execution_count": 118,
   "id": "bd7a093b",
   "metadata": {},
   "outputs": [
    {
     "name": "stdout",
     "output_type": "stream",
     "text": [
      "The first election in Spain in the year 2024 was on Sunday, 18 February in Galicia.\n",
      "\n",
      "Reference(s):\n",
      "https://en.wikipedia.org/wiki/2024_Galician_regional_election\n",
      "https://en.wikipedia.org/wiki/2024_European_Parliament_election\n"
     ]
    }
   ],
   "source": [
    "retrievers = [embedding_retriever, tfidf_retriever]\n",
    "response = ask_question(q1, docs, retrievers, use_knowledge_base=True)\n",
    "print(response)"
   ]
  },
  {
   "cell_type": "code",
   "execution_count": 120,
   "id": "1e9f1ba1",
   "metadata": {},
   "outputs": [
    {
     "name": "stdout",
     "output_type": "stream",
     "text": [
      "There is no way to accurately answer this question as it is impossible to predict the future and the date and location of the first election in Spain in 2024. Elections in Spain typically occur every four years, so the next election in 2024 would likely take place in late spring or early summer. The location of the election would depend on the specific election and the political climate at the time.\n"
     ]
    }
   ],
   "source": [
    "retrievers = [embedding_retriever, tfidf_retriever]\n",
    "response = ask_question(q1, docs, retrievers, use_knowledge_base=False)\n",
    "print(response)"
   ]
  },
  {
   "cell_type": "markdown",
   "id": "6e86e37c",
   "metadata": {},
   "source": [
    "#### Question 2"
   ]
  },
  {
   "cell_type": "code",
   "execution_count": 121,
   "id": "6f646989",
   "metadata": {},
   "outputs": [],
   "source": [
    "q2 = \"How much money did Spain promise to provide to the Ukraine in 2024?\""
   ]
  },
  {
   "cell_type": "code",
   "execution_count": 122,
   "id": "11c07a54",
   "metadata": {},
   "outputs": [
    {
     "name": "stdout",
     "output_type": "stream",
     "text": [
      "1 billion euros ($1.1 billion)\n",
      "\n",
      "Reference(s):\n",
      "https://www.aljazeera.com/news/2024/5/27/spain-pledges-1-billion-euros-of-military-aid-to-ukraine-in-2024\n",
      "https://www.telegraph.co.uk/world-news/2024/06/11/torrential-rain-floods-majorca-airport-spain/\n"
     ]
    }
   ],
   "source": [
    "retrievers = [embedding_retriever, tfidf_retriever]\n",
    "response = ask_question(q2, docs, retrievers, use_knowledge_base=True)\n",
    "print(response)"
   ]
  },
  {
   "cell_type": "code",
   "execution_count": 124,
   "id": "fec30fe7",
   "metadata": {},
   "outputs": [
    {
     "name": "stdout",
     "output_type": "stream",
     "text": [
      "There is no information available about Spain promising to provide money to Ukraine in 2024.\n"
     ]
    }
   ],
   "source": [
    "retrievers = [embedding_retriever, tfidf_retriever]\n",
    "response = ask_question(q2, docs, retrievers, use_knowledge_base=False)\n",
    "print(response)"
   ]
  },
  {
   "cell_type": "markdown",
   "id": "d0753be0",
   "metadata": {},
   "source": [
    "### Differences between Embeddings"
   ]
  },
  {
   "cell_type": "markdown",
   "id": "e7312e73",
   "metadata": {},
   "source": [
    "Selecting the embeddings we want to use depends on several questions:\n",
    "\n",
    "- Are we going to compute them locally or via an API?\n",
    "- How much does it cost to compute them (per 1,000 tokens)?\n",
    "- How well do they represent the underlying texts?\n",
    "- Which is the maximum text length per embedding?\n",
    "- ...\n",
    "\n",
    "In any case, the first step for the selection consists comparing in them it terms of similarity; to that end, cosine similarities between the 54 document embeddings are computed for each embedding model. Then, the correlation between those model similarities are computed.\n",
    "\n",
    "Two correlations are considered:\n",
    "\n",
    "- Pearson: Measures linear correlation between two variables. *\"Do the values lie on a straight line?\"*\n",
    "- Spearman: Measures rank correlation (monotonic relationships). *\"Do the values move in the same order (up or down)?\"*\n",
    "\n",
    "All in all, we can see a correlation above 70%: `Pearson 0.765, Spearman 0.714`."
   ]
  },
  {
   "cell_type": "code",
   "execution_count": 125,
   "id": "2ab113af",
   "metadata": {},
   "outputs": [],
   "source": [
    "import numpy as np\n",
    "import matplotlib.pyplot as plt\n",
    "from scipy.stats import pearsonr, spearmanr"
   ]
  },
  {
   "cell_type": "code",
   "execution_count": 74,
   "id": "15c93c82",
   "metadata": {},
   "outputs": [],
   "source": [
    "def cosine_similarity_matrix(vectors: np.ndarray) -> np.ndarray:\n",
    "    \"\"\"Compute cosine similarity matrix for vectors (n_docs x dim).\"\"\"\n",
    "    norms = np.linalg.norm(vectors, axis=1, keepdims=True)\n",
    "    normalized = vectors / norms\n",
    "    return np.dot(normalized, normalized.T)"
   ]
  },
  {
   "cell_type": "code",
   "execution_count": null,
   "id": "cac77612",
   "metadata": {},
   "outputs": [],
   "source": [
    "embeddings_openai_df = docs_to_embeddings_df(\n",
    "    docs=docs,\n",
    "    embeddings_model_name=\"text-embedding-ada-002\",\n",
    ")\n",
    "embeddings_openai = np.vstack(embeddings_openai_df[\"embedding\"])"
   ]
  },
  {
   "cell_type": "code",
   "execution_count": 90,
   "id": "161d5623",
   "metadata": {},
   "outputs": [
    {
     "data": {
      "text/plain": [
       "(54, 1536)"
      ]
     },
     "execution_count": 90,
     "metadata": {},
     "output_type": "execute_result"
    }
   ],
   "source": [
    "embeddings_openai.shape"
   ]
  },
  {
   "cell_type": "code",
   "execution_count": null,
   "id": "ba940ec1",
   "metadata": {},
   "outputs": [],
   "source": [
    "embeddings_hf_df = docs_to_embeddings_df(\n",
    "    docs=docs,\n",
    "    embeddings_model_name=\"intfloat/e5-large-v2\",\n",
    ")\n",
    "embeddings_hf = np.vstack(embeddings_hf_df[\"embedding\"])"
   ]
  },
  {
   "cell_type": "code",
   "execution_count": 86,
   "id": "f4952ce7",
   "metadata": {},
   "outputs": [
    {
     "data": {
      "text/plain": [
       "(54, 1024)"
      ]
     },
     "execution_count": 86,
     "metadata": {},
     "output_type": "execute_result"
    }
   ],
   "source": [
    "embeddings_hf.shape"
   ]
  },
  {
   "cell_type": "code",
   "execution_count": null,
   "id": "9eaf4468",
   "metadata": {},
   "outputs": [
    {
     "name": "stdout",
     "output_type": "stream",
     "text": [
      "Pearson correlation: 0.765\n",
      "Spearman correlation: 0.714\n"
     ]
    },
    {
     "data": {
      "image/png": "[encoded data removed]",
      "text/plain": [
       "<Figure size 600x600 with 1 Axes>"
      ]
     },
     "metadata": {},
     "output_type": "display_data"
    }
   ],
   "source": [
    "# openai_embeddings: np.ndarray (54 x 1536)\n",
    "# hf_embeddings: np.ndarray (54 x 1024)\n",
    "sim_openai = cosine_similarity_matrix(embeddings_openai)\n",
    "sim_hf = cosine_similarity_matrix(embeddings_hf)\n",
    "\n",
    "# Flatten upper triangles (excluding diagonal)\n",
    "triu_idx = np.triu_indices_from(sim_openai, k=1)\n",
    "vals_openai = sim_openai[triu_idx]\n",
    "vals_hf = sim_hf[triu_idx]\n",
    "\n",
    "# Correlations\n",
    "# Pearson: Measures linear correlation between two variables\n",
    "# Spearman: Measures rank correlation (monotonic relationships)\n",
    "pearson_corr, _ = pearsonr(vals_openai, vals_hf)\n",
    "spearman_corr, _ = spearmanr(vals_openai, vals_hf)\n",
    "print(f\"Pearson correlation: {pearson_corr:.3f}\")\n",
    "print(f\"Spearman correlation: {spearman_corr:.3f}\")\n",
    "\n",
    "# Scatterplot\n",
    "plt.figure(figsize=(6,6))\n",
    "plt.scatter(vals_openai, vals_hf, alpha=0.5, s=10)\n",
    "plt.xlabel(\"OpenAI cosine similarities\")\n",
    "plt.ylabel(\"HF cosine similarities\")\n",
    "plt.title(\"OpenAI vs HuggingFace similarity scatterplot\")\n",
    "plt.grid(True)\n",
    "plt.show()"
   ]
  },
  {
   "cell_type": "markdown",
   "id": "f271b95f",
   "metadata": {},
   "source": [
    "### Differences in Retrieval"
   ]
  },
  {
   "cell_type": "markdown",
   "id": "492f5388",
   "metadata": {},
   "source": [
    "We should also consider how good our retrieval works. Among other metrics, **recall** is often used to evaluate retrievers, which measures the question *is the answer in the returned top-k documents?*.\n",
    "\n",
    "However, we need an annotated dataset to measure recall. Instead, I will compute the **Jaccard** similarity between the top-k documents retrieved sets.\n",
    "The Jaccard similarity between sets is defined as\n",
    "\n",
    "$$\n",
    "J(docs_1, docs_2) = \\frac{|docs_1 \\cap docs_2|}{|docs_1 \\cup docs_2|}\n",
    "$$\n",
    "\n",
    "It ranges in `[0,1]`, where:\n",
    "\n",
    "- `J = 1.0` similarity (0 distance): the sets are identical\n",
    "- `J = 0.0` similarity (1 distance): no overlap\n",
    "\n",
    "Jaccard is an inexpensive alternative to measure the differences between retrievers, specially if we have a reference retriever we know is good enough.\n",
    "\n",
    "After a brief explorative inspection, the OpenAI embeddings seem to lead to good set of retrieved documents.\n",
    "Using the OpenAI embeddings as reference method, the Jaccard similarity of the HF and TFIDF retrievers for the top 5 documents is:\n",
    "\n",
    "- OpenAI vs TFIDF: 0.279\n",
    "- OpenAI vs HF: 0.499"
   ]
  },
  {
   "cell_type": "code",
   "execution_count": null,
   "id": "fabb69a2",
   "metadata": {},
   "outputs": [],
   "source": [
    "events_tfidf_df, tfidf_vectorizer, tfidf_index = docs_to_tfidf_df(docs)"
   ]
  },
  {
   "cell_type": "code",
   "execution_count": 96,
   "id": "7b6de433",
   "metadata": {},
   "outputs": [
    {
     "data": {
      "text/plain": [
       "(54, 2908)"
      ]
     },
     "execution_count": 96,
     "metadata": {},
     "output_type": "execute_result"
    }
   ],
   "source": [
    "tfidf_index.shape"
   ]
  },
  {
   "cell_type": "code",
   "execution_count": 97,
   "id": "4be46ae7",
   "metadata": {},
   "outputs": [],
   "source": [
    "sim_tfidf = cosine_similarity_matrix(tfidf_index)"
   ]
  },
  {
   "cell_type": "code",
   "execution_count": null,
   "id": "c53db874",
   "metadata": {},
   "outputs": [
    {
     "name": "stdout",
     "output_type": "stream",
     "text": [
      "Mean Jaccard overlap@5 (OpenAI vs TFIDF): 0.279\n",
      "Mean Jaccard overlap@5 (OpenAI vs HF): 0.499\n"
     ]
    }
   ],
   "source": [
    "def neighbor_ranks(sim_matrix: np.ndarray) -> np.ndarray:\n",
    "    \"\"\"Return argsort-based ranking for each row (excluding self).\"\"\"\n",
    "    n = sim_matrix.shape[0]\n",
    "    ranks = []\n",
    "    for i in range(n):\n",
    "        # Exclude self\n",
    "        sims = sim_matrix[i].copy()\n",
    "        sims[i] = -np.inf\n",
    "        ranks.append(np.argsort(sims)[::-1])  # descending\n",
    "    return np.array(ranks)\n",
    "\n",
    "def avg_jaccard_topk(sim_ref: np.ndarray, sim_other: np.ndarray, k: int = 5) -> float:\n",
    "    \"\"\"Average Jaccard overlap for top-k neighbors.\"\"\"\n",
    "    ranks_ref = neighbor_ranks(sim_ref)\n",
    "    ranks_other = neighbor_ranks(sim_other)\n",
    "    overlaps = []\n",
    "    for r1, r2 in zip(ranks_ref, ranks_other):\n",
    "        top_ref = set(r1[:k])\n",
    "        top_other = set(r2[:k])\n",
    "        overlaps.append(len(top_ref & top_other) / len(top_ref | top_other))\n",
    "    return np.mean(overlaps)\n",
    "\n",
    "# Metrics\n",
    "mean_jaccard_tfidf = avg_jaccard_topk(sim_openai, sim_tfidf, k=5)\n",
    "mean_jaccard_hf = avg_jaccard_topk(sim_openai, sim_hf, k=5)\n",
    "\n",
    "print(f\"Mean Jaccard overlap@5 (OpenAI vs TFIDF): {mean_jaccard_tfidf:.3f}\")\n",
    "print(f\"Mean Jaccard overlap@5 (OpenAI vs HF): {mean_jaccard_hf:.3f}\")"
   ]
  },
  {
   "cell_type": "code",
   "execution_count": null,
   "id": "5cbf5704",
   "metadata": {},
   "outputs": [],
   "source": []
  }
 ],
 "metadata": {
  "kernelspec": {
   "display_name": "genai",
   "language": "python",
   "name": "python3"
  },
  "language_info": {
   "codemirror_mode": {
    "name": "ipython",
    "version": 3
   },
   "file_extension": ".py",
   "mimetype": "text/x-python",
   "name": "python",
   "nbconvert_exporter": "python",
   "pygments_lexer": "ipython3",
   "version": "3.10.18"
  }
 },
 "nbformat": 4,
 "nbformat_minor": 5
}
