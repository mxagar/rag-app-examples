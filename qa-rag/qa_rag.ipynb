{
 "cells": [
  {
   "cell_type": "markdown",
   "id": "124e5672",
   "metadata": {},
   "source": [
    "# Custom Chatbot"
   ]
  },
  {
   "cell_type": "markdown",
   "id": "2a4a94b3",
   "metadata": {},
   "source": [
    "TODO: In this cell, write an explanation of which dataset you have chosen and why it is appropriate for this task"
   ]
  },
  {
   "cell_type": "code",
   "execution_count": 104,
   "id": "b86ba1ec",
   "metadata": {},
   "outputs": [],
   "source": [
    "import os\n",
    "import dotenv\n",
    "from dotenv import load_dotenv\n",
    "import openai"
   ]
  },
  {
   "cell_type": "code",
   "execution_count": 99,
   "id": "3c6f5a7e",
   "metadata": {},
   "outputs": [
    {
     "data": {
      "text/plain": [
       "True"
      ]
     },
     "execution_count": 99,
     "metadata": {},
     "output_type": "execute_result"
    }
   ],
   "source": [
    "load_dotenv(\".env\")"
   ]
  },
  {
   "cell_type": "code",
   "execution_count": 105,
   "id": "c96d89ea",
   "metadata": {},
   "outputs": [],
   "source": [
    "openai_client = openai.OpenAI(\n",
    "  api_key=os.environ['OPENAI_API_KEY'],\n",
    ")"
   ]
  },
  {
   "cell_type": "markdown",
   "id": "a63d4c5f",
   "metadata": {},
   "source": [
    "## Data Wrangling\n",
    "\n",
    "TODO: In the cells below, load your chosen dataset into a `pandas` dataframe with a column named `\"text\"`. This column should contain all of your text data, separated into at least 20 rows."
   ]
  },
  {
   "cell_type": "markdown",
   "id": "28bce858",
   "metadata": {},
   "source": [
    "### Get the Data"
   ]
  },
  {
   "cell_type": "code",
   "execution_count": 69,
   "id": "5c1b8b2e",
   "metadata": {},
   "outputs": [],
   "source": [
    "import requests\n",
    "from bs4 import BeautifulSoup\n",
    "from urllib.parse import urlparse, urljoin\n",
    "from datetime import datetime\n",
    "from typing import Optional\n",
    "\n",
    "\n",
    "def get_wikipedia_events(url: str) -> list[dict]:\n",
    "    \"\"\"Scrape events from a Wikipedia year-in-country page.\"\"\"\n",
    "    BASE_URL = \"https://en.wikipedia.org\"\n",
    "    HEADERS = {\"User-Agent\": \"Mozilla/5.0\"}\n",
    "\n",
    "    def _clean_event_text(text: str) -> str:\n",
    "        \"\"\"Normalize dashes, remove references like [2], and trim.\"\"\"\n",
    "        # Normalize en dash/em dash to plain ASCII hyphen\n",
    "        text = text.replace(\"\\u2013\", \"-\").replace(\"\\u2014\", \"-\")\n",
    "\n",
    "        # Remove [x] reference markers\n",
    "        import re\n",
    "        text = re.sub(r\"\\[\\s*\\d+\\s*\\]\", \"\", text)\n",
    "        return text.strip()\n",
    "\n",
    "    def _parse_dates(date_str: str, year: int = 2024) -> tuple[datetime.date, Optional[datetime.date]]:\n",
    "        \"\"\"Parse single or span dates into datetime objects.\"\"\"\n",
    "        date_str = date_str.strip()\n",
    "        # Normalize dashes\n",
    "        date_str = date_str.replace(\"\\u2013\", \"-\").replace(\"\\u2014\", \"-\")\n",
    "\n",
    "        if \"-\" in date_str:  # Handle spans like \"30 January-3 February\"\n",
    "            start_str, end_str = [s.strip() for s in date_str.split(\"-\", 1)]\n",
    "            try:\n",
    "                start_date = datetime.strptime(f\"{start_str} {year}\", \"%d %B %Y\").date()\n",
    "            except ValueError:\n",
    "                start_date = None\n",
    "            try:\n",
    "                end_date = datetime.strptime(f\"{end_str} {year}\", \"%d %B %Y\").date()\n",
    "            except ValueError:\n",
    "                end_date = None\n",
    "            return start_date, end_date\n",
    "        else:\n",
    "            try:\n",
    "                start_date = datetime.strptime(f\"{date_str} {year}\", \"%d %B %Y\").date()\n",
    "            except ValueError:\n",
    "                start_date = None\n",
    "            return start_date, None\n",
    "\n",
    "    response = requests.get(url, headers=HEADERS)\n",
    "    response.raise_for_status()\n",
    "    soup = BeautifulSoup(response.text, \"html.parser\")\n",
    "\n",
    "    events = []\n",
    "    events_div = soup.find(\"h2\", id=\"Events\").parent\n",
    "    sibling = events_div.find_next_sibling()\n",
    "\n",
    "    while sibling and not (sibling.name == \"div\" and sibling.find(\"h2\")):\n",
    "        if sibling.name == \"div\" and sibling.find(\"h3\"):  # month header\n",
    "            month = sibling.get_text(strip=True).replace(\"[edit]\", \"\")\n",
    "        elif sibling.name == \"ul\":\n",
    "            for li in sibling.find_all(\"li\", recursive=False):\n",
    "                text_raw = li.get_text(\" \", strip=True)\n",
    "                text_clean = _clean_event_text(text_raw)\n",
    "\n",
    "                # Split into date + event\n",
    "                if \" - \" in text_clean:\n",
    "                    date_text, event_text = text_clean.split(\" - \", 1)\n",
    "                else:\n",
    "                    date_text, event_text = None, text_clean\n",
    "\n",
    "                # Parse dates\n",
    "                date, date_end = _parse_dates(date_text or \"\", year=2024)\n",
    "\n",
    "                refs = [a[\"href\"][1:] for a in li.select(\"sup.reference a[href^='#cite_note']\")]\n",
    "                reference_urls, reference_entities = [], []\n",
    "\n",
    "                # External reference section\n",
    "                for ref in refs:\n",
    "                    ref_li = soup.find(\"li\", id=ref)\n",
    "                    if ref_li:\n",
    "                        link = ref_li.find(\"a\", class_=\"external text\")\n",
    "                        if link:\n",
    "                            url_ref = link[\"href\"]\n",
    "                            reference_urls.append(url_ref)\n",
    "                            reference_entities.append(urlparse(url_ref).netloc.replace(\"www.\", \"\"))\n",
    "\n",
    "                # Fallback: inline links\n",
    "                if not reference_urls:\n",
    "                    for a in li.find_all(\"a\", href=True):\n",
    "                        href = a[\"href\"]\n",
    "                        if href.startswith(\"/wiki/\"):\n",
    "                            url_ref = urljoin(BASE_URL, href)\n",
    "                            reference_urls.append(url_ref)\n",
    "                            reference_entities.append(\"Wikipedia\")\n",
    "\n",
    "                events.append({\n",
    "                    \"month\": month,\n",
    "                    \"date_text\": date_text,\n",
    "                    \"date\": date,\n",
    "                    \"date_end\": date_end,\n",
    "                    \"event\": event_text,\n",
    "                    \"refs\": refs,\n",
    "                    \"reference_urls\": reference_urls,\n",
    "                    \"reference_entities\": reference_entities\n",
    "                })\n",
    "        sibling = sibling.find_next_sibling()\n",
    "\n",
    "    return events\n"
   ]
  },
  {
   "cell_type": "code",
   "execution_count": 74,
   "id": "acb3a9fd",
   "metadata": {},
   "outputs": [
    {
     "name": "stdout",
     "output_type": "stream",
     "text": [
      "Total events found: 54\n",
      "{'month': 'January', 'date_text': '30 January-3 February', 'date': datetime.date(2024, 1, 30), 'date_end': datetime.date(2024, 2, 3), 'event': 'Benidorm Fest 2024 (1st semifinal)', 'refs': ['cite_note-2', 'cite_note-3'], 'reference_urls': ['https://www.formulatv.com/noticias/fechas-benidorm-fest-2024-semifinales-final-123651/', 'https://www.escplus.es/eurovision/2023/los-candidatos-del-benidorm-fest-2024-se-presentaran-en-el-teatro-alameda-a-las-1830-el-proximo-11-de-noviembre/'], 'reference_entities': ['formulatv.com', 'escplus.es']}\n",
      "{'month': 'February', 'date_text': '3 February', 'date': datetime.date(2024, 2, 3), 'date_end': None, 'event': '16th Gaudí Awards in Barcelona , Catalonia', 'refs': ['cite_note-4'], 'reference_urls': ['https://www.lavanguardia.com/vida/20230711/9102019/premios-gaudi-2024-otorgaran-3-febrero-teniendo-cuenta-codigo-conducta.html'], 'reference_entities': ['lavanguardia.com']}\n",
      "{'month': 'February', 'date_text': '9 February', 'date': datetime.date(2024, 2, 9), 'date_end': None, 'event': 'Two police officers are killed and two more are injured after a speedboat suspected of belonging to drug smugglers smashes into their patrol craft in the port of Barbate , Andalusia .', 'refs': ['cite_note-5'], 'reference_urls': ['https://apnews.com/article/spain-police-killed-speed-boat-drugs-barbate-d124bf08455073f471d24718ee49ced8'], 'reference_entities': ['apnews.com']}\n",
      "{'month': 'February', 'date_text': '10 February', 'date': datetime.date(2024, 2, 10), 'date_end': None, 'event': '38th Goya Awards in Valladolid , Castile and León', 'refs': ['cite_note-6'], 'reference_urls': ['https://www.20minutos.es/cinemania/noticias/premios-goya-2024-fecha-valladolid-5142839/'], 'reference_entities': ['20minutos.es']}\n",
      "{'month': 'February', 'date_text': '18 February', 'date': datetime.date(2024, 2, 18), 'date_end': None, 'event': '2024 Galician regional election', 'refs': [], 'reference_urls': ['https://en.wikipedia.org/wiki/2024_Galician_regional_election'], 'reference_entities': ['Wikipedia']}\n",
      "{'month': 'February', 'date_text': '22 February', 'date': datetime.date(2024, 2, 22), 'date_end': None, 'event': '2024 Valencia residential complex fire : At least 10 people are killed in a fire at a 14-storey residential building in Valencia .', 'refs': ['cite_note-7'], 'reference_urls': ['https://apnews.com/article/valencia-fire-spain-fire-e57323a53ece0d24e14ad67a3049ff47'], 'reference_entities': ['apnews.com']}\n",
      "{'month': 'February', 'date_text': '28 February', 'date': datetime.date(2024, 2, 28), 'date_end': None, 'event': 'An investigation is launched into a corruption scandal involving several political figures and allies of Prime Minister Pedro Sanchez .', 'refs': ['cite_note-8'], 'reference_urls': ['https://www.20minutos.es/noticia/5223317/0/todos-los-nombres-investigados-caso-koldo-otros-actores-salpicados/'], 'reference_entities': ['20minutos.es']}\n",
      "{'month': 'April', 'date_text': '20 April', 'date': datetime.date(2024, 4, 20), 'date_end': None, 'event': '2024 Anti-tourism protests in Spain : Protests occur in Tenerife , Canary Islands , against mass tourism in the Canary Islands which is allegedly increasing house prices for locals.', 'refs': ['cite_note-9'], 'reference_urls': ['https://www.reuters.com/world/europe/thousands-protest-spains-canary-islands-over-mass-tourism-2024-04-20/'], 'reference_entities': ['reuters.com']}\n",
      "{'month': 'April', 'date_text': '21 April', 'date': datetime.date(2024, 4, 21), 'date_end': None, 'event': '2024 Basque regional election', 'refs': [], 'reference_urls': ['https://en.wikipedia.org/wiki/2024_Basque_regional_election'], 'reference_entities': ['Wikipedia']}\n",
      "{'month': 'April', 'date_text': '24 April', 'date': datetime.date(2024, 4, 24), 'date_end': None, 'event': 'Prime Minister Pedro Sánchez says that he is considering resigning from office after the launch of a judicial investigation into his wife, Begoña Gómez after accusations by a right-wing legal platform.  On 29 April, Sánchez withdraws his considerations.', 'refs': ['cite_note-10', 'cite_note-11'], 'reference_urls': ['https://apnews.com/article/spain-prime-minister-wife-corruption-allegation-2a0a4ab8f603a5c63106813eec5b5579', 'https://apnews.com/article/spain-pedro-sanchez-future-begona-gomez-f69907e614c0558b9709d09c5d75967c'], 'reference_entities': ['apnews.com', 'apnews.com']}\n"
     ]
    }
   ],
   "source": [
    "# Get events\n",
    "URL = \"https://en.wikipedia.org/wiki/2024_in_Spain\"\n",
    "events = get_wikipedia_events(URL)\n",
    "\n",
    "print(f\"Total events found: {len(events)}\")\n",
    "for e in events[:10]:\n",
    "    print(e)"
   ]
  },
  {
   "cell_type": "code",
   "execution_count": null,
   "id": "95c294cf",
   "metadata": {},
   "outputs": [],
   "source": [
    "import requests\n",
    "from bs4 import BeautifulSoup\n",
    "from tqdm import tqdm\n",
    "\n",
    "def get_event_reference_contents(\n",
    "    events: list[dict],\n",
    "    max_chars: int = 1000,\n",
    "    timeout: int = 10,\n",
    ") -> list[dict]:\n",
    "    \"\"\"\n",
    "    Fetches reference content for each event and adds it as a new field.\n",
    "    \n",
    "    Args:\n",
    "        events (list[dict]): List of event dictionaries.\n",
    "        max_chars (int): Max number of characters to keep from scraped text.\n",
    "        timeout (int): Timeout for HTTP requests.\n",
    "    \n",
    "    Returns:\n",
    "        list[dict]: Enriched events with 'reference_content' field.\n",
    "    \"\"\"\n",
    "    HEADERS = {\"User-Agent\": \"Mozilla/5.0\"}\n",
    "    for e in tqdm(events):\n",
    "        reference_content = []\n",
    "        for url in e.get(\"reference_urls\", []):\n",
    "            try:\n",
    "                resp = requests.get(url, headers=HEADERS, timeout=timeout)\n",
    "                resp.raise_for_status()\n",
    "                soup = BeautifulSoup(resp.text, \"html.parser\")\n",
    "\n",
    "                # Grab visible text (first few paragraphs)\n",
    "                paragraphs = soup.find_all(\"p\")\n",
    "                text = \" \".join(p.get_text(\" \", strip=True) for p in paragraphs)\n",
    "                text = text.replace(\"\\n\", \" \").strip()\n",
    "\n",
    "                # Truncate long text\n",
    "                if len(text) > max_chars:\n",
    "                    text = text[:max_chars] + \"...\"\n",
    "\n",
    "                reference_content.append(text)\n",
    "\n",
    "            except Exception as ex:\n",
    "                reference_content.append(None)\n",
    "\n",
    "        # Join contents if multiple refs\n",
    "        e[\"reference_content\"] = reference_content\n",
    "    \n",
    "    return events\n"
   ]
  },
  {
   "cell_type": "code",
   "execution_count": 76,
   "id": "0a285b36",
   "metadata": {},
   "outputs": [
    {
     "name": "stderr",
     "output_type": "stream",
     "text": [
      "100%|██████████| 54/54 [01:20<00:00,  1.48s/it]\n"
     ]
    }
   ],
   "source": [
    "# Extend event context\n",
    "events_extended = get_event_reference_contents(events)"
   ]
  },
  {
   "cell_type": "code",
   "execution_count": 94,
   "id": "99ff2327",
   "metadata": {},
   "outputs": [
    {
     "data": {
      "text/plain": [
       "{'month': 'January',\n",
       " 'date_text': '30 January-3 February',\n",
       " 'date': datetime.date(2024, 1, 30),\n",
       " 'date_end': datetime.date(2024, 2, 3),\n",
       " 'event': 'Benidorm Fest 2024 (1st semifinal)',\n",
       " 'refs': ['cite_note-2', 'cite_note-3'],\n",
       " 'reference_urls': ['https://www.formulatv.com/noticias/fechas-benidorm-fest-2024-semifinales-final-123651/',\n",
       "  'https://www.escplus.es/eurovision/2023/los-candidatos-del-benidorm-fest-2024-se-presentaran-en-el-teatro-alameda-a-las-1830-el-proximo-11-de-noviembre/'],\n",
       " 'reference_entities': ['formulatv.com', 'escplus.es'],\n",
       " 'reference_content': [\"CALENDARIO Así lo ha confirmado la organización en la rueda de prensa celebrada en Benidorm. Programa relacionado Benidorm Fest 2022 - Act España Concursos Entretenimiento Popularidad: #72 de 2.150 Vídeos FormulaTV 'Traitors: El debate' Programa 2 Tu Cara Me Suena El Debate! Analizamos la gala 6 Nos colamos en la grabación de Cifras y Letras Tu Cara Me Suena El Debate! Analizamos la gala 2 María Bernardeau y Biel Anton nos hablan de FoQ La nueva generación Promo de La familia de la tele La revuelta salta al prime time Velvet: Yon González protagoniza el remake de Telemundo El Benidorm Fest 2024 ya ha dado el pistoletazo de salida con la presentación celebrada en la localidad alicantina. Ahí, el equipo directivo del festival, los responsables de RTVE y las autoridades de la Generalitat Valenciana y Benidorm han avanzado muchas de las novedades de la próxima edición . Algo que generaba mucho interés eran las fechas en las que se celebrará el Benidorm Fest 2024 y ya están claras para que ...\",\n",
       "  'ESCplus España Tu punto de referencia alternativo sobre la música y fiestas de toda Europa, Noticias diarias, opinión, Eurostars, y todo lo relacionado con el festival de Eurovisión y NFs. RTVE por fin resuelve la gran duda de la presentación de los 16 elegidos para la tercera edición del Benidorm Fest 2023, será como ya sabíamos el próximo 11 de noviembre , pero además ya sabemos el lugar y hora exactos: será a las 18:30 en el Teatro Alameda de Sevilla . Además, tendremos la suerte de que ese mismo día, los artistas que optarán a representar a España en Eurovisión el próximo mayo en Malmö estarán presentes , ese día, no concederán entrevistas, tendremos que esperar al día siguiente , en el mismo Teatro, a partir de las 11:00 donde podremos escuchar las primeras palabras de los candidatos que quieres, los que tu quieres. La emisora ha recibido un total de 825 canciones , donde artistas de cualquier índole, género o influencia han podido enviar sus canciones con el objetivo de impulsar ...']}"
      ]
     },
     "execution_count": 94,
     "metadata": {},
     "output_type": "execute_result"
    }
   ],
   "source": [
    "events_extended[0]"
   ]
  },
  {
   "cell_type": "markdown",
   "id": "c05fe3a6",
   "metadata": {},
   "source": [
    "### Persist the Data"
   ]
  },
  {
   "cell_type": "code",
   "execution_count": null,
   "id": "a989fc72",
   "metadata": {},
   "outputs": [],
   "source": [
    "import json\n",
    "from datetime import datetime, date\n",
    "\n",
    "def save_events_to_jsonl(events, path=\"events.jsonl\") -> None:\n",
    "    with open(path, \"w\", encoding=\"utf-8\") as f:\n",
    "        for event in events:\n",
    "            event_copy = event.copy()\n",
    "            # Convert dates to ISO string\n",
    "            for k in [\"date\", \"date_end\"]:\n",
    "                if isinstance(event_copy.get(k), (datetime, date)):\n",
    "                    event_copy[k] = event_copy[k].isoformat()\n",
    "            f.write(json.dumps(event_copy, ensure_ascii=False) + \"\\n\")\n",
    "\n",
    "\n",
    "def load_events_from_jsonl(path=\"events.jsonl\") -> list[dict]:\n",
    "    events = []\n",
    "    with open(path, \"r\", encoding=\"utf-8\") as f:\n",
    "        for line in f:\n",
    "            obj = json.loads(line)\n",
    "            # Parse back dates\n",
    "            for k in [\"date\", \"date_end\"]:\n",
    "                if obj.get(k):\n",
    "                    try:\n",
    "                        obj[k] = datetime.fromisoformat(obj[k]).date()\n",
    "                    except Exception:\n",
    "                        pass\n",
    "            events.append(obj)\n",
    "    return events\n"
   ]
  },
  {
   "cell_type": "code",
   "execution_count": 89,
   "id": "bf2f7ebb",
   "metadata": {},
   "outputs": [],
   "source": [
    "# Save events to file\n",
    "save_events_to_jsonl(events_extended, path=\"data/events_spain_2024.jsonl\")"
   ]
  },
  {
   "cell_type": "code",
   "execution_count": 90,
   "id": "0c50fc14",
   "metadata": {},
   "outputs": [],
   "source": [
    "events_loaded = load_events_from_jsonl(path=\"data/events_spain_2024.jsonl\")"
   ]
  },
  {
   "cell_type": "code",
   "execution_count": 93,
   "id": "b3fe6ae6",
   "metadata": {},
   "outputs": [
    {
     "data": {
      "text/plain": [
       "{'month': 'January',\n",
       " 'date_text': '30 January-3 February',\n",
       " 'date': datetime.date(2024, 1, 30),\n",
       " 'date_end': datetime.date(2024, 2, 3),\n",
       " 'event': 'Benidorm Fest 2024 (1st semifinal)',\n",
       " 'refs': ['cite_note-2', 'cite_note-3'],\n",
       " 'reference_urls': ['https://www.formulatv.com/noticias/fechas-benidorm-fest-2024-semifinales-final-123651/',\n",
       "  'https://www.escplus.es/eurovision/2023/los-candidatos-del-benidorm-fest-2024-se-presentaran-en-el-teatro-alameda-a-las-1830-el-proximo-11-de-noviembre/'],\n",
       " 'reference_entities': ['formulatv.com', 'escplus.es'],\n",
       " 'reference_content': [\"CALENDARIO Así lo ha confirmado la organización en la rueda de prensa celebrada en Benidorm. Programa relacionado Benidorm Fest 2022 - Act España Concursos Entretenimiento Popularidad: #72 de 2.150 Vídeos FormulaTV 'Traitors: El debate' Programa 2 Tu Cara Me Suena El Debate! Analizamos la gala 6 Nos colamos en la grabación de Cifras y Letras Tu Cara Me Suena El Debate! Analizamos la gala 2 María Bernardeau y Biel Anton nos hablan de FoQ La nueva generación Promo de La familia de la tele La revuelta salta al prime time Velvet: Yon González protagoniza el remake de Telemundo El Benidorm Fest 2024 ya ha dado el pistoletazo de salida con la presentación celebrada en la localidad alicantina. Ahí, el equipo directivo del festival, los responsables de RTVE y las autoridades de la Generalitat Valenciana y Benidorm han avanzado muchas de las novedades de la próxima edición . Algo que generaba mucho interés eran las fechas en las que se celebrará el Benidorm Fest 2024 y ya están claras para que ...\",\n",
       "  'ESCplus España Tu punto de referencia alternativo sobre la música y fiestas de toda Europa, Noticias diarias, opinión, Eurostars, y todo lo relacionado con el festival de Eurovisión y NFs. RTVE por fin resuelve la gran duda de la presentación de los 16 elegidos para la tercera edición del Benidorm Fest 2023, será como ya sabíamos el próximo 11 de noviembre , pero además ya sabemos el lugar y hora exactos: será a las 18:30 en el Teatro Alameda de Sevilla . Además, tendremos la suerte de que ese mismo día, los artistas que optarán a representar a España en Eurovisión el próximo mayo en Malmö estarán presentes , ese día, no concederán entrevistas, tendremos que esperar al día siguiente , en el mismo Teatro, a partir de las 11:00 donde podremos escuchar las primeras palabras de los candidatos que quieres, los que tu quieres. La emisora ha recibido un total de 825 canciones , donde artistas de cualquier índole, género o influencia han podido enviar sus canciones con el objetivo de impulsar ...']}"
      ]
     },
     "execution_count": 93,
     "metadata": {},
     "output_type": "execute_result"
    }
   ],
   "source": [
    "events_loaded[0]"
   ]
  },
  {
   "cell_type": "markdown",
   "id": "3491cb7c",
   "metadata": {},
   "source": [
    "### Create the Dataframe with the Embeddings"
   ]
  },
  {
   "cell_type": "code",
   "execution_count": 121,
   "id": "22a182d4",
   "metadata": {},
   "outputs": [],
   "source": [
    "import pandas as pd\n",
    "import numpy as np\n",
    "import ast"
   ]
  },
  {
   "cell_type": "code",
   "execution_count": 125,
   "id": "2be8e9b4",
   "metadata": {},
   "outputs": [],
   "source": [
    "import pandas as pd\n",
    "from openai import OpenAI\n",
    "from typing import Union\n",
    "\n",
    "def compute_embeddings(\n",
    "    texts: Union[str, list[str]],\n",
    "    openai_client: OpenAI,\n",
    "    embeddings_model_name: str = \"text-embedding-ada-002\"\n",
    ") -> list[list[float]]:\n",
    "    \"\"\"\n",
    "    Compute embeddings for a single string or a list of strings using OpenAI.\n",
    "    \n",
    "    Args:\n",
    "        texts: A string or list of strings to embed.\n",
    "        openai_client: An OpenAI client instance.\n",
    "        embeddings_model_name: Model name for embeddings.\n",
    "    \n",
    "    Returns:\n",
    "        List of embeddings (one per input string).\n",
    "    \"\"\"\n",
    "    if isinstance(texts, str):\n",
    "        texts = [texts]\n",
    "\n",
    "    response = openai_client.embeddings.create(\n",
    "        model=embeddings_model_name,\n",
    "        input=texts\n",
    "    )\n",
    "\n",
    "    return [item.embedding for item in response.data]\n",
    "\n",
    "\n",
    "def compute_embeddings_from_df(\n",
    "    df: pd.DataFrame,\n",
    "    openai_client: OpenAI,\n",
    "    embeddings_model_name: str = \"text-embedding-ada-002\",\n",
    "    text_column: str = \"text\",\n",
    "    batch_size: int = 100\n",
    ") -> list[list[float]]:\n",
    "    \"\"\"\n",
    "    Compute embeddings for a dataframe column of text using OpenAI, in batches.\n",
    "    \n",
    "    Args:\n",
    "        df: DataFrame containing text data.\n",
    "        openai_client: OpenAI client instance.\n",
    "        embeddings_model_name: Model name for embeddings.\n",
    "        text_column: Name of the column with text data.\n",
    "        batch_size: Number of rows per batch for embedding computation.\n",
    "    \n",
    "    Returns:\n",
    "        List of embeddings corresponding to each row in the DataFrame.\n",
    "    \"\"\"\n",
    "    embeddings = []\n",
    "    for i in range(0, len(df), batch_size):\n",
    "        batch_texts = df.iloc[i:i + batch_size][text_column].tolist()\n",
    "        batch_embeddings = compute_embeddings(batch_texts, openai_client, embeddings_model_name)\n",
    "        embeddings.extend(batch_embeddings)\n",
    "\n",
    "    return embeddings"
   ]
  },
  {
   "cell_type": "code",
   "execution_count": 126,
   "id": "3b00cada",
   "metadata": {},
   "outputs": [],
   "source": [
    "def create_dataframe_from_events(\n",
    "    events: list[dict],\n",
    "    openai_client: openai.OpenAI,\n",
    ") -> pd.DataFrame:\n",
    "    \"\"\"\n",
    "    Create a DataFrame from events with columns:\n",
    "      - date\n",
    "      - event\n",
    "      - text\n",
    "    And compute embeddings for the `text` column.\n",
    "    \"\"\"\n",
    "    # Build rows\n",
    "    rows = []\n",
    "    for e in events:\n",
    "        date_text = e.get(\"date_text\", \"\")\n",
    "        event_text = e.get(\"event\", \"\")\n",
    "        reference_content = e.get(\"reference_content\", [])\n",
    "\n",
    "        # Ensure reference_content is always a list of strings\n",
    "        if not isinstance(reference_content, list):\n",
    "            reference_content = [str(reference_content)]\n",
    "\n",
    "        text = f\"Date: {date_text}. Event: {event_text}.\"\n",
    "        if reference_content:\n",
    "            ref_texts_valid = [str(rc) for rc in reference_content if rc]\n",
    "            text += f\" Event context: {'. '.join(ref_texts_valid)}\"\n",
    "\n",
    "        rows.append({\n",
    "            \"date\": e.get(\"date\"),\n",
    "            \"event\": event_text,\n",
    "            \"text\": text\n",
    "        })\n",
    "\n",
    "    # Create DataFrame\n",
    "    df = pd.DataFrame(rows)\n",
    "\n",
    "    # Compute embeddings\n",
    "    df[\"embeddings\"] = compute_embeddings_from_df(df, openai_client)\n",
    "\n",
    "    return df\n"
   ]
  },
  {
   "cell_type": "code",
   "execution_count": 127,
   "id": "e3f37096",
   "metadata": {},
   "outputs": [],
   "source": [
    "# Create the dataframe with embeddings\n",
    "df = create_dataframe_from_events(events_extended, openai_client)"
   ]
  },
  {
   "cell_type": "code",
   "execution_count": 128,
   "id": "84fa51b9",
   "metadata": {},
   "outputs": [
    {
     "data": {
      "text/html": [
       "<div>\n",
       "<style scoped>\n",
       "    .dataframe tbody tr th:only-of-type {\n",
       "        vertical-align: middle;\n",
       "    }\n",
       "\n",
       "    .dataframe tbody tr th {\n",
       "        vertical-align: top;\n",
       "    }\n",
       "\n",
       "    .dataframe thead th {\n",
       "        text-align: right;\n",
       "    }\n",
       "</style>\n",
       "<table border=\"1\" class=\"dataframe\">\n",
       "  <thead>\n",
       "    <tr style=\"text-align: right;\">\n",
       "      <th></th>\n",
       "      <th>date</th>\n",
       "      <th>event</th>\n",
       "      <th>text</th>\n",
       "      <th>embeddings</th>\n",
       "    </tr>\n",
       "  </thead>\n",
       "  <tbody>\n",
       "    <tr>\n",
       "      <th>0</th>\n",
       "      <td>2024-01-30</td>\n",
       "      <td>Benidorm Fest 2024 (1st semifinal)</td>\n",
       "      <td>Date: 30 January-3 February. Event: Benidorm F...</td>\n",
       "      <td>[-0.021250776946544647, -0.024269504472613335,...</td>\n",
       "    </tr>\n",
       "    <tr>\n",
       "      <th>1</th>\n",
       "      <td>2024-02-03</td>\n",
       "      <td>16th Gaudí Awards in Barcelona , Catalonia</td>\n",
       "      <td>Date: 3 February. Event: 16th Gaudí Awards in ...</td>\n",
       "      <td>[-0.011150036007165909, 0.006784180179238319, ...</td>\n",
       "    </tr>\n",
       "    <tr>\n",
       "      <th>2</th>\n",
       "      <td>2024-02-09</td>\n",
       "      <td>Two police officers are killed and two more ar...</td>\n",
       "      <td>Date: 9 February. Event: Two police officers a...</td>\n",
       "      <td>[-0.012281500734388828, -0.0061645121313631535...</td>\n",
       "    </tr>\n",
       "    <tr>\n",
       "      <th>3</th>\n",
       "      <td>2024-02-10</td>\n",
       "      <td>38th Goya Awards in Valladolid , Castile and León</td>\n",
       "      <td>Date: 10 February. Event: 38th Goya Awards in ...</td>\n",
       "      <td>[-0.020344838500022888, -0.020213834941387177,...</td>\n",
       "    </tr>\n",
       "    <tr>\n",
       "      <th>4</th>\n",
       "      <td>2024-02-18</td>\n",
       "      <td>2024 Galician regional election</td>\n",
       "      <td>Date: 18 February. Event: 2024 Galician region...</td>\n",
       "      <td>[-0.01590176671743393, -0.0005188596551306546,...</td>\n",
       "    </tr>\n",
       "  </tbody>\n",
       "</table>\n",
       "</div>"
      ],
      "text/plain": [
       "         date                                              event  \\\n",
       "0  2024-01-30                 Benidorm Fest 2024 (1st semifinal)   \n",
       "1  2024-02-03         16th Gaudí Awards in Barcelona , Catalonia   \n",
       "2  2024-02-09  Two police officers are killed and two more ar...   \n",
       "3  2024-02-10  38th Goya Awards in Valladolid , Castile and León   \n",
       "4  2024-02-18                    2024 Galician regional election   \n",
       "\n",
       "                                                text  \\\n",
       "0  Date: 30 January-3 February. Event: Benidorm F...   \n",
       "1  Date: 3 February. Event: 16th Gaudí Awards in ...   \n",
       "2  Date: 9 February. Event: Two police officers a...   \n",
       "3  Date: 10 February. Event: 38th Goya Awards in ...   \n",
       "4  Date: 18 February. Event: 2024 Galician region...   \n",
       "\n",
       "                                          embeddings  \n",
       "0  [-0.021250776946544647, -0.024269504472613335,...  \n",
       "1  [-0.011150036007165909, 0.006784180179238319, ...  \n",
       "2  [-0.012281500734388828, -0.0061645121313631535...  \n",
       "3  [-0.020344838500022888, -0.020213834941387177,...  \n",
       "4  [-0.01590176671743393, -0.0005188596551306546,...  "
      ]
     },
     "execution_count": 128,
     "metadata": {},
     "output_type": "execute_result"
    }
   ],
   "source": [
    "df.head()"
   ]
  },
  {
   "cell_type": "code",
   "execution_count": 129,
   "id": "d3c7106b",
   "metadata": {},
   "outputs": [
    {
     "name": "stdout",
     "output_type": "stream",
     "text": [
      "1536\n"
     ]
    }
   ],
   "source": [
    "# Dimensionality of the embeddings: 1536\n",
    "print(len(df.loc[0, \"embeddings\"]))"
   ]
  },
  {
   "cell_type": "code",
   "execution_count": 130,
   "id": "9c697f29",
   "metadata": {},
   "outputs": [],
   "source": [
    "# Save to CSV\n",
    "df.to_csv(\"data/events_spain_2024_embeddings.csv\")"
   ]
  },
  {
   "cell_type": "code",
   "execution_count": 131,
   "id": "a241434e",
   "metadata": {},
   "outputs": [],
   "source": [
    "# Load from CSV\n",
    "df = pd.read_csv(\"data/events_spain_2024_embeddings.csv\", index_col=0)\n",
    "df[\"embeddings\"] = df[\"embeddings\"].apply(ast.literal_eval)"
   ]
  },
  {
   "cell_type": "code",
   "execution_count": 132,
   "id": "3e7d800c",
   "metadata": {},
   "outputs": [
    {
     "data": {
      "text/html": [
       "<div>\n",
       "<style scoped>\n",
       "    .dataframe tbody tr th:only-of-type {\n",
       "        vertical-align: middle;\n",
       "    }\n",
       "\n",
       "    .dataframe tbody tr th {\n",
       "        vertical-align: top;\n",
       "    }\n",
       "\n",
       "    .dataframe thead th {\n",
       "        text-align: right;\n",
       "    }\n",
       "</style>\n",
       "<table border=\"1\" class=\"dataframe\">\n",
       "  <thead>\n",
       "    <tr style=\"text-align: right;\">\n",
       "      <th></th>\n",
       "      <th>date</th>\n",
       "      <th>event</th>\n",
       "      <th>text</th>\n",
       "      <th>embeddings</th>\n",
       "    </tr>\n",
       "  </thead>\n",
       "  <tbody>\n",
       "    <tr>\n",
       "      <th>0</th>\n",
       "      <td>2024-01-30</td>\n",
       "      <td>Benidorm Fest 2024 (1st semifinal)</td>\n",
       "      <td>Date: 30 January-3 February. Event: Benidorm F...</td>\n",
       "      <td>[-0.021250776946544647, -0.024269504472613335,...</td>\n",
       "    </tr>\n",
       "    <tr>\n",
       "      <th>1</th>\n",
       "      <td>2024-02-03</td>\n",
       "      <td>16th Gaudí Awards in Barcelona , Catalonia</td>\n",
       "      <td>Date: 3 February. Event: 16th Gaudí Awards in ...</td>\n",
       "      <td>[-0.011150036007165909, 0.006784180179238319, ...</td>\n",
       "    </tr>\n",
       "    <tr>\n",
       "      <th>2</th>\n",
       "      <td>2024-02-09</td>\n",
       "      <td>Two police officers are killed and two more ar...</td>\n",
       "      <td>Date: 9 February. Event: Two police officers a...</td>\n",
       "      <td>[-0.012281500734388828, -0.0061645121313631535...</td>\n",
       "    </tr>\n",
       "    <tr>\n",
       "      <th>3</th>\n",
       "      <td>2024-02-10</td>\n",
       "      <td>38th Goya Awards in Valladolid , Castile and León</td>\n",
       "      <td>Date: 10 February. Event: 38th Goya Awards in ...</td>\n",
       "      <td>[-0.020344838500022888, -0.020213834941387177,...</td>\n",
       "    </tr>\n",
       "    <tr>\n",
       "      <th>4</th>\n",
       "      <td>2024-02-18</td>\n",
       "      <td>2024 Galician regional election</td>\n",
       "      <td>Date: 18 February. Event: 2024 Galician region...</td>\n",
       "      <td>[-0.01590176671743393, -0.0005188596551306546,...</td>\n",
       "    </tr>\n",
       "  </tbody>\n",
       "</table>\n",
       "</div>"
      ],
      "text/plain": [
       "         date                                              event  \\\n",
       "0  2024-01-30                 Benidorm Fest 2024 (1st semifinal)   \n",
       "1  2024-02-03         16th Gaudí Awards in Barcelona , Catalonia   \n",
       "2  2024-02-09  Two police officers are killed and two more ar...   \n",
       "3  2024-02-10  38th Goya Awards in Valladolid , Castile and León   \n",
       "4  2024-02-18                    2024 Galician regional election   \n",
       "\n",
       "                                                text  \\\n",
       "0  Date: 30 January-3 February. Event: Benidorm F...   \n",
       "1  Date: 3 February. Event: 16th Gaudí Awards in ...   \n",
       "2  Date: 9 February. Event: Two police officers a...   \n",
       "3  Date: 10 February. Event: 38th Goya Awards in ...   \n",
       "4  Date: 18 February. Event: 2024 Galician region...   \n",
       "\n",
       "                                          embeddings  \n",
       "0  [-0.021250776946544647, -0.024269504472613335,...  \n",
       "1  [-0.011150036007165909, 0.006784180179238319, ...  \n",
       "2  [-0.012281500734388828, -0.0061645121313631535...  \n",
       "3  [-0.020344838500022888, -0.020213834941387177,...  \n",
       "4  [-0.01590176671743393, -0.0005188596551306546,...  "
      ]
     },
     "execution_count": 132,
     "metadata": {},
     "output_type": "execute_result"
    }
   ],
   "source": [
    "df.head()"
   ]
  },
  {
   "cell_type": "markdown",
   "id": "ae769871",
   "metadata": {},
   "source": [
    "## Custom Query Completion\n",
    "\n",
    "TODO: In the cells below, compose a custom query using your chosen dataset and retrieve results from an OpenAI `Completion` model. You may copy and paste any useful code from the course materials."
   ]
  },
  {
   "cell_type": "code",
   "execution_count": null,
   "id": "f412e742",
   "metadata": {},
   "outputs": [],
   "source": []
  },
  {
   "cell_type": "code",
   "execution_count": null,
   "id": "9a832d48",
   "metadata": {},
   "outputs": [
    {
     "name": "stdout",
     "output_type": "stream",
     "text": [
      "Total events found: 54\n",
      "{'month': 'January', 'date_text': '30 January-3 February', 'date': datetime.date(2024, 1, 30), 'date_end': datetime.date(2024, 2, 3), 'event': 'Benidorm Fest 2024 (1st semifinal)', 'refs': ['cite_note-2', 'cite_note-3'], 'reference_urls': ['https://www.formulatv.com/noticias/fechas-benidorm-fest-2024-semifinales-final-123651/', 'https://www.escplus.es/eurovision/2023/los-candidatos-del-benidorm-fest-2024-se-presentaran-en-el-teatro-alameda-a-las-1830-el-proximo-11-de-noviembre/'], 'reference_entities': ['formulatv.com', 'escplus.es']}\n",
      "{'month': 'February', 'date_text': '3 February', 'date': datetime.date(2024, 2, 3), 'date_end': None, 'event': '16th Gaudí Awards in Barcelona , Catalonia', 'refs': ['cite_note-4'], 'reference_urls': ['https://www.lavanguardia.com/vida/20230711/9102019/premios-gaudi-2024-otorgaran-3-febrero-teniendo-cuenta-codigo-conducta.html'], 'reference_entities': ['lavanguardia.com']}\n",
      "{'month': 'February', 'date_text': '9 February', 'date': datetime.date(2024, 2, 9), 'date_end': None, 'event': 'Two police officers are killed and two more are injured after a speedboat suspected of belonging to drug smugglers smashes into their patrol craft in the port of Barbate , Andalusia .', 'refs': ['cite_note-5'], 'reference_urls': ['https://apnews.com/article/spain-police-killed-speed-boat-drugs-barbate-d124bf08455073f471d24718ee49ced8'], 'reference_entities': ['apnews.com']}\n",
      "{'month': 'February', 'date_text': '10 February', 'date': datetime.date(2024, 2, 10), 'date_end': None, 'event': '38th Goya Awards in Valladolid , Castile and León', 'refs': ['cite_note-6'], 'reference_urls': ['https://www.20minutos.es/cinemania/noticias/premios-goya-2024-fecha-valladolid-5142839/'], 'reference_entities': ['20minutos.es']}\n",
      "{'month': 'February', 'date_text': '18 February', 'date': datetime.date(2024, 2, 18), 'date_end': None, 'event': '2024 Galician regional election', 'refs': [], 'reference_urls': ['https://en.wikipedia.org/wiki/2024_Galician_regional_election'], 'reference_entities': ['Wikipedia']}\n",
      "{'month': 'February', 'date_text': '22 February', 'date': datetime.date(2024, 2, 22), 'date_end': None, 'event': '2024 Valencia residential complex fire : At least 10 people are killed in a fire at a 14-storey residential building in Valencia .', 'refs': ['cite_note-7'], 'reference_urls': ['https://apnews.com/article/valencia-fire-spain-fire-e57323a53ece0d24e14ad67a3049ff47'], 'reference_entities': ['apnews.com']}\n",
      "{'month': 'February', 'date_text': '28 February', 'date': datetime.date(2024, 2, 28), 'date_end': None, 'event': 'An investigation is launched into a corruption scandal involving several political figures and allies of Prime Minister Pedro Sanchez .', 'refs': ['cite_note-8'], 'reference_urls': ['https://www.20minutos.es/noticia/5223317/0/todos-los-nombres-investigados-caso-koldo-otros-actores-salpicados/'], 'reference_entities': ['20minutos.es']}\n",
      "{'month': 'April', 'date_text': '20 April', 'date': datetime.date(2024, 4, 20), 'date_end': None, 'event': '2024 Anti-tourism protests in Spain : Protests occur in Tenerife , Canary Islands , against mass tourism in the Canary Islands which is allegedly increasing house prices for locals.', 'refs': ['cite_note-9'], 'reference_urls': ['https://www.reuters.com/world/europe/thousands-protest-spains-canary-islands-over-mass-tourism-2024-04-20/'], 'reference_entities': ['reuters.com']}\n",
      "{'month': 'April', 'date_text': '21 April', 'date': datetime.date(2024, 4, 21), 'date_end': None, 'event': '2024 Basque regional election', 'refs': [], 'reference_urls': ['https://en.wikipedia.org/wiki/2024_Basque_regional_election'], 'reference_entities': ['Wikipedia']}\n",
      "{'month': 'April', 'date_text': '24 April', 'date': datetime.date(2024, 4, 24), 'date_end': None, 'event': 'Prime Minister Pedro Sánchez says that he is considering resigning from office after the launch of a judicial investigation into his wife, Begoña Gómez after accusations by a right-wing legal platform.  On 29 April, Sánchez withdraws his considerations.', 'refs': ['cite_note-10', 'cite_note-11'], 'reference_urls': ['https://apnews.com/article/spain-prime-minister-wife-corruption-allegation-2a0a4ab8f603a5c63106813eec5b5579', 'https://apnews.com/article/spain-pedro-sanchez-future-begona-gomez-f69907e614c0558b9709d09c5d75967c'], 'reference_entities': ['apnews.com', 'apnews.com']}\n"
     ]
    }
   ],
   "source": []
  },
  {
   "cell_type": "markdown",
   "id": "1783f146",
   "metadata": {},
   "source": [
    "## Custom Performance Demonstration\n",
    "\n",
    "TODO: In the cells below, demonstrate the performance of your custom query using at least 2 questions. For each question, show the answer from a basic `Completion` model query as well as the answer from your custom query."
   ]
  },
  {
   "cell_type": "markdown",
   "id": "4f11fdc0",
   "metadata": {},
   "source": [
    "### Question 1"
   ]
  },
  {
   "cell_type": "code",
   "execution_count": null,
   "id": "4901c850",
   "metadata": {},
   "outputs": [],
   "source": []
  },
  {
   "cell_type": "code",
   "execution_count": null,
   "id": "bd7a093b",
   "metadata": {},
   "outputs": [],
   "source": []
  },
  {
   "cell_type": "markdown",
   "id": "6e86e37c",
   "metadata": {},
   "source": [
    "### Question 2"
   ]
  },
  {
   "cell_type": "code",
   "execution_count": null,
   "id": "6f646989",
   "metadata": {},
   "outputs": [],
   "source": []
  },
  {
   "cell_type": "code",
   "execution_count": null,
   "id": "11c07a54",
   "metadata": {},
   "outputs": [],
   "source": []
  }
 ],
 "metadata": {
  "kernelspec": {
   "display_name": "genai",
   "language": "python",
   "name": "python3"
  },
  "language_info": {
   "codemirror_mode": {
    "name": "ipython",
    "version": 3
   },
   "file_extension": ".py",
   "mimetype": "text/x-python",
   "name": "python",
   "nbconvert_exporter": "python",
   "pygments_lexer": "ipython3",
   "version": "3.10.18"
  }
 },
 "nbformat": 4,
 "nbformat_minor": 5
}
